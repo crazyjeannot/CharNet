{
 "cells": [
  {
   "cell_type": "code",
   "execution_count": 130,
   "metadata": {},
   "outputs": [],
   "source": [
    "import pandas as pd\n",
    "import numpy as np\n",
    "from glob import glob\n",
    "from tqdm.notebook import tqdm\n",
    "from collections import Counter"
   ]
  },
  {
   "cell_type": "code",
   "execution_count": 244,
   "metadata": {},
   "outputs": [],
   "source": [
    "#path_name = \"corpus_chapitre/*.txt\"\n",
    "path_name = \"corpus_test/*.txt\"\n",
    "path_test = \"corpus_test/1811_Chateaubriand-François-Rene-de_Oeuvres-completes__predictions.txt\""
   ]
  },
  {
   "cell_type": "code",
   "execution_count": 248,
   "metadata": {},
   "outputs": [],
   "source": [
    "def get_preds(path_name):\n",
    "    str_base = '_'\n",
    "    list_lines = []\n",
    "    with open(path_name, 'r', encoding='utf-8') as test:\n",
    "        lines = test.read().splitlines() \n",
    "        for line in lines:\n",
    "            tokens = line.split(' ', 2)\n",
    "            list_lines.append(tokens)\n",
    "    df_preds = pd.DataFrame(list_lines, columns = ['Token', 'Tag', 'Head_tag'])\n",
    "    temp = str(path_name).split(\"_\")[2:4]\n",
    "    df_preds.to_csv(r'data/'+str_base.join(temp)+'.csv')\n",
    "    return df_preds"
   ]
  },
  {
   "cell_type": "code",
   "execution_count": 249,
   "metadata": {},
   "outputs": [],
   "source": [
    "def mouli_preds(path_name):\n",
    "    for doc in tqdm(glob(path_name)):\n",
    "        print(doc)\n",
    "        df = get_preds(doc)\n",
    "    return df"
   ]
  },
  {
   "cell_type": "code",
   "execution_count": 250,
   "metadata": {},
   "outputs": [
    {
     "data": {
      "application/vnd.jupyter.widget-view+json": {
       "model_id": "ee37d115cecb4ec19b377bbaefdc3814",
       "version_major": 2,
       "version_minor": 0
      },
      "text/plain": [
       "  0%|          | 0/6 [00:00<?, ?it/s]"
      ]
     },
     "metadata": {},
     "output_type": "display_data"
    },
    {
     "name": "stdout",
     "output_type": "stream",
     "text": [
      "corpus_test\\1811_Chateaubriand-François-Rene-de_Oeuvres-completes__predictions.txt\n",
      "corpus_test\\1812_Kock-Paul-de_L-enfant-de-ma-femme__predictions.txt\n",
      "corpus_test\\1815_Gay-Sophie_Anatole_Vol-1__predictions.txt\n",
      "corpus_test\\1815_Gay-Sophie_Anatole_Vol-2__predictions.txt\n",
      "corpus_test\\1816_Barthelemy-Hadot-Marie-Adelaide_La-Vierge-de-l-Indostan-ou-les-Portugais-au-Malabar_(Tome-1)__predictions.txt\n",
      "corpus_test\\1816_Barthelemy-Hadot-Marie-Adelaide_La-Vierge-de-l-Indostan-ou-les-Portugais-au-Malabar_(Tome-2)__predictions.txt\n"
     ]
    }
   ],
   "source": [
    "df_main = mouli_preds(path_name)"
   ]
  },
  {
   "cell_type": "code",
   "execution_count": 213,
   "metadata": {},
   "outputs": [],
   "source": [
    "def get_df_PER(df):\n",
    "    df_BPER = df[df['Tag'] == 'B-PER']\n",
    "    df_IPER = df[df['Tag'] == 'I-PER']\n",
    "    df_EPER = df[df['Tag'] == 'E-PER']\n",
    "    df_SPER = df[df['Tag'] == 'S-PER']\n",
    "    \n",
    "    df_PER_1 = pd.concat([df_BPER, df_IPER])\n",
    "    df_PER_2 = pd.concat([df_EPER, df_SPER])\n",
    "    \n",
    "    df_PER = pd.concat([df_PER_1, df_PER_2])\n",
    "    return df_PER.sort_index(ascending=True, inplace=True)"
   ]
  },
  {
   "cell_type": "code",
   "execution_count": 144,
   "metadata": {},
   "outputs": [],
   "source": [
    "def get_counter(list_tag, N):\n",
    "    list_elem_cleared = [elem for elem in list_tag if elem is not None]\n",
    "    return Counter(list_elem_cleared).most_common(N)"
   ]
  },
  {
   "cell_type": "code",
   "execution_count": 158,
   "metadata": {},
   "outputs": [],
   "source": [
    "dict_mention = get_counter(list(df_PER['Head_tag']), 100)"
   ]
  },
  {
   "cell_type": "code",
   "execution_count": 223,
   "metadata": {},
   "outputs": [],
   "source": [
    "df_mention_roman = pd.DataFrame(dict_mention, columns=['mention', 'count'])"
   ]
  },
  {
   "cell_type": "code",
   "execution_count": null,
   "metadata": {},
   "outputs": [],
   "source": []
  },
  {
   "cell_type": "code",
   "execution_count": null,
   "metadata": {},
   "outputs": [],
   "source": []
  },
  {
   "cell_type": "code",
   "execution_count": 214,
   "metadata": {},
   "outputs": [],
   "source": [
    "path_name = \"data/*.csv\"\n",
    "path_test = \"data_test/*.csv\""
   ]
  },
  {
   "cell_type": "code",
   "execution_count": null,
   "metadata": {},
   "outputs": [],
   "source": [
    "def get_mention(df_courant, N):\n",
    "    df_PER = get_df_PER(df_courant)\n",
    "    dict_mention = get_counter(list(df_PER['Head_tag']), N)\n",
    "    df_mention_roman = pd.DataFrame(dict_mention, columns=['mention', 'count'])    \n",
    "    for mention in list(df_mention_roman['mention']):\n",
    "        if mention is in list(df_courant['Head_tag']):\n",
    "            df_mentionned = df_courant[df_courant['Head_tag'] == mention]\n",
    "            "
   ]
  },
  {
   "cell_type": "code",
   "execution_count": 254,
   "metadata": {},
   "outputs": [],
   "source": [
    "df_mentionned = df_main[df_main['Head_tag'] == \"<Florestan-3>\"]"
   ]
  },
  {
   "cell_type": "code",
   "execution_count": 226,
   "metadata": {},
   "outputs": [
    {
     "ename": "SyntaxError",
     "evalue": "unexpected EOF while parsing (<ipython-input-226-73de6c49eecf>, line 2)",
     "output_type": "error",
     "traceback": [
      "\u001b[1;36m  File \u001b[1;32m\"<ipython-input-226-73de6c49eecf>\"\u001b[1;36m, line \u001b[1;32m2\u001b[0m\n\u001b[1;33m    \u001b[0m\n\u001b[1;37m    ^\u001b[0m\n\u001b[1;31mSyntaxError\u001b[0m\u001b[1;31m:\u001b[0m unexpected EOF while parsing\n"
     ]
    }
   ],
   "source": [
    "def get_indexes(df_mentionned, df_courant):\n",
    "    "
   ]
  },
  {
   "cell_type": "code",
   "execution_count": null,
   "metadata": {},
   "outputs": [],
   "source": [
    "get_indexes(df_mentionned, df_main)"
   ]
  },
  {
   "cell_type": "code",
   "execution_count": null,
   "metadata": {},
   "outputs": [],
   "source": []
  },
  {
   "cell_type": "code",
   "execution_count": null,
   "metadata": {},
   "outputs": [],
   "source": []
  },
  {
   "cell_type": "code",
   "execution_count": 212,
   "metadata": {},
   "outputs": [],
   "source": [
    "def mouli_preds(path_name, N):\n",
    "    for doc in tqdm(glob(path_name)):\n",
    "        df_courant = pd.read_csv(doc)\n",
    "        get_mention(df_courant, N)\n",
    "        \n",
    "        "
   ]
  },
  {
   "cell_type": "code",
   "execution_count": null,
   "metadata": {},
   "outputs": [],
   "source": [
    "mouli_preds(path_test, 100)"
   ]
  }
 ],
 "metadata": {
  "kernelspec": {
   "display_name": "Python 3",
   "language": "python",
   "name": "python3"
  },
  "language_info": {
   "codemirror_mode": {
    "name": "ipython",
    "version": 3
   },
   "file_extension": ".py",
   "mimetype": "text/x-python",
   "name": "python",
   "nbconvert_exporter": "python",
   "pygments_lexer": "ipython3",
   "version": "3.8.3"
  }
 },
 "nbformat": 4,
 "nbformat_minor": 4
}
