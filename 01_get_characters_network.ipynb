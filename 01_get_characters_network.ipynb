{
 "cells": [
  {
   "cell_type": "code",
   "execution_count": 42,
   "metadata": {},
   "outputs": [],
   "source": [
    "import pandas as pd\n",
    "import numpy as np\n",
    "from glob import glob\n",
    "from tqdm.notebook import tqdm\n",
    "from collections import Counter\n",
    "import json"
   ]
  },
  {
   "cell_type": "code",
   "execution_count": 88,
   "metadata": {},
   "outputs": [],
   "source": [
    "def get_df_PER(df):\n",
    "    df_PER_1 = df[df['Tag'] == 'B-PER']\n",
    "    df_PER_2 = df[df['Tag'] == 'S-PER']\n",
    "    \n",
    "    df_PER = pd.concat([df_PER_1, df_PER_2])\n",
    "    df_PER = df_PER.sort_index(ascending=True)\n",
    "    return df_PER"
   ]
  },
  {
   "cell_type": "code",
   "execution_count": 181,
   "metadata": {},
   "outputs": [],
   "source": [
    "def get_counter(list_tag, N):\n",
    "    list_elem_cleared = [elem for elem in list_tag if elem is not None]\n",
    "    return Counter(list_elem_cleared).most_common(N)"
   ]
  },
  {
   "cell_type": "code",
   "execution_count": 122,
   "metadata": {},
   "outputs": [],
   "source": [
    "def get_N_surronding_tokens(index, df_courant, N):\n",
    "    list_token = []\n",
    "    list_mention_token = []\n",
    "    list_head_token = []\n",
    "    \n",
    "    for index_mention in index:\n",
    "        if index_mention > N:\n",
    "            for i in range(index_mention-N, index_mention+N):\n",
    "                if i < len(df_courant):\n",
    "                    if df_courant.loc[[i]]['Token'].values[0] is not None:\n",
    "                        list_token.append(df_courant.loc[[i]]['Token'].values[0])\n",
    "                        list_mention_token.append(df_courant.loc[[i]]['Tag'].values[0])\n",
    "                        list_head_token.append(df_courant.loc[[i]]['Head_tag'].values[0])\n",
    "        else:\n",
    "            for i in range(index_mention, index_mention+N):\n",
    "                if df_courant.loc[[i]]['Token'].values[0] is not None:\n",
    "                    list_token.append(df_courant.loc[[i]]['Token'].values[0])\n",
    "                    list_mention_token.append(df_courant.loc[[i]]['Tag'].values[0])\n",
    "                    list_head_token.append(df_courant.loc[[i]]['Head_tag'].values[0])\n",
    "\n",
    "    return list_token, list_mention_token, list_head_token"
   ]
  },
  {
   "cell_type": "code",
   "execution_count": 132,
   "metadata": {},
   "outputs": [],
   "source": [
    "def get_PER_surrounding(list_mention_token, list_head_token):\n",
    "    list_surronding_PER = []\n",
    "    for i in range(len(list_mention_token)):\n",
    "        if list_mention_token[i] == 'B-PER' or list_mention_token[i] == 'S-PER':\n",
    "            list_surronding_PER.append(list_head_token[i])\n",
    "    return list_surronding_PER"
   ]
  },
  {
   "cell_type": "code",
   "execution_count": 187,
   "metadata": {},
   "outputs": [],
   "source": [
    "def get_dict_surronding_PER(df_courant, N_PER, N_token):\n",
    "    dict_surronding_PER = {}\n",
    "    df_PER = get_df_PER(df_courant)\n",
    "    dict_mention = get_counter(list(df_PER['Head_tag']), N_PER)\n",
    "    df_mention_roman = pd.DataFrame(dict_mention, columns=['mention', 'count'])\n",
    "\n",
    "    list_mention = list(df_mention_roman['mention'])\n",
    "    for i in range(1, len(list_mention)):# exit nan value\n",
    "        # get_index_mention w/ PER preds\n",
    "        df_mentionned = df_courant[df_courant['Head_tag'] == list_mention[i]]\n",
    "        index = df_mentionned.index\n",
    "        # get N surronding tokens (useful for topic modelling, later), mention_tokens (BIES), head_mention_tokens (head coref mention)\n",
    "        list_surronding_token, list_surronding_mention_token, list_surronding_head_token = get_N_surronding_tokens(index, df_courant, N_token)\n",
    "        # get head mention if mention is B or S-PER \n",
    "        list_surronding_PER = get_PER_surrounding(list_surronding_mention_token, list_surronding_head_token)\n",
    "        #dict_surronding_PER[list_mention[i]+'_'+str(i)] = list_surronding_PER\n",
    "        # dict_mention is counter so no need to have numbered mention\n",
    "        dict_surronding_PER[list_mention[i]] = list_surronding_PER\n",
    "        \n",
    "    return dict_surronding_PER, df_mention_roman        "
   ]
  },
  {
   "cell_type": "code",
   "execution_count": 189,
   "metadata": {},
   "outputs": [],
   "source": [
    "def mouli_preds(path_name, N_PER, N_token):\n",
    "    str_base = '_'\n",
    "    for doc in tqdm(glob(path_name)):\n",
    "        print(doc)\n",
    "        df_courant = pd.read_csv(doc)\n",
    "        dict_surronding_PER, df_mention_PER = get_dict_surronding_PER(df_courant, N_PER, N_token)\n",
    "                \n",
    "        temp = doc.split('\\\\')[1].split('.')[0]\n",
    "        \n",
    "        df_mention_PER.to_csv(r'res_mention_PER/'+temp+'.csv',  encoding='utf-8', index=False)\n",
    "        \n",
    "        df_surronding_PER = pd.DataFrame.from_dict(dict_surronding_PER, orient='index')\n",
    "\n",
    "        df_surronding_PER = df_surronding_PER.transpose()\n",
    "        df_surronding_PER.to_csv(r'res_surronding_PER/'+temp+'.csv',  encoding='utf-8', index=False)\n",
    "        \n",
    "        \n",
    "    return df_surronding_PER, df_mention_PER"
   ]
  },
  {
   "cell_type": "code",
   "execution_count": 185,
   "metadata": {},
   "outputs": [],
   "source": [
    "path_name = \"data/*.csv\"\n",
    "path_test = \"data_test/*.csv\"\n",
    "N_PER = 10\n",
    "N_token = 50"
   ]
  },
  {
   "cell_type": "code",
   "execution_count": 188,
   "metadata": {},
   "outputs": [
    {
     "data": {
      "application/vnd.jupyter.widget-view+json": {
       "model_id": "6d6aeeaf3a7f451f89845b3e6aa2bda0",
       "version_major": 2,
       "version_minor": 0
      },
      "text/plain": [
       "  0%|          | 0/1 [00:00<?, ?it/s]"
      ]
     },
     "metadata": {},
     "output_type": "display_data"
    },
    {
     "name": "stdout",
     "output_type": "stream",
     "text": [
      "data_test\\Balzac-Honore-de_Eugenie-Grandet.csv\n",
      "9\n"
     ]
    }
   ],
   "source": [
    "df_test = mouli_preds(path_test, N_PER, N_token)"
   ]
  },
  {
   "cell_type": "code",
   "execution_count": null,
   "metadata": {},
   "outputs": [],
   "source": []
  }
 ],
 "metadata": {
  "kernelspec": {
   "display_name": "Python 3",
   "language": "python",
   "name": "python3"
  },
  "language_info": {
   "codemirror_mode": {
    "name": "ipython",
    "version": 3
   },
   "file_extension": ".py",
   "mimetype": "text/x-python",
   "name": "python",
   "nbconvert_exporter": "python",
   "pygments_lexer": "ipython3",
   "version": "3.8.3"
  }
 },
 "nbformat": 4,
 "nbformat_minor": 4
}
