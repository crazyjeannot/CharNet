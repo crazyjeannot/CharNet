{
 "cells": [
  {
   "cell_type": "code",
   "execution_count": 1,
   "metadata": {},
   "outputs": [],
   "source": [
    "import numpy as np\n",
    "import pandas as pd\n",
    "import plotly.graph_objects as go\n",
    "import networkx as nx\n",
    "import plotly.offline as py\n",
    "from collections import Counter"
   ]
  },
  {
   "cell_type": "code",
   "execution_count": 176,
   "metadata": {},
   "outputs": [],
   "source": [
    "N_link = 10 # N is the number of relations of a character (enables us to delete low relationship)"
   ]
  },
  {
   "cell_type": "markdown",
   "metadata": {},
   "source": [
    "### Load data & Convert to graph format "
   ]
  },
  {
   "cell_type": "code",
   "execution_count": 184,
   "metadata": {},
   "outputs": [
    {
     "name": "stderr",
     "output_type": "stream",
     "text": [
      "/tmp/ipykernel_51726/3578804121.py:1: DtypeWarning:\n",
      "\n",
      "Columns (1,2,3,4,5,6,7,8,9,10,11,12,13,14,15,16,17,18) have mixed types. Specify dtype option on import or set low_memory=False.\n",
      "\n"
     ]
    }
   ],
   "source": [
    "df_surronding_PER = pd.read_csv(r'res_surronding_PER/1869_Flaubert-Gustave_L-Education-sentimentale.csv') # df surronding PER"
   ]
  },
  {
   "cell_type": "code",
   "execution_count": 185,
   "metadata": {},
   "outputs": [
    {
     "data": {
      "text/html": [
       "<div>\n",
       "<style scoped>\n",
       "    .dataframe tbody tr th:only-of-type {\n",
       "        vertical-align: middle;\n",
       "    }\n",
       "\n",
       "    .dataframe tbody tr th {\n",
       "        vertical-align: top;\n",
       "    }\n",
       "\n",
       "    .dataframe thead th {\n",
       "        text-align: right;\n",
       "    }\n",
       "</style>\n",
       "<table border=\"1\" class=\"dataframe\">\n",
       "  <thead>\n",
       "    <tr style=\"text-align: right;\">\n",
       "      <th></th>\n",
       "      <th>&lt;Frédéric&gt;</th>\n",
       "      <th>&lt;Arnoux&gt;</th>\n",
       "      <th>&lt;Deslauriers&gt;</th>\n",
       "      <th>&lt;Mme Arnoux&gt;</th>\n",
       "      <th>&lt;Rosanette&gt;</th>\n",
       "      <th>&lt;Hussonnet&gt;</th>\n",
       "      <th>&lt;Pellerin&gt;</th>\n",
       "      <th>&lt;!Frédéric&gt;</th>\n",
       "      <th>&lt;Sénécal&gt;</th>\n",
       "      <th>&lt;Ils&gt;</th>\n",
       "      <th>&lt;ils&gt;</th>\n",
       "      <th>&lt;M . Dambreuse&gt;</th>\n",
       "      <th>&lt;Regimbart&gt;</th>\n",
       "      <th>&lt;elle&gt;</th>\n",
       "      <th>&lt;!Il&gt;</th>\n",
       "      <th>&lt;Martinon&gt;</th>\n",
       "      <th>&lt;Mlle Roque&gt;</th>\n",
       "      <th>&lt;on&gt;</th>\n",
       "      <th>&lt;la Maréchale&gt;</th>\n",
       "    </tr>\n",
       "  </thead>\n",
       "  <tbody>\n",
       "    <tr>\n",
       "      <th>0</th>\n",
       "      <td>&lt;plusieurs&gt;</td>\n",
       "      <td>&lt;une jeune dame et un jeune homme&gt;</td>\n",
       "      <td>&lt;Deslauriers qui&gt;</td>\n",
       "      <td>&lt;ils&gt;</td>\n",
       "      <td>&lt;Mme Rosanette l'&gt;</td>\n",
       "      <td>&lt;on&gt;</td>\n",
       "      <td>&lt;Les confrères absents&gt;</td>\n",
       "      <td>&lt;Deslauriers&gt;</td>\n",
       "      <td>&lt;Sylvio&gt;</td>\n",
       "      <td>&lt;Frédéric&gt;</td>\n",
       "      <td>&lt;Frédéric&gt;</td>\n",
       "      <td>&lt;son mari&gt;</td>\n",
       "      <td>&lt;Arnoux&gt;</td>\n",
       "      <td>&lt;Un jeune homme de dix - huit ans&gt;</td>\n",
       "      <td>&lt;Ils&gt;</td>\n",
       "      <td>&lt;Ségur , Dupeyron et Mauroy&gt;</td>\n",
       "      <td>&lt;Deslauriers&gt;</td>\n",
       "      <td>&lt;Frédéric&gt;</td>\n",
       "      <td>&lt;les dames , posées au bord des chaises&gt;</td>\n",
       "    </tr>\n",
       "    <tr>\n",
       "      <th>1</th>\n",
       "      <td>&lt;trois ébénistes , en blouse&gt;</td>\n",
       "      <td>&lt;un jeune homme&gt;</td>\n",
       "      <td>&lt;Deslauriers qui&gt;</td>\n",
       "      <td>&lt;ils&gt;</td>\n",
       "      <td>&lt;Mme Rosanette l'&gt;</td>\n",
       "      <td>&lt;on&gt;</td>\n",
       "      <td>&lt;On&gt;</td>\n",
       "      <td>&lt;M . Dambreuse&gt;</td>\n",
       "      <td>&lt;ils&gt;</td>\n",
       "      <td>&lt;Frédéric&gt;</td>\n",
       "      <td>&lt;Frédéric&gt;</td>\n",
       "      <td>&lt;Mme Moreau&gt;</td>\n",
       "      <td>&lt;Arnoux&gt;</td>\n",
       "      <td>&lt;Un jeune homme de dix - huit ans&gt;</td>\n",
       "      <td>&lt;Ils&gt;</td>\n",
       "      <td>&lt;Dupeyron et Mauroy&gt;</td>\n",
       "      <td>&lt;Deslauriers&gt;</td>\n",
       "      <td>&lt;Frédéric&gt;</td>\n",
       "      <td>&lt;les dames , posées au bord des chaises&gt;</td>\n",
       "    </tr>\n",
       "    <tr>\n",
       "      <th>2</th>\n",
       "      <td>&lt;un joueur de harpe en haillons&gt;</td>\n",
       "      <td>&lt;La petite fille&gt;</td>\n",
       "      <td>&lt;du Christ&gt;</td>\n",
       "      <td>&lt;ils&gt;</td>\n",
       "      <td>&lt;Mme Rosanette l'&gt;</td>\n",
       "      <td>&lt;on&gt;</td>\n",
       "      <td>&lt;Les confrères absents&gt;</td>\n",
       "      <td>&lt;Rastignac&gt;</td>\n",
       "      <td>&lt;ils&gt;</td>\n",
       "      <td>&lt;Frédéric&gt;</td>\n",
       "      <td>&lt;Frédéric&gt;</td>\n",
       "      <td>&lt;M . Gamblin lui&gt;</td>\n",
       "      <td>&lt;Arnoux&gt;</td>\n",
       "      <td>&lt;Un jeune homme de dix - huit ans&gt;</td>\n",
       "      <td>&lt;Ils&gt;</td>\n",
       "      <td>&lt;Mauroy&gt;</td>\n",
       "      <td>&lt;Deslauriers&gt;</td>\n",
       "      <td>&lt;Frédéric&gt;</td>\n",
       "      <td>&lt;Frédéric l'&gt;</td>\n",
       "    </tr>\n",
       "    <tr>\n",
       "      <th>3</th>\n",
       "      <td>&lt;un joueur de harpe en haillons&gt;</td>\n",
       "      <td>&lt;lui&gt;</td>\n",
       "      <td>&lt;Deslauriers qui&gt;</td>\n",
       "      <td>&lt;Mme Arnoux&gt;</td>\n",
       "      <td>&lt;Frédéric&gt;</td>\n",
       "      <td>&lt;un petit jeune homme qui&gt;</td>\n",
       "      <td>&lt;tous&gt;</td>\n",
       "      <td>&lt;M . Dambreuse&gt;</td>\n",
       "      <td>&lt;ils&gt;</td>\n",
       "      <td>&lt;Frédéric&gt;</td>\n",
       "      <td>&lt;Frédéric&gt;</td>\n",
       "      <td>&lt;M . Gamblin lui&gt;</td>\n",
       "      <td>&lt;Arnoux&gt;</td>\n",
       "      <td>&lt;M . Frédéric Moreau&gt;</td>\n",
       "      <td>&lt;ils&gt;</td>\n",
       "      <td>&lt;ils&gt;</td>\n",
       "      <td>&lt;Deslauriers&gt;</td>\n",
       "      <td>&lt;Frédéric&gt;</td>\n",
       "      <td>&lt;Mme Dambreuse les&gt;</td>\n",
       "    </tr>\n",
       "    <tr>\n",
       "      <th>4</th>\n",
       "      <td>&lt;le capitaine&gt;</td>\n",
       "      <td>&lt;Frédéric&gt;</td>\n",
       "      <td>&lt;Froissart , Commines , Pierre de l' Estoile&gt;</td>\n",
       "      <td>&lt;ils&gt;</td>\n",
       "      <td>&lt;Frédéric&gt;</td>\n",
       "      <td>&lt;on&gt;</td>\n",
       "      <td>&lt;un homme de taille moyenne&gt;</td>\n",
       "      <td>&lt;Deslauriers&gt;</td>\n",
       "      <td>&lt;ils&gt;</td>\n",
       "      <td>&lt;une petite fille&gt;</td>\n",
       "      <td>&lt;ils&gt;</td>\n",
       "      <td>&lt;Mme Moreau&gt;</td>\n",
       "      <td>&lt;Arnoux&gt;</td>\n",
       "      <td>&lt;Un jeune homme de dix - huit ans&gt;</td>\n",
       "      <td>&lt;ils&gt;</td>\n",
       "      <td>&lt;Buloz&gt;</td>\n",
       "      <td>&lt;Deslauriers&gt;</td>\n",
       "      <td>&lt;ils&gt;</td>\n",
       "      <td>&lt;Frédéric l'&gt;</td>\n",
       "    </tr>\n",
       "    <tr>\n",
       "      <th>...</th>\n",
       "      <td>...</td>\n",
       "      <td>...</td>\n",
       "      <td>...</td>\n",
       "      <td>...</td>\n",
       "      <td>...</td>\n",
       "      <td>...</td>\n",
       "      <td>...</td>\n",
       "      <td>...</td>\n",
       "      <td>...</td>\n",
       "      <td>...</td>\n",
       "      <td>...</td>\n",
       "      <td>...</td>\n",
       "      <td>...</td>\n",
       "      <td>...</td>\n",
       "      <td>...</td>\n",
       "      <td>...</td>\n",
       "      <td>...</td>\n",
       "      <td>...</td>\n",
       "      <td>...</td>\n",
       "    </tr>\n",
       "    <tr>\n",
       "      <th>40285</th>\n",
       "      <td>&lt;Rosanette&gt;</td>\n",
       "      <td>NaN</td>\n",
       "      <td>NaN</td>\n",
       "      <td>NaN</td>\n",
       "      <td>NaN</td>\n",
       "      <td>NaN</td>\n",
       "      <td>NaN</td>\n",
       "      <td>NaN</td>\n",
       "      <td>NaN</td>\n",
       "      <td>NaN</td>\n",
       "      <td>NaN</td>\n",
       "      <td>NaN</td>\n",
       "      <td>NaN</td>\n",
       "      <td>NaN</td>\n",
       "      <td>NaN</td>\n",
       "      <td>NaN</td>\n",
       "      <td>NaN</td>\n",
       "      <td>NaN</td>\n",
       "      <td>NaN</td>\n",
       "    </tr>\n",
       "    <tr>\n",
       "      <th>40286</th>\n",
       "      <td>&lt;Rosanette&gt;</td>\n",
       "      <td>NaN</td>\n",
       "      <td>NaN</td>\n",
       "      <td>NaN</td>\n",
       "      <td>NaN</td>\n",
       "      <td>NaN</td>\n",
       "      <td>NaN</td>\n",
       "      <td>NaN</td>\n",
       "      <td>NaN</td>\n",
       "      <td>NaN</td>\n",
       "      <td>NaN</td>\n",
       "      <td>NaN</td>\n",
       "      <td>NaN</td>\n",
       "      <td>NaN</td>\n",
       "      <td>NaN</td>\n",
       "      <td>NaN</td>\n",
       "      <td>NaN</td>\n",
       "      <td>NaN</td>\n",
       "      <td>NaN</td>\n",
       "    </tr>\n",
       "    <tr>\n",
       "      <th>40287</th>\n",
       "      <td>&lt;Mme Arnoux&gt;</td>\n",
       "      <td>NaN</td>\n",
       "      <td>NaN</td>\n",
       "      <td>NaN</td>\n",
       "      <td>NaN</td>\n",
       "      <td>NaN</td>\n",
       "      <td>NaN</td>\n",
       "      <td>NaN</td>\n",
       "      <td>NaN</td>\n",
       "      <td>NaN</td>\n",
       "      <td>NaN</td>\n",
       "      <td>NaN</td>\n",
       "      <td>NaN</td>\n",
       "      <td>NaN</td>\n",
       "      <td>NaN</td>\n",
       "      <td>NaN</td>\n",
       "      <td>NaN</td>\n",
       "      <td>NaN</td>\n",
       "      <td>NaN</td>\n",
       "    </tr>\n",
       "    <tr>\n",
       "      <th>40288</th>\n",
       "      <td>&lt;Mme Arnoux&gt;</td>\n",
       "      <td>NaN</td>\n",
       "      <td>NaN</td>\n",
       "      <td>NaN</td>\n",
       "      <td>NaN</td>\n",
       "      <td>NaN</td>\n",
       "      <td>NaN</td>\n",
       "      <td>NaN</td>\n",
       "      <td>NaN</td>\n",
       "      <td>NaN</td>\n",
       "      <td>NaN</td>\n",
       "      <td>NaN</td>\n",
       "      <td>NaN</td>\n",
       "      <td>NaN</td>\n",
       "      <td>NaN</td>\n",
       "      <td>NaN</td>\n",
       "      <td>NaN</td>\n",
       "      <td>NaN</td>\n",
       "      <td>NaN</td>\n",
       "    </tr>\n",
       "    <tr>\n",
       "      <th>40289</th>\n",
       "      <td>&lt;Rosanette&gt;</td>\n",
       "      <td>NaN</td>\n",
       "      <td>NaN</td>\n",
       "      <td>NaN</td>\n",
       "      <td>NaN</td>\n",
       "      <td>NaN</td>\n",
       "      <td>NaN</td>\n",
       "      <td>NaN</td>\n",
       "      <td>NaN</td>\n",
       "      <td>NaN</td>\n",
       "      <td>NaN</td>\n",
       "      <td>NaN</td>\n",
       "      <td>NaN</td>\n",
       "      <td>NaN</td>\n",
       "      <td>NaN</td>\n",
       "      <td>NaN</td>\n",
       "      <td>NaN</td>\n",
       "      <td>NaN</td>\n",
       "      <td>NaN</td>\n",
       "    </tr>\n",
       "  </tbody>\n",
       "</table>\n",
       "<p>40290 rows × 19 columns</p>\n",
       "</div>"
      ],
      "text/plain": [
       "                             <Frédéric>                            <Arnoux>  \\\n",
       "0                           <plusieurs>  <une jeune dame et un jeune homme>   \n",
       "1         <trois ébénistes , en blouse>                    <un jeune homme>   \n",
       "2      <un joueur de harpe en haillons>                   <La petite fille>   \n",
       "3      <un joueur de harpe en haillons>                               <lui>   \n",
       "4                        <le capitaine>                          <Frédéric>   \n",
       "...                                 ...                                 ...   \n",
       "40285                       <Rosanette>                                 NaN   \n",
       "40286                       <Rosanette>                                 NaN   \n",
       "40287                      <Mme Arnoux>                                 NaN   \n",
       "40288                      <Mme Arnoux>                                 NaN   \n",
       "40289                       <Rosanette>                                 NaN   \n",
       "\n",
       "                                       <Deslauriers>  <Mme Arnoux>  \\\n",
       "0                                  <Deslauriers qui>         <ils>   \n",
       "1                                  <Deslauriers qui>         <ils>   \n",
       "2                                        <du Christ>         <ils>   \n",
       "3                                  <Deslauriers qui>  <Mme Arnoux>   \n",
       "4      <Froissart , Commines , Pierre de l' Estoile>         <ils>   \n",
       "...                                              ...           ...   \n",
       "40285                                            NaN           NaN   \n",
       "40286                                            NaN           NaN   \n",
       "40287                                            NaN           NaN   \n",
       "40288                                            NaN           NaN   \n",
       "40289                                            NaN           NaN   \n",
       "\n",
       "              <Rosanette>                 <Hussonnet>  \\\n",
       "0      <Mme Rosanette l'>                        <on>   \n",
       "1      <Mme Rosanette l'>                        <on>   \n",
       "2      <Mme Rosanette l'>                        <on>   \n",
       "3              <Frédéric>  <un petit jeune homme qui>   \n",
       "4              <Frédéric>                        <on>   \n",
       "...                   ...                         ...   \n",
       "40285                 NaN                         NaN   \n",
       "40286                 NaN                         NaN   \n",
       "40287                 NaN                         NaN   \n",
       "40288                 NaN                         NaN   \n",
       "40289                 NaN                         NaN   \n",
       "\n",
       "                         <Pellerin>      <!Frédéric> <Sénécal>  \\\n",
       "0           <Les confrères absents>    <Deslauriers>  <Sylvio>   \n",
       "1                              <On>  <M . Dambreuse>     <ils>   \n",
       "2           <Les confrères absents>      <Rastignac>     <ils>   \n",
       "3                            <tous>  <M . Dambreuse>     <ils>   \n",
       "4      <un homme de taille moyenne>    <Deslauriers>     <ils>   \n",
       "...                             ...              ...       ...   \n",
       "40285                           NaN              NaN       NaN   \n",
       "40286                           NaN              NaN       NaN   \n",
       "40287                           NaN              NaN       NaN   \n",
       "40288                           NaN              NaN       NaN   \n",
       "40289                           NaN              NaN       NaN   \n",
       "\n",
       "                    <Ils>       <ils>    <M . Dambreuse> <Regimbart>  \\\n",
       "0              <Frédéric>  <Frédéric>         <son mari>    <Arnoux>   \n",
       "1              <Frédéric>  <Frédéric>       <Mme Moreau>    <Arnoux>   \n",
       "2              <Frédéric>  <Frédéric>  <M . Gamblin lui>    <Arnoux>   \n",
       "3              <Frédéric>  <Frédéric>  <M . Gamblin lui>    <Arnoux>   \n",
       "4      <une petite fille>       <ils>       <Mme Moreau>    <Arnoux>   \n",
       "...                   ...         ...                ...         ...   \n",
       "40285                 NaN         NaN                NaN         NaN   \n",
       "40286                 NaN         NaN                NaN         NaN   \n",
       "40287                 NaN         NaN                NaN         NaN   \n",
       "40288                 NaN         NaN                NaN         NaN   \n",
       "40289                 NaN         NaN                NaN         NaN   \n",
       "\n",
       "                                   <elle>  <!Il>  \\\n",
       "0      <Un jeune homme de dix - huit ans>  <Ils>   \n",
       "1      <Un jeune homme de dix - huit ans>  <Ils>   \n",
       "2      <Un jeune homme de dix - huit ans>  <Ils>   \n",
       "3                   <M . Frédéric Moreau>  <ils>   \n",
       "4      <Un jeune homme de dix - huit ans>  <ils>   \n",
       "...                                   ...    ...   \n",
       "40285                                 NaN    NaN   \n",
       "40286                                 NaN    NaN   \n",
       "40287                                 NaN    NaN   \n",
       "40288                                 NaN    NaN   \n",
       "40289                                 NaN    NaN   \n",
       "\n",
       "                         <Martinon>   <Mlle Roque>        <on>  \\\n",
       "0      <Ségur , Dupeyron et Mauroy>  <Deslauriers>  <Frédéric>   \n",
       "1              <Dupeyron et Mauroy>  <Deslauriers>  <Frédéric>   \n",
       "2                          <Mauroy>  <Deslauriers>  <Frédéric>   \n",
       "3                             <ils>  <Deslauriers>  <Frédéric>   \n",
       "4                           <Buloz>  <Deslauriers>       <ils>   \n",
       "...                             ...            ...         ...   \n",
       "40285                           NaN            NaN         NaN   \n",
       "40286                           NaN            NaN         NaN   \n",
       "40287                           NaN            NaN         NaN   \n",
       "40288                           NaN            NaN         NaN   \n",
       "40289                           NaN            NaN         NaN   \n",
       "\n",
       "                                 <la Maréchale>  \n",
       "0      <les dames , posées au bord des chaises>  \n",
       "1      <les dames , posées au bord des chaises>  \n",
       "2                                 <Frédéric l'>  \n",
       "3                           <Mme Dambreuse les>  \n",
       "4                                 <Frédéric l'>  \n",
       "...                                         ...  \n",
       "40285                                       NaN  \n",
       "40286                                       NaN  \n",
       "40287                                       NaN  \n",
       "40288                                       NaN  \n",
       "40289                                       NaN  \n",
       "\n",
       "[40290 rows x 19 columns]"
      ]
     },
     "execution_count": 185,
     "metadata": {},
     "output_type": "execute_result"
    }
   ],
   "source": [
    "df_surronding_PER"
   ]
  },
  {
   "cell_type": "code",
   "execution_count": 186,
   "metadata": {},
   "outputs": [],
   "source": [
    "# network as get dict of dict"
   ]
  },
  {
   "cell_type": "code",
   "execution_count": 187,
   "metadata": {},
   "outputs": [],
   "source": [
    "def get_dict_of_dict(df_res, N_link):\n",
    "    dict_res = {}\n",
    "    for column_perso in df_res.columns:\n",
    "        dict_res[column_perso] = dict(Counter(df_res[column_perso]).most_common(N))\n",
    "    return dict_res"
   ]
  },
  {
   "cell_type": "code",
   "execution_count": 188,
   "metadata": {},
   "outputs": [],
   "source": [
    "dict_surronding_PER = get_dict_of_dict(df_surronding_PER.dropna(), N)"
   ]
  },
  {
   "cell_type": "code",
   "execution_count": 189,
   "metadata": {},
   "outputs": [
    {
     "data": {
      "text/plain": [
       "{'<Frédéric>': {'<Frédéric>': 1871,\n",
       "  '<une petite fille>': 359,\n",
       "  '<:Elle>': 196,\n",
       "  '<Le Capitaine>': 176,\n",
       "  '<Ils>': 83,\n",
       "  '<leurs>': 58,\n",
       "  '<La petite fille>': 56,\n",
       "  \"<Une négresse , coiffée d' un foulard>\": 55,\n",
       "  \"<Deslauriers l'>\": 46,\n",
       "  '<Arnoux>': 37},\n",
       " '<Arnoux>': {'<Arnoux>': 1393,\n",
       "  '<Frédéric>': 182,\n",
       "  '<du NationalLe National>': 137,\n",
       "  '<Mlle Marthe>': 117,\n",
       "  \"<Arnoux l'>\": 97,\n",
       "  '<un homme de taille moyenne>': 70,\n",
       "  \"<l' illustre Pierre - Paul Meinsius>\": 65,\n",
       "  '<La petite fille>': 58,\n",
       "  '<Hussonnet>': 57,\n",
       "  '<lui>': 55},\n",
       " '<Deslauriers>': {'<Deslauriers>': 1709,\n",
       "  '<M . Dambreuse>': 249,\n",
       "  \"<l'>\": 193,\n",
       "  '<!Frédéric>': 99,\n",
       "  '<le tailleur>': 96,\n",
       "  '<Mme Arnoux>': 84,\n",
       "  '<notre>': 76,\n",
       "  '<ils>': 72,\n",
       "  '<les Dambreuse>': 64,\n",
       "  \"<Arnoux l'>\": 56},\n",
       " '<Mme Arnoux>': {'<Mme Arnoux>': 1506,\n",
       "  \"<l'>\": 313,\n",
       "  \"<Arnoux l'>\": 297,\n",
       "  '<!Frédéric>': 237,\n",
       "  '<Martinon>': 163,\n",
       "  '<Deslauriers>': 87,\n",
       "  '<au juif Isaac>': 53,\n",
       "  '<ces hommes>': 49,\n",
       "  '<Pellerin>': 45,\n",
       "  '<Rosenwald>': 37},\n",
       " '<Rosanette>': {'<Rosanette>': 853,\n",
       "  '<Arnoux>': 692,\n",
       "  '<Delmar>': 279,\n",
       "  '<Pellerin>': 214,\n",
       "  '<Hussonnet>': 190,\n",
       "  '<Frédéric>': 60,\n",
       "  '<Clubstick>': 55,\n",
       "  '<- vous>': 53,\n",
       "  '<on>': 50,\n",
       "  '<une dame>': 43},\n",
       " '<Hussonnet>': {'<Hussonnet>': 1198,\n",
       "  \"<la marquise d' Amaëgui>\": 244,\n",
       "  '<Une jeune fille>': 136,\n",
       "  '<?Dussardier leur>': 123,\n",
       "  '<Mlle Vatnaz>': 103,\n",
       "  '<!Dussardier>': 94,\n",
       "  '<un petit jeune homme qui>': 90,\n",
       "  '<Martinon>': 88,\n",
       "  '<une jeune femme>': 83,\n",
       "  '<un beau jeune homme>': 74},\n",
       " '<Pellerin>': {'<Pellerin>': 1274,\n",
       "  '<Frédéric>': 349,\n",
       "  \"<Molière , l'>\": 175,\n",
       "  '<Un jeune homme>': 88,\n",
       "  '<ils>': 81,\n",
       "  '<Hussonnet>': 77,\n",
       "  '<Regimbart>': 76,\n",
       "  \"<Frédéric l'>\": 75,\n",
       "  '<Mme Arnoux>': 57,\n",
       "  '<du cocher>': 56},\n",
       " '<!Frédéric>': {'<!Frédéric>': 1737,\n",
       "  '<Mme Arnoux>': 275,\n",
       "  '<une vieille dame habillée de noir>': 243,\n",
       "  '<Mlle Vatnaz>': 175,\n",
       "  '<Deslauriers>': 169,\n",
       "  '<celle - là>': 57,\n",
       "  '<Delphine>': 53,\n",
       "  '<Nous y>': 49,\n",
       "  '<il>': 47,\n",
       "  '<Frédéric>': 36},\n",
       " '<Sénécal>': {'<Sénécal>': 1553,\n",
       "  '<Mme Arnoux>': 540,\n",
       "  '<Deslauriers>': 122,\n",
       "  \"<Rosanette l'>\": 94,\n",
       "  \"<un inconnu l'>\": 76,\n",
       "  '<ils>': 70,\n",
       "  '<Cisy>': 58,\n",
       "  '<deux personnes>': 55,\n",
       "  '<Mlle Marthe>': 35,\n",
       "  '<des hommes en blouse>': 34},\n",
       " '<Ils>': {'<Ils>': 1089,\n",
       "  '<Frédéric>': 213,\n",
       "  '<Lovarias>': 113,\n",
       "  '<Mme Arnoux>': 111,\n",
       "  '<Rosanette>': 99,\n",
       "  '<ils>': 91,\n",
       "  '<des amis>': 71,\n",
       "  '<une fille en chapeau de paille>': 64,\n",
       "  '<!Il>': 60,\n",
       "  '<Deslauriers qui>': 58},\n",
       " '<ils>': {'<ils>': 1462,\n",
       "  '<Hussonnet>': 114,\n",
       "  '<Sylvio>': 112,\n",
       "  '<!Il>': 107,\n",
       "  '<Ils>': 86,\n",
       "  '<chaque femme qui>': 86,\n",
       "  '<Deslauriers>': 84,\n",
       "  '<Pellerin>': 83,\n",
       "  \"<quelqu' un>\": 70,\n",
       "  '<Une négresse>': 55},\n",
       " '<M . Dambreuse>': {'<M . Dambreuse>': 1342,\n",
       "  '<Deslauriers>': 246,\n",
       "  '<Arnoux>': 103,\n",
       "  '<?Elle>': 91,\n",
       "  '<Nous>': 70,\n",
       "  '<Mlle Cécile>': 60,\n",
       "  '<elle>': 52,\n",
       "  '<Regimbart>': 52,\n",
       "  '<- vous>': 52,\n",
       "  '<Mme Moreau>': 51},\n",
       " '<Regimbart>': {'<Regimbart>': 1664,\n",
       "  '<Arnoux>': 443,\n",
       "  '<Frédéric>': 218,\n",
       "  '<Pellerin>': 166,\n",
       "  '<Vautier>': 117,\n",
       "  '<Deslauriers>': 108,\n",
       "  '<Elle>': 73,\n",
       "  '<du NationalLe National>': 66,\n",
       "  '<ces gens qui>': 54,\n",
       "  '<du jeune Eugène>': 43},\n",
       " '<elle>': {'<elle>': 1284,\n",
       "  '<Mme Arnoux>': 407,\n",
       "  '<Il me>': 370,\n",
       "  '<Arnoux>': 367,\n",
       "  '<Regimbart>': 81,\n",
       "  '<Delmar ,>': 75,\n",
       "  '<le PapePie IX>': 69,\n",
       "  '<M . Dambreuse>': 50,\n",
       "  '<les>': 30,\n",
       "  '<Sénécal>': 29},\n",
       " '<!Il>': {'<!Il>': 1764,\n",
       "  '<Mme Arnoux>': 221,\n",
       "  '<une forme>': 149,\n",
       "  '<Catherine>': 125,\n",
       "  '<ils>': 100,\n",
       "  '<Mme Moreau>': 83,\n",
       "  \"<Une petite fille d' environ douze ans>\": 54,\n",
       "  \"<Catherine l'>\": 54,\n",
       "  '<Mme Eléonore>': 53,\n",
       "  '<nous>': 50},\n",
       " '<Martinon>': {'<Martinon>': 1753,\n",
       "  '<Mme Arnoux>': 178,\n",
       "  '<Mme Dambreuse>': 134,\n",
       "  '<Hussonnet>': 128,\n",
       "  '<Arnoux lui - même>': 75,\n",
       "  '<M . Roque>': 53,\n",
       "  '<un poète illustre>': 49,\n",
       "  '<Mme Moreau>': 46,\n",
       "  \"<l' autre>\": 45,\n",
       "  '<Mlle Cécile>': 45},\n",
       " '<Mlle Roque>': {'<Mlle Roque>': 2894,\n",
       "  '<»Frédéric>': 96,\n",
       "  '<Frédéric et Deslauriers>': 67,\n",
       "  '<deux pauvres êtres>': 55,\n",
       "  '<On>': 43,\n",
       "  '<Ces commis>': 40,\n",
       "  \"<quelqu' un>\": 36,\n",
       "  '<laissa>': 29,\n",
       "  '<Nous>': 26,\n",
       "  '<!Il>': 22},\n",
       " '<on>': {'<on>': 479,\n",
       "  '<Frédéric>': 164,\n",
       "  '<un petit jeune homme qui>': 143,\n",
       "  '<Albert Malet>': 107,\n",
       "  '<Rosanette>': 81,\n",
       "  '<Arnoux>': 78,\n",
       "  '<Hussonnet>': 62,\n",
       "  '<Barbès>': 54,\n",
       "  '<Mme Arnoux>': 49,\n",
       "  '<M . Dambreuse>': 46},\n",
       " '<la Maréchale>': {'<la Maréchale>': 980,\n",
       "  '<Arnoux>': 448,\n",
       "  '<Pellerin>': 193,\n",
       "  '<Mme Arnoux>': 144,\n",
       "  '<ses relations lui>': 134,\n",
       "  '<Frédéric>': 111,\n",
       "  '<Rosanette>': 94,\n",
       "  \"<L' élève de M . Colot>\": 93,\n",
       "  '<la Vatnaz>': 81,\n",
       "  \"<c'>\": 59}}"
      ]
     },
     "execution_count": 189,
     "metadata": {},
     "output_type": "execute_result"
    }
   ],
   "source": [
    "dict_surronding_PER"
   ]
  },
  {
   "cell_type": "code",
   "execution_count": 190,
   "metadata": {},
   "outputs": [],
   "source": [
    "# get weights with mention counter"
   ]
  },
  {
   "cell_type": "code",
   "execution_count": 191,
   "metadata": {},
   "outputs": [],
   "source": [
    "dict_PER = pd.read_csv(r'res_mention_PER/1869_Flaubert-Gustave_L-Education-sentimentale.csv') # df mention PER (Counter)"
   ]
  },
  {
   "cell_type": "code",
   "execution_count": 192,
   "metadata": {},
   "outputs": [],
   "source": [
    "dict_PER_mention = dict(zip(list(dict_PER.mention), list(dict_PER['count'])))"
   ]
  },
  {
   "cell_type": "code",
   "execution_count": 193,
   "metadata": {},
   "outputs": [
    {
     "data": {
      "text/plain": [
       "{'<Frédéric>': 1465,\n",
       " '<Arnoux>': 1126,\n",
       " '<Deslauriers>': 634,\n",
       " '<Mme Arnoux>': 629,\n",
       " '<Rosanette>': 570,\n",
       " '<Hussonnet>': 469,\n",
       " '<Pellerin>': 446,\n",
       " '<!Frédéric>': 360,\n",
       " '<Sénécal>': 329,\n",
       " '<Ils>': 319,\n",
       " '<ils>': 318,\n",
       " nan: 303,\n",
       " '<M . Dambreuse>': 292,\n",
       " '<Regimbart>': 278,\n",
       " '<elle>': 236,\n",
       " '<!Il>': 226,\n",
       " '<Martinon>': 220,\n",
       " '<Mlle Roque>': 201,\n",
       " '<on>': 161,\n",
       " '<la Maréchale>': 161}"
      ]
     },
     "execution_count": 193,
     "metadata": {},
     "output_type": "execute_result"
    }
   ],
   "source": [
    "dict_PER_mention"
   ]
  },
  {
   "cell_type": "markdown",
   "metadata": {},
   "source": [
    "### Visualisation "
   ]
  },
  {
   "cell_type": "code",
   "execution_count": 194,
   "metadata": {},
   "outputs": [],
   "source": [
    "GraphEducation = nx.Graph()"
   ]
  },
  {
   "cell_type": "code",
   "execution_count": 195,
   "metadata": {},
   "outputs": [],
   "source": [
    "# Add node for each character\n",
    "for perso in dict_PER_mention.keys():\n",
    "    GraphEducation.add_node(perso, size = dict_PER_mention[perso])"
   ]
  },
  {
   "cell_type": "code",
   "execution_count": 196,
   "metadata": {},
   "outputs": [
    {
     "data": {
      "text/plain": [
       "NodeView(('<Frédéric>', '<Arnoux>', '<Deslauriers>', '<Mme Arnoux>', '<Rosanette>', '<Hussonnet>', '<Pellerin>', '<!Frédéric>', '<Sénécal>', '<Ils>', '<ils>', nan, '<M . Dambreuse>', '<Regimbart>', '<elle>', '<!Il>', '<Martinon>', '<Mlle Roque>', '<on>', '<la Maréchale>'))"
      ]
     },
     "execution_count": 196,
     "metadata": {},
     "output_type": "execute_result"
    }
   ],
   "source": [
    "GraphEducation.nodes"
   ]
  },
  {
   "cell_type": "code",
   "execution_count": 197,
   "metadata": {},
   "outputs": [
    {
     "ename": "KeyError",
     "evalue": "nan",
     "output_type": "error",
     "traceback": [
      "\u001b[0;31m---------------------------------------------------------------------------\u001b[0m",
      "\u001b[0;31mKeyError\u001b[0m                                  Traceback (most recent call last)",
      "Input \u001b[0;32mIn [197]\u001b[0m, in \u001b[0;36m<cell line: 2>\u001b[0;34m()\u001b[0m\n\u001b[1;32m      1\u001b[0m \u001b[38;5;66;03m# For each co-appearance between two characters, add an edge\u001b[39;00m\n\u001b[1;32m      2\u001b[0m \u001b[38;5;28;01mfor\u001b[39;00m char \u001b[38;5;129;01min\u001b[39;00m dict_PER_mention\u001b[38;5;241m.\u001b[39mkeys():\n\u001b[0;32m----> 3\u001b[0m     \u001b[38;5;28;01mfor\u001b[39;00m co_char \u001b[38;5;129;01min\u001b[39;00m \u001b[43mdict_surronding_PER\u001b[49m\u001b[43m[\u001b[49m\u001b[43mchar\u001b[49m\u001b[43m]\u001b[49m\u001b[38;5;241m.\u001b[39mkeys():\n\u001b[1;32m      4\u001b[0m         \n\u001b[1;32m      5\u001b[0m         \u001b[38;5;66;03m# Only add edge if mention surronding is in dict_PER_mention.keys()\u001b[39;00m\n\u001b[1;32m      7\u001b[0m         \u001b[38;5;28;01mif\u001b[39;00m co_char \u001b[38;5;129;01min\u001b[39;00m dict_PER_mention\u001b[38;5;241m.\u001b[39mkeys():\n\u001b[1;32m      8\u001b[0m             \n\u001b[1;32m      9\u001b[0m         \u001b[38;5;66;03m# Only add edge if the count is positive\u001b[39;00m\n\u001b[1;32m     10\u001b[0m             \u001b[38;5;28;01mif\u001b[39;00m dict_surronding_PER[char][co_char] \u001b[38;5;241m>\u001b[39m \u001b[38;5;241m0\u001b[39m:\n\u001b[1;32m     11\u001b[0m         \u001b[38;5;66;03m# Only add an edge if char != co_char\u001b[39;00m\n",
      "\u001b[0;31mKeyError\u001b[0m: nan"
     ]
    }
   ],
   "source": [
    "# For each co-appearance between two characters, add an edge\n",
    "for char in dict_PER_mention.keys():\n",
    "    for co_char in dict_surronding_PER[char].keys():\n",
    "        \n",
    "        # Only add edge if mention surronding is in dict_PER_mention.keys()\n",
    "        \n",
    "        if co_char in dict_PER_mention.keys():\n",
    "            \n",
    "        # Only add edge if the count is positive\n",
    "            if dict_surronding_PER[char][co_char] > 0:\n",
    "        # Only add an edge if char != co_char\n",
    "                if char != co_char:\n",
    "                    GraphEducation.add_edge(char, co_char, weight = dict_surronding_PER[char][co_char])"
   ]
  },
  {
   "cell_type": "code",
   "execution_count": 169,
   "metadata": {},
   "outputs": [
    {
     "data": {
      "text/plain": [
       "{'<Frédéric>': {'<Frédéric>': 1065,\n",
       "  '<une petite fille>': 184,\n",
       "  '<:Elle>': 87,\n",
       "  '<Le Capitaine>': 83,\n",
       "  '<La petite fille>': 37,\n",
       "  '<Ils>': 36,\n",
       "  \"<Une négresse , coiffée d' un foulard>\": 33,\n",
       "  '<M . le censeur>': 26,\n",
       "  '<leurs>': 21,\n",
       "  '<deux chasseurs>': 15},\n",
       " '<Arnoux>': {'<Arnoux>': 883,\n",
       "  '<du NationalLe National>': 66,\n",
       "  '<Mlle Marthe>': 62,\n",
       "  '<Frédéric>': 58,\n",
       "  \"<Arnoux l'>\": 53,\n",
       "  \"<l' illustre Pierre - Paul Meinsius>\": 40,\n",
       "  '<Mlle Vatnaz>': 36,\n",
       "  '<lui>': 27,\n",
       "  '<le vieux cocher>': 27,\n",
       "  '<une jeune fille blonde>': 27},\n",
       " '<Deslauriers>': {'<Deslauriers>': 971,\n",
       "  '<M . Dambreuse>': 127,\n",
       "  \"<l'>\": 84,\n",
       "  '<!Frédéric>': 46,\n",
       "  '<notre>': 42,\n",
       "  '<ils>': 41,\n",
       "  '<les Dambreuse>': 31,\n",
       "  '<Mme Moreau>': 30,\n",
       "  '<Mme Arnoux>': 30,\n",
       "  '<le tailleur>': 27},\n",
       " '<Mme Arnoux>': {'<Mme Arnoux>': 906,\n",
       "  \"<Arnoux l'>\": 159,\n",
       "  \"<l'>\": 148,\n",
       "  '<!Frédéric>': 121,\n",
       "  '<Martinon>': 73,\n",
       "  '<Deslauriers>': 32,\n",
       "  '<au juif Isaac>': 23,\n",
       "  '<ces hommes>': 23,\n",
       "  '<Pellerin>': 20,\n",
       "  '<Rosenwald>': 17},\n",
       " '<Rosanette>': {'<Rosanette>': 571,\n",
       "  '<Arnoux>': 350,\n",
       "  '<Delmar>': 127,\n",
       "  '<Hussonnet>': 91,\n",
       "  '<Pellerin>': 82,\n",
       "  '<Frédéric>': 42,\n",
       "  '<on>': 37,\n",
       "  '<Clubstick>': 31,\n",
       "  '<un petit vieillard replet>': 27,\n",
       "  '<- vous>': 25},\n",
       " '<Hussonnet>': {'<Hussonnet>': 717,\n",
       "  \"<la marquise d' Amaëgui>\": 121,\n",
       "  '<Une jeune fille>': 84,\n",
       "  '<un petit jeune homme qui>': 53,\n",
       "  '<!Dussardier>': 48,\n",
       "  '<Mlle Vatnaz>': 44,\n",
       "  '<Martinon>': 43,\n",
       "  '<?Dussardier leur>': 43,\n",
       "  '<une jeune femme>': 38,\n",
       "  '<un beau jeune homme>': 33},\n",
       " '<Pellerin>': {'<Pellerin>': 750,\n",
       "  '<Frédéric>': 144,\n",
       "  \"<Molière , l'>\": 95,\n",
       "  '<Un jeune homme>': 44,\n",
       "  '<Regimbart>': 41,\n",
       "  '<Hussonnet>': 34,\n",
       "  '<ils>': 34,\n",
       "  '<Jacques Arnoux>': 25,\n",
       "  '<vous>': 24,\n",
       "  '<du cocher>': 24},\n",
       " '<!Frédéric>': {'<!Frédéric>': 983,\n",
       "  '<Mme Arnoux>': 127,\n",
       "  '<une vieille dame habillée de noir>': 125,\n",
       "  '<Deslauriers>': 82,\n",
       "  '<Mlle Vatnaz>': 77,\n",
       "  '<Delphine>': 31,\n",
       "  '<ces hommes>': 26,\n",
       "  '<celle - là>': 23,\n",
       "  '<Frédéric>': 21,\n",
       "  '<Nous y>': 21},\n",
       " '<Sénécal>': {'<Sénécal>': 940,\n",
       "  '<Mme Arnoux>': 228,\n",
       "  '<Deslauriers>': 57,\n",
       "  \"<Rosanette l'>\": 46,\n",
       "  \"<un inconnu l'>\": 42,\n",
       "  '<ils>': 34,\n",
       "  '<deux personnes>': 34,\n",
       "  '<Cisy>': 28,\n",
       "  '<un homme très fort>': 18,\n",
       "  '<on>': 15},\n",
       " '<Ils>': {'<Ils>': 630,\n",
       "  '<Frédéric>': 90,\n",
       "  '<ils>': 65,\n",
       "  '<Mme Arnoux>': 59,\n",
       "  '<Lovarias>': 52,\n",
       "  '<Rosanette>': 48,\n",
       "  '<des amis>': 37,\n",
       "  '<une fille en chapeau de paille>': 35,\n",
       "  '<Deslauriers qui>': 34,\n",
       "  '<!Il>': 32},\n",
       " '<ils>': {'<ils>': 846,\n",
       "  '<Ils>': 60,\n",
       "  '<Hussonnet>': 58,\n",
       "  '<Sylvio>': 53,\n",
       "  '<chaque femme qui>': 52,\n",
       "  '<Deslauriers>': 51,\n",
       "  \"<quelqu' un>\": 40,\n",
       "  '<Pellerin>': 37,\n",
       "  '<Une négresse>': 31,\n",
       "  '<M . de Cisy>': 30},\n",
       " '<M . Dambreuse>': {'<M . Dambreuse>': 760,\n",
       "  '<Deslauriers>': 139,\n",
       "  '<Arnoux>': 43,\n",
       "  '<?Elle>': 42,\n",
       "  '<Mme Moreau>': 38,\n",
       "  '<Nous>': 34,\n",
       "  '<un certain Arnoux>': 30,\n",
       "  '<les>': 29,\n",
       "  '<!Il>': 29,\n",
       "  '<Madame>': 26},\n",
       " '<Regimbart>': {'<Regimbart>': 903,\n",
       "  '<Arnoux>': 220,\n",
       "  '<Frédéric>': 131,\n",
       "  '<Pellerin>': 84,\n",
       "  '<Vautier>': 71,\n",
       "  '<Deslauriers>': 46,\n",
       "  '<Elle>': 31,\n",
       "  '<du NationalLe National>': 30,\n",
       "  '<du jeune Eugène>': 16,\n",
       "  '<Bouttevilain>': 15},\n",
       " '<elle>': {'<elle>': 753,\n",
       "  '<Mme Arnoux>': 203,\n",
       "  '<Arnoux>': 169,\n",
       "  '<Il me>': 157,\n",
       "  '<Regimbart>': 35,\n",
       "  '<Delmar ,>': 33,\n",
       "  '<le PapePie IX>': 29,\n",
       "  '<M . Dambreuse>': 23,\n",
       "  '<le père Roque>': 17,\n",
       "  '<une demoiselle>': 16},\n",
       " '<!Il>': {'<!Il>': 1041,\n",
       "  '<Mme Arnoux>': 120,\n",
       "  '<une forme>': 55,\n",
       "  '<Catherine>': 52,\n",
       "  '<Mme Moreau>': 37,\n",
       "  '<M . Dambreuse>': 30,\n",
       "  \"<Catherine l'>\": 28,\n",
       "  \"<l' oncle Barthélemy>\": 27,\n",
       "  '<nous>': 24,\n",
       "  '<M . Roque>': 20},\n",
       " '<Martinon>': {'<Martinon>': 1014,\n",
       "  '<Mme Dambreuse>': 79,\n",
       "  '<Mme Arnoux>': 74,\n",
       "  '<Hussonnet>': 52,\n",
       "  '<Arnoux lui - même>': 29,\n",
       "  '<Deslauriers>': 27,\n",
       "  '<M . Roque>': 26,\n",
       "  \"<l' autre>\": 25,\n",
       "  '<tous les grands avocats>': 23,\n",
       "  '<la petite Louise>': 22},\n",
       " '<Mlle Roque>': {'<Mlle Roque>': 1491,\n",
       "  '<»Frédéric>': 56,\n",
       "  '<Frédéric et Deslauriers>': 28,\n",
       "  '<deux pauvres êtres>': 26,\n",
       "  '<On>': 22,\n",
       "  '<Ces commis>': 17,\n",
       "  '<laissa>': 17,\n",
       "  \"<quelqu' un>\": 16,\n",
       "  '<vous>': 15,\n",
       "  '<!Il>': 13},\n",
       " '<on>': {'<on>': 371,\n",
       "  '<un petit jeune homme qui>': 67,\n",
       "  '<Frédéric>': 62,\n",
       "  '<Albert Malet>': 47,\n",
       "  '<Rosanette>': 42,\n",
       "  '<Arnoux>': 36,\n",
       "  '<Barbès>': 30,\n",
       "  '<Hussonnet>': 28,\n",
       "  '<Martinon>': 27,\n",
       "  '<M . Dambreuse>': 25},\n",
       " '<la Maréchale>': {'<la Maréchale>': 610,\n",
       "  '<Arnoux>': 221,\n",
       "  '<Pellerin>': 80,\n",
       "  '<Mme Arnoux>': 76,\n",
       "  '<Frédéric>': 58,\n",
       "  '<Rosanette>': 47,\n",
       "  '<la Vatnaz>': 43,\n",
       "  \"<L' élève de M . Colot>\": 42,\n",
       "  '<un grand gaillard qui>': 36,\n",
       "  '<ses relations lui>': 36}}"
      ]
     },
     "execution_count": 169,
     "metadata": {},
     "output_type": "execute_result"
    }
   ],
   "source": [
    "dict_surronding_PER"
   ]
  },
  {
   "cell_type": "code",
   "execution_count": 170,
   "metadata": {},
   "outputs": [
    {
     "data": {
      "text/plain": [
       "EdgeView([('<Frédéric>', '<Ils>'), ('<Frédéric>', '<Arnoux>'), ('<Frédéric>', '<Rosanette>'), ('<Frédéric>', '<Pellerin>'), ('<Frédéric>', '<!Frédéric>'), ('<Frédéric>', '<Regimbart>'), ('<Frédéric>', '<on>'), ('<Frédéric>', '<la Maréchale>'), ('<Arnoux>', '<Rosanette>'), ('<Arnoux>', '<M . Dambreuse>'), ('<Arnoux>', '<Regimbart>'), ('<Arnoux>', '<elle>'), ('<Arnoux>', '<on>'), ('<Arnoux>', '<la Maréchale>'), ('<Deslauriers>', '<M . Dambreuse>'), ('<Deslauriers>', '<!Frédéric>'), ('<Deslauriers>', '<ils>'), ('<Deslauriers>', '<Mme Arnoux>'), ('<Deslauriers>', '<Sénécal>'), ('<Deslauriers>', '<Regimbart>'), ('<Deslauriers>', '<Martinon>'), ('<Mme Arnoux>', '<!Frédéric>'), ('<Mme Arnoux>', '<Martinon>'), ('<Mme Arnoux>', '<Pellerin>'), ('<Mme Arnoux>', '<Sénécal>'), ('<Mme Arnoux>', '<Ils>'), ('<Mme Arnoux>', '<elle>'), ('<Mme Arnoux>', '<!Il>'), ('<Mme Arnoux>', '<la Maréchale>'), ('<Rosanette>', '<Hussonnet>'), ('<Rosanette>', '<Pellerin>'), ('<Rosanette>', '<on>'), ('<Rosanette>', '<Ils>'), ('<Rosanette>', '<la Maréchale>'), ('<Hussonnet>', '<Martinon>'), ('<Hussonnet>', '<Pellerin>'), ('<Hussonnet>', '<ils>'), ('<Hussonnet>', '<on>'), ('<Pellerin>', '<Regimbart>'), ('<Pellerin>', '<ils>'), ('<Pellerin>', '<la Maréchale>'), ('<Sénécal>', '<ils>'), ('<Sénécal>', '<on>'), ('<Ils>', '<ils>'), ('<Ils>', '<!Il>'), ('<M . Dambreuse>', '<!Il>'), ('<M . Dambreuse>', '<elle>'), ('<M . Dambreuse>', '<on>'), ('<Regimbart>', '<elle>'), ('<!Il>', '<Mlle Roque>'), ('<Martinon>', '<on>')])"
      ]
     },
     "execution_count": 170,
     "metadata": {},
     "output_type": "execute_result"
    }
   ],
   "source": [
    "GraphEducation.edges()"
   ]
  },
  {
   "cell_type": "code",
   "execution_count": 171,
   "metadata": {},
   "outputs": [],
   "source": [
    "# Get positions for the nodes in G\n",
    "pos_ = nx.spring_layout(GraphEducation)"
   ]
  },
  {
   "cell_type": "code",
   "execution_count": 172,
   "metadata": {},
   "outputs": [],
   "source": [
    "def make_edge(x, y, text, width):\n",
    "    \n",
    "    '''Creates a scatter trace for the edge between x's and y's with given width\n",
    "\n",
    "    Parameters\n",
    "    ----------\n",
    "    x    : a tuple of the endpoints' x-coordinates in the form, tuple([x0, x1, None])\n",
    "    \n",
    "    y    : a tuple of the endpoints' y-coordinates in the form, tuple([y0, y1, None])\n",
    "    \n",
    "    width: the width of the line\n",
    "\n",
    "    Returns\n",
    "    -------\n",
    "    An edge trace that goes between x0 and x1 with specified width.\n",
    "    '''\n",
    "    return  go.Scatter(x         = x,\n",
    "                       y         = y,\n",
    "                       line      = dict(width = width,\n",
    "                                   color = 'cornflowerblue'),\n",
    "                       hoverinfo = 'text',\n",
    "                       text      = ([text]),\n",
    "                       mode      = 'lines')"
   ]
  },
  {
   "cell_type": "code",
   "execution_count": 173,
   "metadata": {},
   "outputs": [],
   "source": [
    "# For each edge, make an edge_trace, append to list\n",
    "edge_trace = []\n",
    "for edge in GraphEducation.edges():\n",
    "    \n",
    "    if GraphEducation.edges()[edge]['weight'] > 0:\n",
    "        char_1 = edge[0]\n",
    "        char_2 = edge[1]\n",
    "\n",
    "        x0, y0 = pos_[char_1]\n",
    "        x1, y1 = pos_[char_2]\n",
    "\n",
    "        text   = char_1 + '--' + char_2 + ': ' + str(GraphEducation.edges()[edge]['weight'])\n",
    "        \n",
    "        trace  = make_edge([x0, x1, None], [y0, y1, None], text,\n",
    "                           GraphEducation.edges()[edge]['weight']/5)\n",
    "\n",
    "        edge_trace.append(trace)"
   ]
  },
  {
   "cell_type": "code",
   "execution_count": 174,
   "metadata": {},
   "outputs": [],
   "source": [
    "# Make a node trace\n",
    "node_trace = go.Scatter(x         = [],\n",
    "                        y         = [],\n",
    "                        text      = [],\n",
    "                        textposition = \"top center\",\n",
    "                        textfont_size = 30,\n",
    "                        mode      = 'markers+text',\n",
    "                        hoverinfo = 'none',\n",
    "                        marker    = dict(color = [],\n",
    "                                         size  = [],\n",
    "                                         line  = None))\n",
    "# For each node in midsummer, get the position and size and add to the node_trace\n",
    "for node in GraphEducation.nodes():\n",
    "    x, y = pos_[node]\n",
    "    node_trace['x'] += tuple([x])\n",
    "    node_trace['y'] += tuple([y])\n",
    "    node_trace['marker']['color'] += tuple(['cornflowerblue'])\n",
    "    node_trace['marker']['size'] += tuple([GraphEducation.nodes()[node]['size']/10])\n",
    "    node_trace['text'] += tuple(['<b>' + node + '</b>'])"
   ]
  },
  {
   "cell_type": "code",
   "execution_count": null,
   "metadata": {},
   "outputs": [],
   "source": []
  },
  {
   "cell_type": "code",
   "execution_count": null,
   "metadata": {},
   "outputs": [],
   "source": []
  },
  {
   "cell_type": "code",
   "execution_count": 175,
   "metadata": {},
   "outputs": [
    {
     "data": {
      "application/vnd.plotly.v1+json": {
       "config": {
        "plotlyServerURL": "https://plot.ly"
       },
       "data": [
        {
         "hoverinfo": "text",
         "line": {
          "color": "cornflowerblue",
          "width": 18
         },
         "mode": "lines",
         "text": [
          "<Frédéric>--<Ils>: 90"
         ],
         "type": "scatter",
         "x": [
          -0.16977230165299131,
          -0.06411101664858361,
          null
         ],
         "y": [
          0.15712453383842556,
          -0.05337087362811645,
          null
         ]
        },
        {
         "hoverinfo": "text",
         "line": {
          "color": "cornflowerblue",
          "width": 11.6
         },
         "mode": "lines",
         "text": [
          "<Frédéric>--<Arnoux>: 58"
         ],
         "type": "scatter",
         "x": [
          -0.16977230165299131,
          -0.08766156834857437,
          null
         ],
         "y": [
          0.15712453383842556,
          0.1844230314280664,
          null
         ]
        },
        {
         "hoverinfo": "text",
         "line": {
          "color": "cornflowerblue",
          "width": 8.4
         },
         "mode": "lines",
         "text": [
          "<Frédéric>--<Rosanette>: 42"
         ],
         "type": "scatter",
         "x": [
          -0.16977230165299131,
          -0.28152410647915976,
          null
         ],
         "y": [
          0.15712453383842556,
          0.14972303216954916,
          null
         ]
        },
        {
         "hoverinfo": "text",
         "line": {
          "color": "cornflowerblue",
          "width": 28.8
         },
         "mode": "lines",
         "text": [
          "<Frédéric>--<Pellerin>: 144"
         ],
         "type": "scatter",
         "x": [
          -0.16977230165299131,
          -0.27422274317384393,
          null
         ],
         "y": [
          0.15712453383842556,
          0.26434267808974143,
          null
         ]
        },
        {
         "hoverinfo": "text",
         "line": {
          "color": "cornflowerblue",
          "width": 4.2
         },
         "mode": "lines",
         "text": [
          "<Frédéric>--<!Frédéric>: 21"
         ],
         "type": "scatter",
         "x": [
          -0.16977230165299131,
          0.3117018205250075,
          null
         ],
         "y": [
          0.15712453383842556,
          0.08233257009135667,
          null
         ]
        },
        {
         "hoverinfo": "text",
         "line": {
          "color": "cornflowerblue",
          "width": 26.2
         },
         "mode": "lines",
         "text": [
          "<Frédéric>--<Regimbart>: 131"
         ],
         "type": "scatter",
         "x": [
          -0.16977230165299131,
          -0.02689229336692791,
          null
         ],
         "y": [
          0.15712453383842556,
          0.3197876111415425,
          null
         ]
        },
        {
         "hoverinfo": "text",
         "line": {
          "color": "cornflowerblue",
          "width": 12.4
         },
         "mode": "lines",
         "text": [
          "<Frédéric>--<on>: 62"
         ],
         "type": "scatter",
         "x": [
          -0.16977230165299131,
          -0.3379052632199143,
          null
         ],
         "y": [
          0.15712453383842556,
          -0.08574326966410879,
          null
         ]
        },
        {
         "hoverinfo": "text",
         "line": {
          "color": "cornflowerblue",
          "width": 11.6
         },
         "mode": "lines",
         "text": [
          "<Frédéric>--<la Maréchale>: 58"
         ],
         "type": "scatter",
         "x": [
          -0.16977230165299131,
          -0.12074827119872868,
          null
         ],
         "y": [
          0.15712453383842556,
          0.31114191672339525,
          null
         ]
        },
        {
         "hoverinfo": "text",
         "line": {
          "color": "cornflowerblue",
          "width": 70
         },
         "mode": "lines",
         "text": [
          "<Arnoux>--<Rosanette>: 350"
         ],
         "type": "scatter",
         "x": [
          -0.08766156834857437,
          -0.28152410647915976,
          null
         ],
         "y": [
          0.1844230314280664,
          0.14972303216954916,
          null
         ]
        },
        {
         "hoverinfo": "text",
         "line": {
          "color": "cornflowerblue",
          "width": 8.6
         },
         "mode": "lines",
         "text": [
          "<Arnoux>--<M . Dambreuse>: 43"
         ],
         "type": "scatter",
         "x": [
          -0.08766156834857437,
          0.045711005710177444,
          null
         ],
         "y": [
          0.1844230314280664,
          -0.199995053576452,
          null
         ]
        },
        {
         "hoverinfo": "text",
         "line": {
          "color": "cornflowerblue",
          "width": 44
         },
         "mode": "lines",
         "text": [
          "<Arnoux>--<Regimbart>: 220"
         ],
         "type": "scatter",
         "x": [
          -0.08766156834857437,
          -0.02689229336692791,
          null
         ],
         "y": [
          0.1844230314280664,
          0.3197876111415425,
          null
         ]
        },
        {
         "hoverinfo": "text",
         "line": {
          "color": "cornflowerblue",
          "width": 33.8
         },
         "mode": "lines",
         "text": [
          "<Arnoux>--<elle>: 169"
         ],
         "type": "scatter",
         "x": [
          -0.08766156834857437,
          0.1330566453214503,
          null
         ],
         "y": [
          0.1844230314280664,
          0.18940831540151987,
          null
         ]
        },
        {
         "hoverinfo": "text",
         "line": {
          "color": "cornflowerblue",
          "width": 7.2
         },
         "mode": "lines",
         "text": [
          "<Arnoux>--<on>: 36"
         ],
         "type": "scatter",
         "x": [
          -0.08766156834857437,
          -0.3379052632199143,
          null
         ],
         "y": [
          0.1844230314280664,
          -0.08574326966410879,
          null
         ]
        },
        {
         "hoverinfo": "text",
         "line": {
          "color": "cornflowerblue",
          "width": 44.2
         },
         "mode": "lines",
         "text": [
          "<Arnoux>--<la Maréchale>: 221"
         ],
         "type": "scatter",
         "x": [
          -0.08766156834857437,
          -0.12074827119872868,
          null
         ],
         "y": [
          0.1844230314280664,
          0.31114191672339525,
          null
         ]
        },
        {
         "hoverinfo": "text",
         "line": {
          "color": "cornflowerblue",
          "width": 27.8
         },
         "mode": "lines",
         "text": [
          "<Deslauriers>--<M . Dambreuse>: 139"
         ],
         "type": "scatter",
         "x": [
          0.07647826705023199,
          0.045711005710177444,
          null
         ],
         "y": [
          -0.05487350905326242,
          -0.199995053576452,
          null
         ]
        },
        {
         "hoverinfo": "text",
         "line": {
          "color": "cornflowerblue",
          "width": 16.4
         },
         "mode": "lines",
         "text": [
          "<Deslauriers>--<!Frédéric>: 82"
         ],
         "type": "scatter",
         "x": [
          0.07647826705023199,
          0.3117018205250075,
          null
         ],
         "y": [
          -0.05487350905326242,
          0.08233257009135667,
          null
         ]
        },
        {
         "hoverinfo": "text",
         "line": {
          "color": "cornflowerblue",
          "width": 10.2
         },
         "mode": "lines",
         "text": [
          "<Deslauriers>--<ils>: 51"
         ],
         "type": "scatter",
         "x": [
          0.07647826705023199,
          -0.22735076679397784,
          null
         ],
         "y": [
          -0.05487350905326242,
          -0.08583539565563258,
          null
         ]
        },
        {
         "hoverinfo": "text",
         "line": {
          "color": "cornflowerblue",
          "width": 6.4
         },
         "mode": "lines",
         "text": [
          "<Deslauriers>--<Mme Arnoux>: 32"
         ],
         "type": "scatter",
         "x": [
          0.07647826705023199,
          0.13886991941728744,
          null
         ],
         "y": [
          -0.05487350905326242,
          0.0022810811047826313,
          null
         ]
        },
        {
         "hoverinfo": "text",
         "line": {
          "color": "cornflowerblue",
          "width": 11.4
         },
         "mode": "lines",
         "text": [
          "<Deslauriers>--<Sénécal>: 57"
         ],
         "type": "scatter",
         "x": [
          0.07647826705023199,
          0.16185191193645068,
          null
         ],
         "y": [
          -0.05487350905326242,
          -0.16883573011575773,
          null
         ]
        },
        {
         "hoverinfo": "text",
         "line": {
          "color": "cornflowerblue",
          "width": 9.2
         },
         "mode": "lines",
         "text": [
          "<Deslauriers>--<Regimbart>: 46"
         ],
         "type": "scatter",
         "x": [
          0.07647826705023199,
          -0.02689229336692791,
          null
         ],
         "y": [
          -0.05487350905326242,
          0.3197876111415425,
          null
         ]
        },
        {
         "hoverinfo": "text",
         "line": {
          "color": "cornflowerblue",
          "width": 5.4
         },
         "mode": "lines",
         "text": [
          "<Deslauriers>--<Martinon>: 27"
         ],
         "type": "scatter",
         "x": [
          0.07647826705023199,
          -0.1785741462907477,
          null
         ],
         "y": [
          -0.05487350905326242,
          -0.23918372650230588,
          null
         ]
        },
        {
         "hoverinfo": "text",
         "line": {
          "color": "cornflowerblue",
          "width": 25.4
         },
         "mode": "lines",
         "text": [
          "<Mme Arnoux>--<!Frédéric>: 127"
         ],
         "type": "scatter",
         "x": [
          0.13886991941728744,
          0.3117018205250075,
          null
         ],
         "y": [
          0.0022810811047826313,
          0.08233257009135667,
          null
         ]
        },
        {
         "hoverinfo": "text",
         "line": {
          "color": "cornflowerblue",
          "width": 14.8
         },
         "mode": "lines",
         "text": [
          "<Mme Arnoux>--<Martinon>: 74"
         ],
         "type": "scatter",
         "x": [
          0.13886991941728744,
          -0.1785741462907477,
          null
         ],
         "y": [
          0.0022810811047826313,
          -0.23918372650230588,
          null
         ]
        },
        {
         "hoverinfo": "text",
         "line": {
          "color": "cornflowerblue",
          "width": 4
         },
         "mode": "lines",
         "text": [
          "<Mme Arnoux>--<Pellerin>: 20"
         ],
         "type": "scatter",
         "x": [
          0.13886991941728744,
          -0.27422274317384393,
          null
         ],
         "y": [
          0.0022810811047826313,
          0.26434267808974143,
          null
         ]
        },
        {
         "hoverinfo": "text",
         "line": {
          "color": "cornflowerblue",
          "width": 45.6
         },
         "mode": "lines",
         "text": [
          "<Mme Arnoux>--<Sénécal>: 228"
         ],
         "type": "scatter",
         "x": [
          0.13886991941728744,
          0.16185191193645068,
          null
         ],
         "y": [
          0.0022810811047826313,
          -0.16883573011575773,
          null
         ]
        },
        {
         "hoverinfo": "text",
         "line": {
          "color": "cornflowerblue",
          "width": 11.8
         },
         "mode": "lines",
         "text": [
          "<Mme Arnoux>--<Ils>: 59"
         ],
         "type": "scatter",
         "x": [
          0.13886991941728744,
          -0.06411101664858361,
          null
         ],
         "y": [
          0.0022810811047826313,
          -0.05337087362811645,
          null
         ]
        },
        {
         "hoverinfo": "text",
         "line": {
          "color": "cornflowerblue",
          "width": 40.6
         },
         "mode": "lines",
         "text": [
          "<Mme Arnoux>--<elle>: 203"
         ],
         "type": "scatter",
         "x": [
          0.13886991941728744,
          0.1330566453214503,
          null
         ],
         "y": [
          0.0022810811047826313,
          0.18940831540151987,
          null
         ]
        },
        {
         "hoverinfo": "text",
         "line": {
          "color": "cornflowerblue",
          "width": 24
         },
         "mode": "lines",
         "text": [
          "<Mme Arnoux>--<!Il>: 120"
         ],
         "type": "scatter",
         "x": [
          0.13886991941728744,
          0.3655763223641101,
          null
         ],
         "y": [
          0.0022810811047826313,
          -0.202596419402428,
          null
         ]
        },
        {
         "hoverinfo": "text",
         "line": {
          "color": "cornflowerblue",
          "width": 15.2
         },
         "mode": "lines",
         "text": [
          "<Mme Arnoux>--<la Maréchale>: 76"
         ],
         "type": "scatter",
         "x": [
          0.13886991941728744,
          -0.12074827119872868,
          null
         ],
         "y": [
          0.0022810811047826313,
          0.31114191672339525,
          null
         ]
        },
        {
         "hoverinfo": "text",
         "line": {
          "color": "cornflowerblue",
          "width": 18.2
         },
         "mode": "lines",
         "text": [
          "<Rosanette>--<Hussonnet>: 91"
         ],
         "type": "scatter",
         "x": [
          -0.28152410647915976,
          -0.46448341515127,
          null
         ],
         "y": [
          0.14972303216954916,
          -0.011460085697087717,
          null
         ]
        },
        {
         "hoverinfo": "text",
         "line": {
          "color": "cornflowerblue",
          "width": 16.4
         },
         "mode": "lines",
         "text": [
          "<Rosanette>--<Pellerin>: 82"
         ],
         "type": "scatter",
         "x": [
          -0.28152410647915976,
          -0.27422274317384393,
          null
         ],
         "y": [
          0.14972303216954916,
          0.26434267808974143,
          null
         ]
        },
        {
         "hoverinfo": "text",
         "line": {
          "color": "cornflowerblue",
          "width": 8.4
         },
         "mode": "lines",
         "text": [
          "<Rosanette>--<on>: 42"
         ],
         "type": "scatter",
         "x": [
          -0.28152410647915976,
          -0.3379052632199143,
          null
         ],
         "y": [
          0.14972303216954916,
          -0.08574326966410879,
          null
         ]
        },
        {
         "hoverinfo": "text",
         "line": {
          "color": "cornflowerblue",
          "width": 9.6
         },
         "mode": "lines",
         "text": [
          "<Rosanette>--<Ils>: 48"
         ],
         "type": "scatter",
         "x": [
          -0.28152410647915976,
          -0.06411101664858361,
          null
         ],
         "y": [
          0.14972303216954916,
          -0.05337087362811645,
          null
         ]
        },
        {
         "hoverinfo": "text",
         "line": {
          "color": "cornflowerblue",
          "width": 9.4
         },
         "mode": "lines",
         "text": [
          "<Rosanette>--<la Maréchale>: 47"
         ],
         "type": "scatter",
         "x": [
          -0.28152410647915976,
          -0.12074827119872868,
          null
         ],
         "y": [
          0.14972303216954916,
          0.31114191672339525,
          null
         ]
        },
        {
         "hoverinfo": "text",
         "line": {
          "color": "cornflowerblue",
          "width": 10.4
         },
         "mode": "lines",
         "text": [
          "<Hussonnet>--<Martinon>: 52"
         ],
         "type": "scatter",
         "x": [
          -0.46448341515127,
          -0.1785741462907477,
          null
         ],
         "y": [
          -0.011460085697087717,
          -0.23918372650230588,
          null
         ]
        },
        {
         "hoverinfo": "text",
         "line": {
          "color": "cornflowerblue",
          "width": 6.8
         },
         "mode": "lines",
         "text": [
          "<Hussonnet>--<Pellerin>: 34"
         ],
         "type": "scatter",
         "x": [
          -0.46448341515127,
          -0.27422274317384393,
          null
         ],
         "y": [
          -0.011460085697087717,
          0.26434267808974143,
          null
         ]
        },
        {
         "hoverinfo": "text",
         "line": {
          "color": "cornflowerblue",
          "width": 11.6
         },
         "mode": "lines",
         "text": [
          "<Hussonnet>--<ils>: 58"
         ],
         "type": "scatter",
         "x": [
          -0.46448341515127,
          -0.22735076679397784,
          null
         ],
         "y": [
          -0.011460085697087717,
          -0.08583539565563258,
          null
         ]
        },
        {
         "hoverinfo": "text",
         "line": {
          "color": "cornflowerblue",
          "width": 5.6
         },
         "mode": "lines",
         "text": [
          "<Hussonnet>--<on>: 28"
         ],
         "type": "scatter",
         "x": [
          -0.46448341515127,
          -0.3379052632199143,
          null
         ],
         "y": [
          -0.011460085697087717,
          -0.08574326966410879,
          null
         ]
        },
        {
         "hoverinfo": "text",
         "line": {
          "color": "cornflowerblue",
          "width": 16.8
         },
         "mode": "lines",
         "text": [
          "<Pellerin>--<Regimbart>: 84"
         ],
         "type": "scatter",
         "x": [
          -0.27422274317384393,
          -0.02689229336692791,
          null
         ],
         "y": [
          0.26434267808974143,
          0.3197876111415425,
          null
         ]
        },
        {
         "hoverinfo": "text",
         "line": {
          "color": "cornflowerblue",
          "width": 7.4
         },
         "mode": "lines",
         "text": [
          "<Pellerin>--<ils>: 37"
         ],
         "type": "scatter",
         "x": [
          -0.27422274317384393,
          -0.22735076679397784,
          null
         ],
         "y": [
          0.26434267808974143,
          -0.08583539565563258,
          null
         ]
        },
        {
         "hoverinfo": "text",
         "line": {
          "color": "cornflowerblue",
          "width": 16
         },
         "mode": "lines",
         "text": [
          "<Pellerin>--<la Maréchale>: 80"
         ],
         "type": "scatter",
         "x": [
          -0.27422274317384393,
          -0.12074827119872868,
          null
         ],
         "y": [
          0.26434267808974143,
          0.31114191672339525,
          null
         ]
        },
        {
         "hoverinfo": "text",
         "line": {
          "color": "cornflowerblue",
          "width": 6.8
         },
         "mode": "lines",
         "text": [
          "<Sénécal>--<ils>: 34"
         ],
         "type": "scatter",
         "x": [
          0.16185191193645068,
          -0.22735076679397784,
          null
         ],
         "y": [
          -0.16883573011575773,
          -0.08583539565563258,
          null
         ]
        },
        {
         "hoverinfo": "text",
         "line": {
          "color": "cornflowerblue",
          "width": 3
         },
         "mode": "lines",
         "text": [
          "<Sénécal>--<on>: 15"
         ],
         "type": "scatter",
         "x": [
          0.16185191193645068,
          -0.3379052632199143,
          null
         ],
         "y": [
          -0.16883573011575773,
          -0.08574326966410879,
          null
         ]
        },
        {
         "hoverinfo": "text",
         "line": {
          "color": "cornflowerblue",
          "width": 12
         },
         "mode": "lines",
         "text": [
          "<Ils>--<ils>: 60"
         ],
         "type": "scatter",
         "x": [
          -0.06411101664858361,
          -0.22735076679397784,
          null
         ],
         "y": [
          -0.05337087362811645,
          -0.08583539565563258,
          null
         ]
        },
        {
         "hoverinfo": "text",
         "line": {
          "color": "cornflowerblue",
          "width": 6.4
         },
         "mode": "lines",
         "text": [
          "<Ils>--<!Il>: 32"
         ],
         "type": "scatter",
         "x": [
          -0.06411101664858361,
          0.3655763223641101,
          null
         ],
         "y": [
          -0.05337087362811645,
          -0.202596419402428,
          null
         ]
        },
        {
         "hoverinfo": "text",
         "line": {
          "color": "cornflowerblue",
          "width": 6
         },
         "mode": "lines",
         "text": [
          "<M . Dambreuse>--<!Il>: 30"
         ],
         "type": "scatter",
         "x": [
          0.045711005710177444,
          0.3655763223641101,
          null
         ],
         "y": [
          -0.199995053576452,
          -0.202596419402428,
          null
         ]
        },
        {
         "hoverinfo": "text",
         "line": {
          "color": "cornflowerblue",
          "width": 4.6
         },
         "mode": "lines",
         "text": [
          "<M . Dambreuse>--<elle>: 23"
         ],
         "type": "scatter",
         "x": [
          0.045711005710177444,
          0.1330566453214503,
          null
         ],
         "y": [
          -0.199995053576452,
          0.18940831540151987,
          null
         ]
        },
        {
         "hoverinfo": "text",
         "line": {
          "color": "cornflowerblue",
          "width": 5
         },
         "mode": "lines",
         "text": [
          "<M . Dambreuse>--<on>: 25"
         ],
         "type": "scatter",
         "x": [
          0.045711005710177444,
          -0.3379052632199143,
          null
         ],
         "y": [
          -0.199995053576452,
          -0.08574326966410879,
          null
         ]
        },
        {
         "hoverinfo": "text",
         "line": {
          "color": "cornflowerblue",
          "width": 7
         },
         "mode": "lines",
         "text": [
          "<Regimbart>--<elle>: 35"
         ],
         "type": "scatter",
         "x": [
          -0.02689229336692791,
          0.1330566453214503,
          null
         ],
         "y": [
          0.3197876111415425,
          0.18940831540151987,
          null
         ]
        },
        {
         "hoverinfo": "text",
         "line": {
          "color": "cornflowerblue",
          "width": 2.6
         },
         "mode": "lines",
         "text": [
          "<!Il>--<Mlle Roque>: 13"
         ],
         "type": "scatter",
         "x": [
          0.3655763223641101,
          1,
          null
         ],
         "y": [
          -0.202596419402428,
          -0.5586707066932278,
          null
         ]
        },
        {
         "hoverinfo": "text",
         "line": {
          "color": "cornflowerblue",
          "width": 5.4
         },
         "mode": "lines",
         "text": [
          "<Martinon>--<on>: 27"
         ],
         "type": "scatter",
         "x": [
          -0.1785741462907477,
          -0.3379052632199143,
          null
         ],
         "y": [
          -0.23918372650230588,
          -0.08574326966410879,
          null
         ]
        },
        {
         "hoverinfo": "none",
         "marker": {
          "color": [
           "cornflowerblue",
           "cornflowerblue",
           "cornflowerblue",
           "cornflowerblue",
           "cornflowerblue",
           "cornflowerblue",
           "cornflowerblue",
           "cornflowerblue",
           "cornflowerblue",
           "cornflowerblue",
           "cornflowerblue",
           "cornflowerblue",
           "cornflowerblue",
           "cornflowerblue",
           "cornflowerblue",
           "cornflowerblue",
           "cornflowerblue",
           "cornflowerblue",
           "cornflowerblue"
          ],
          "size": [
           146.5,
           112.6,
           63.4,
           62.9,
           57,
           46.9,
           44.6,
           36,
           32.9,
           31.9,
           31.8,
           29.2,
           27.8,
           23.6,
           22.6,
           22,
           20.1,
           16.1,
           16.1
          ]
         },
         "mode": "markers+text",
         "text": [
          "<b><Frédéric></b>",
          "<b><Arnoux></b>",
          "<b><Deslauriers></b>",
          "<b><Mme Arnoux></b>",
          "<b><Rosanette></b>",
          "<b><Hussonnet></b>",
          "<b><Pellerin></b>",
          "<b><!Frédéric></b>",
          "<b><Sénécal></b>",
          "<b><Ils></b>",
          "<b><ils></b>",
          "<b><M . Dambreuse></b>",
          "<b><Regimbart></b>",
          "<b><elle></b>",
          "<b><!Il></b>",
          "<b><Martinon></b>",
          "<b><Mlle Roque></b>",
          "<b><on></b>",
          "<b><la Maréchale></b>"
         ],
         "textfont": {
          "size": 30
         },
         "textposition": "top center",
         "type": "scatter",
         "x": [
          -0.16977230165299131,
          -0.08766156834857437,
          0.07647826705023199,
          0.13886991941728744,
          -0.28152410647915976,
          -0.46448341515127,
          -0.27422274317384393,
          0.3117018205250075,
          0.16185191193645068,
          -0.06411101664858361,
          -0.22735076679397784,
          0.045711005710177444,
          -0.02689229336692791,
          0.1330566453214503,
          0.3655763223641101,
          -0.1785741462907477,
          1,
          -0.3379052632199143,
          -0.12074827119872868
         ],
         "y": [
          0.15712453383842556,
          0.1844230314280664,
          -0.05487350905326242,
          0.0022810811047826313,
          0.14972303216954916,
          -0.011460085697087717,
          0.26434267808974143,
          0.08233257009135667,
          -0.16883573011575773,
          -0.05337087362811645,
          -0.08583539565563258,
          -0.199995053576452,
          0.3197876111415425,
          0.18940831540151987,
          -0.202596419402428,
          -0.23918372650230588,
          -0.5586707066932278,
          -0.08574326966410879,
          0.31114191672339525
         ]
        }
       ],
       "layout": {
        "paper_bgcolor": "rgba(0,0,0,0)",
        "plot_bgcolor": "rgba(0,0,0,0)",
        "showlegend": false,
        "template": {
         "data": {
          "bar": [
           {
            "error_x": {
             "color": "#2a3f5f"
            },
            "error_y": {
             "color": "#2a3f5f"
            },
            "marker": {
             "line": {
              "color": "#E5ECF6",
              "width": 0.5
             },
             "pattern": {
              "fillmode": "overlay",
              "size": 10,
              "solidity": 0.2
             }
            },
            "type": "bar"
           }
          ],
          "barpolar": [
           {
            "marker": {
             "line": {
              "color": "#E5ECF6",
              "width": 0.5
             },
             "pattern": {
              "fillmode": "overlay",
              "size": 10,
              "solidity": 0.2
             }
            },
            "type": "barpolar"
           }
          ],
          "carpet": [
           {
            "aaxis": {
             "endlinecolor": "#2a3f5f",
             "gridcolor": "white",
             "linecolor": "white",
             "minorgridcolor": "white",
             "startlinecolor": "#2a3f5f"
            },
            "baxis": {
             "endlinecolor": "#2a3f5f",
             "gridcolor": "white",
             "linecolor": "white",
             "minorgridcolor": "white",
             "startlinecolor": "#2a3f5f"
            },
            "type": "carpet"
           }
          ],
          "choropleth": [
           {
            "colorbar": {
             "outlinewidth": 0,
             "ticks": ""
            },
            "type": "choropleth"
           }
          ],
          "contour": [
           {
            "colorbar": {
             "outlinewidth": 0,
             "ticks": ""
            },
            "colorscale": [
             [
              0,
              "#0d0887"
             ],
             [
              0.1111111111111111,
              "#46039f"
             ],
             [
              0.2222222222222222,
              "#7201a8"
             ],
             [
              0.3333333333333333,
              "#9c179e"
             ],
             [
              0.4444444444444444,
              "#bd3786"
             ],
             [
              0.5555555555555556,
              "#d8576b"
             ],
             [
              0.6666666666666666,
              "#ed7953"
             ],
             [
              0.7777777777777778,
              "#fb9f3a"
             ],
             [
              0.8888888888888888,
              "#fdca26"
             ],
             [
              1,
              "#f0f921"
             ]
            ],
            "type": "contour"
           }
          ],
          "contourcarpet": [
           {
            "colorbar": {
             "outlinewidth": 0,
             "ticks": ""
            },
            "type": "contourcarpet"
           }
          ],
          "heatmap": [
           {
            "colorbar": {
             "outlinewidth": 0,
             "ticks": ""
            },
            "colorscale": [
             [
              0,
              "#0d0887"
             ],
             [
              0.1111111111111111,
              "#46039f"
             ],
             [
              0.2222222222222222,
              "#7201a8"
             ],
             [
              0.3333333333333333,
              "#9c179e"
             ],
             [
              0.4444444444444444,
              "#bd3786"
             ],
             [
              0.5555555555555556,
              "#d8576b"
             ],
             [
              0.6666666666666666,
              "#ed7953"
             ],
             [
              0.7777777777777778,
              "#fb9f3a"
             ],
             [
              0.8888888888888888,
              "#fdca26"
             ],
             [
              1,
              "#f0f921"
             ]
            ],
            "type": "heatmap"
           }
          ],
          "heatmapgl": [
           {
            "colorbar": {
             "outlinewidth": 0,
             "ticks": ""
            },
            "colorscale": [
             [
              0,
              "#0d0887"
             ],
             [
              0.1111111111111111,
              "#46039f"
             ],
             [
              0.2222222222222222,
              "#7201a8"
             ],
             [
              0.3333333333333333,
              "#9c179e"
             ],
             [
              0.4444444444444444,
              "#bd3786"
             ],
             [
              0.5555555555555556,
              "#d8576b"
             ],
             [
              0.6666666666666666,
              "#ed7953"
             ],
             [
              0.7777777777777778,
              "#fb9f3a"
             ],
             [
              0.8888888888888888,
              "#fdca26"
             ],
             [
              1,
              "#f0f921"
             ]
            ],
            "type": "heatmapgl"
           }
          ],
          "histogram": [
           {
            "marker": {
             "pattern": {
              "fillmode": "overlay",
              "size": 10,
              "solidity": 0.2
             }
            },
            "type": "histogram"
           }
          ],
          "histogram2d": [
           {
            "colorbar": {
             "outlinewidth": 0,
             "ticks": ""
            },
            "colorscale": [
             [
              0,
              "#0d0887"
             ],
             [
              0.1111111111111111,
              "#46039f"
             ],
             [
              0.2222222222222222,
              "#7201a8"
             ],
             [
              0.3333333333333333,
              "#9c179e"
             ],
             [
              0.4444444444444444,
              "#bd3786"
             ],
             [
              0.5555555555555556,
              "#d8576b"
             ],
             [
              0.6666666666666666,
              "#ed7953"
             ],
             [
              0.7777777777777778,
              "#fb9f3a"
             ],
             [
              0.8888888888888888,
              "#fdca26"
             ],
             [
              1,
              "#f0f921"
             ]
            ],
            "type": "histogram2d"
           }
          ],
          "histogram2dcontour": [
           {
            "colorbar": {
             "outlinewidth": 0,
             "ticks": ""
            },
            "colorscale": [
             [
              0,
              "#0d0887"
             ],
             [
              0.1111111111111111,
              "#46039f"
             ],
             [
              0.2222222222222222,
              "#7201a8"
             ],
             [
              0.3333333333333333,
              "#9c179e"
             ],
             [
              0.4444444444444444,
              "#bd3786"
             ],
             [
              0.5555555555555556,
              "#d8576b"
             ],
             [
              0.6666666666666666,
              "#ed7953"
             ],
             [
              0.7777777777777778,
              "#fb9f3a"
             ],
             [
              0.8888888888888888,
              "#fdca26"
             ],
             [
              1,
              "#f0f921"
             ]
            ],
            "type": "histogram2dcontour"
           }
          ],
          "mesh3d": [
           {
            "colorbar": {
             "outlinewidth": 0,
             "ticks": ""
            },
            "type": "mesh3d"
           }
          ],
          "parcoords": [
           {
            "line": {
             "colorbar": {
              "outlinewidth": 0,
              "ticks": ""
             }
            },
            "type": "parcoords"
           }
          ],
          "pie": [
           {
            "automargin": true,
            "type": "pie"
           }
          ],
          "scatter": [
           {
            "marker": {
             "colorbar": {
              "outlinewidth": 0,
              "ticks": ""
             }
            },
            "type": "scatter"
           }
          ],
          "scatter3d": [
           {
            "line": {
             "colorbar": {
              "outlinewidth": 0,
              "ticks": ""
             }
            },
            "marker": {
             "colorbar": {
              "outlinewidth": 0,
              "ticks": ""
             }
            },
            "type": "scatter3d"
           }
          ],
          "scattercarpet": [
           {
            "marker": {
             "colorbar": {
              "outlinewidth": 0,
              "ticks": ""
             }
            },
            "type": "scattercarpet"
           }
          ],
          "scattergeo": [
           {
            "marker": {
             "colorbar": {
              "outlinewidth": 0,
              "ticks": ""
             }
            },
            "type": "scattergeo"
           }
          ],
          "scattergl": [
           {
            "marker": {
             "colorbar": {
              "outlinewidth": 0,
              "ticks": ""
             }
            },
            "type": "scattergl"
           }
          ],
          "scattermapbox": [
           {
            "marker": {
             "colorbar": {
              "outlinewidth": 0,
              "ticks": ""
             }
            },
            "type": "scattermapbox"
           }
          ],
          "scatterpolar": [
           {
            "marker": {
             "colorbar": {
              "outlinewidth": 0,
              "ticks": ""
             }
            },
            "type": "scatterpolar"
           }
          ],
          "scatterpolargl": [
           {
            "marker": {
             "colorbar": {
              "outlinewidth": 0,
              "ticks": ""
             }
            },
            "type": "scatterpolargl"
           }
          ],
          "scatterternary": [
           {
            "marker": {
             "colorbar": {
              "outlinewidth": 0,
              "ticks": ""
             }
            },
            "type": "scatterternary"
           }
          ],
          "surface": [
           {
            "colorbar": {
             "outlinewidth": 0,
             "ticks": ""
            },
            "colorscale": [
             [
              0,
              "#0d0887"
             ],
             [
              0.1111111111111111,
              "#46039f"
             ],
             [
              0.2222222222222222,
              "#7201a8"
             ],
             [
              0.3333333333333333,
              "#9c179e"
             ],
             [
              0.4444444444444444,
              "#bd3786"
             ],
             [
              0.5555555555555556,
              "#d8576b"
             ],
             [
              0.6666666666666666,
              "#ed7953"
             ],
             [
              0.7777777777777778,
              "#fb9f3a"
             ],
             [
              0.8888888888888888,
              "#fdca26"
             ],
             [
              1,
              "#f0f921"
             ]
            ],
            "type": "surface"
           }
          ],
          "table": [
           {
            "cells": {
             "fill": {
              "color": "#EBF0F8"
             },
             "line": {
              "color": "white"
             }
            },
            "header": {
             "fill": {
              "color": "#C8D4E3"
             },
             "line": {
              "color": "white"
             }
            },
            "type": "table"
           }
          ]
         },
         "layout": {
          "annotationdefaults": {
           "arrowcolor": "#2a3f5f",
           "arrowhead": 0,
           "arrowwidth": 1
          },
          "autotypenumbers": "strict",
          "coloraxis": {
           "colorbar": {
            "outlinewidth": 0,
            "ticks": ""
           }
          },
          "colorscale": {
           "diverging": [
            [
             0,
             "#8e0152"
            ],
            [
             0.1,
             "#c51b7d"
            ],
            [
             0.2,
             "#de77ae"
            ],
            [
             0.3,
             "#f1b6da"
            ],
            [
             0.4,
             "#fde0ef"
            ],
            [
             0.5,
             "#f7f7f7"
            ],
            [
             0.6,
             "#e6f5d0"
            ],
            [
             0.7,
             "#b8e186"
            ],
            [
             0.8,
             "#7fbc41"
            ],
            [
             0.9,
             "#4d9221"
            ],
            [
             1,
             "#276419"
            ]
           ],
           "sequential": [
            [
             0,
             "#0d0887"
            ],
            [
             0.1111111111111111,
             "#46039f"
            ],
            [
             0.2222222222222222,
             "#7201a8"
            ],
            [
             0.3333333333333333,
             "#9c179e"
            ],
            [
             0.4444444444444444,
             "#bd3786"
            ],
            [
             0.5555555555555556,
             "#d8576b"
            ],
            [
             0.6666666666666666,
             "#ed7953"
            ],
            [
             0.7777777777777778,
             "#fb9f3a"
            ],
            [
             0.8888888888888888,
             "#fdca26"
            ],
            [
             1,
             "#f0f921"
            ]
           ],
           "sequentialminus": [
            [
             0,
             "#0d0887"
            ],
            [
             0.1111111111111111,
             "#46039f"
            ],
            [
             0.2222222222222222,
             "#7201a8"
            ],
            [
             0.3333333333333333,
             "#9c179e"
            ],
            [
             0.4444444444444444,
             "#bd3786"
            ],
            [
             0.5555555555555556,
             "#d8576b"
            ],
            [
             0.6666666666666666,
             "#ed7953"
            ],
            [
             0.7777777777777778,
             "#fb9f3a"
            ],
            [
             0.8888888888888888,
             "#fdca26"
            ],
            [
             1,
             "#f0f921"
            ]
           ]
          },
          "colorway": [
           "#636efa",
           "#EF553B",
           "#00cc96",
           "#ab63fa",
           "#FFA15A",
           "#19d3f3",
           "#FF6692",
           "#B6E880",
           "#FF97FF",
           "#FECB52"
          ],
          "font": {
           "color": "#2a3f5f"
          },
          "geo": {
           "bgcolor": "white",
           "lakecolor": "white",
           "landcolor": "#E5ECF6",
           "showlakes": true,
           "showland": true,
           "subunitcolor": "white"
          },
          "hoverlabel": {
           "align": "left"
          },
          "hovermode": "closest",
          "mapbox": {
           "style": "light"
          },
          "paper_bgcolor": "white",
          "plot_bgcolor": "#E5ECF6",
          "polar": {
           "angularaxis": {
            "gridcolor": "white",
            "linecolor": "white",
            "ticks": ""
           },
           "bgcolor": "#E5ECF6",
           "radialaxis": {
            "gridcolor": "white",
            "linecolor": "white",
            "ticks": ""
           }
          },
          "scene": {
           "xaxis": {
            "backgroundcolor": "#E5ECF6",
            "gridcolor": "white",
            "gridwidth": 2,
            "linecolor": "white",
            "showbackground": true,
            "ticks": "",
            "zerolinecolor": "white"
           },
           "yaxis": {
            "backgroundcolor": "#E5ECF6",
            "gridcolor": "white",
            "gridwidth": 2,
            "linecolor": "white",
            "showbackground": true,
            "ticks": "",
            "zerolinecolor": "white"
           },
           "zaxis": {
            "backgroundcolor": "#E5ECF6",
            "gridcolor": "white",
            "gridwidth": 2,
            "linecolor": "white",
            "showbackground": true,
            "ticks": "",
            "zerolinecolor": "white"
           }
          },
          "shapedefaults": {
           "line": {
            "color": "#2a3f5f"
           }
          },
          "ternary": {
           "aaxis": {
            "gridcolor": "white",
            "linecolor": "white",
            "ticks": ""
           },
           "baxis": {
            "gridcolor": "white",
            "linecolor": "white",
            "ticks": ""
           },
           "bgcolor": "#E5ECF6",
           "caxis": {
            "gridcolor": "white",
            "linecolor": "white",
            "ticks": ""
           }
          },
          "title": {
           "x": 0.05
          },
          "xaxis": {
           "automargin": true,
           "gridcolor": "white",
           "linecolor": "white",
           "ticks": "",
           "title": {
            "standoff": 15
           },
           "zerolinecolor": "white",
           "zerolinewidth": 2
          },
          "yaxis": {
           "automargin": true,
           "gridcolor": "white",
           "linecolor": "white",
           "ticks": "",
           "title": {
            "standoff": 15
           },
           "zerolinecolor": "white",
           "zerolinewidth": 2
          }
         }
        },
        "xaxis": {
         "showticklabels": false
        },
        "yaxis": {
         "showticklabels": false
        }
       }
      },
      "text/html": [
       "<div>                            <div id=\"b64cd914-e9ab-4665-8107-03e2aa7332e0\" class=\"plotly-graph-div\" style=\"height:525px; width:100%;\"></div>            <script type=\"text/javascript\">                require([\"plotly\"], function(Plotly) {                    window.PLOTLYENV=window.PLOTLYENV || {};                                    if (document.getElementById(\"b64cd914-e9ab-4665-8107-03e2aa7332e0\")) {                    Plotly.newPlot(                        \"b64cd914-e9ab-4665-8107-03e2aa7332e0\",                        [{\"hoverinfo\":\"text\",\"line\":{\"color\":\"cornflowerblue\",\"width\":18.0},\"mode\":\"lines\",\"text\":[\"<Fr\\u00e9d\\u00e9ric>--<Ils>: 90\"],\"x\":[-0.16977230165299131,-0.06411101664858361,null],\"y\":[0.15712453383842556,-0.05337087362811645,null],\"type\":\"scatter\"},{\"hoverinfo\":\"text\",\"line\":{\"color\":\"cornflowerblue\",\"width\":11.6},\"mode\":\"lines\",\"text\":[\"<Fr\\u00e9d\\u00e9ric>--<Arnoux>: 58\"],\"x\":[-0.16977230165299131,-0.08766156834857437,null],\"y\":[0.15712453383842556,0.1844230314280664,null],\"type\":\"scatter\"},{\"hoverinfo\":\"text\",\"line\":{\"color\":\"cornflowerblue\",\"width\":8.4},\"mode\":\"lines\",\"text\":[\"<Fr\\u00e9d\\u00e9ric>--<Rosanette>: 42\"],\"x\":[-0.16977230165299131,-0.28152410647915976,null],\"y\":[0.15712453383842556,0.14972303216954916,null],\"type\":\"scatter\"},{\"hoverinfo\":\"text\",\"line\":{\"color\":\"cornflowerblue\",\"width\":28.8},\"mode\":\"lines\",\"text\":[\"<Fr\\u00e9d\\u00e9ric>--<Pellerin>: 144\"],\"x\":[-0.16977230165299131,-0.27422274317384393,null],\"y\":[0.15712453383842556,0.26434267808974143,null],\"type\":\"scatter\"},{\"hoverinfo\":\"text\",\"line\":{\"color\":\"cornflowerblue\",\"width\":4.2},\"mode\":\"lines\",\"text\":[\"<Fr\\u00e9d\\u00e9ric>--<!Fr\\u00e9d\\u00e9ric>: 21\"],\"x\":[-0.16977230165299131,0.3117018205250075,null],\"y\":[0.15712453383842556,0.08233257009135667,null],\"type\":\"scatter\"},{\"hoverinfo\":\"text\",\"line\":{\"color\":\"cornflowerblue\",\"width\":26.2},\"mode\":\"lines\",\"text\":[\"<Fr\\u00e9d\\u00e9ric>--<Regimbart>: 131\"],\"x\":[-0.16977230165299131,-0.02689229336692791,null],\"y\":[0.15712453383842556,0.3197876111415425,null],\"type\":\"scatter\"},{\"hoverinfo\":\"text\",\"line\":{\"color\":\"cornflowerblue\",\"width\":12.4},\"mode\":\"lines\",\"text\":[\"<Fr\\u00e9d\\u00e9ric>--<on>: 62\"],\"x\":[-0.16977230165299131,-0.3379052632199143,null],\"y\":[0.15712453383842556,-0.08574326966410879,null],\"type\":\"scatter\"},{\"hoverinfo\":\"text\",\"line\":{\"color\":\"cornflowerblue\",\"width\":11.6},\"mode\":\"lines\",\"text\":[\"<Fr\\u00e9d\\u00e9ric>--<la Mar\\u00e9chale>: 58\"],\"x\":[-0.16977230165299131,-0.12074827119872868,null],\"y\":[0.15712453383842556,0.31114191672339525,null],\"type\":\"scatter\"},{\"hoverinfo\":\"text\",\"line\":{\"color\":\"cornflowerblue\",\"width\":70.0},\"mode\":\"lines\",\"text\":[\"<Arnoux>--<Rosanette>: 350\"],\"x\":[-0.08766156834857437,-0.28152410647915976,null],\"y\":[0.1844230314280664,0.14972303216954916,null],\"type\":\"scatter\"},{\"hoverinfo\":\"text\",\"line\":{\"color\":\"cornflowerblue\",\"width\":8.6},\"mode\":\"lines\",\"text\":[\"<Arnoux>--<M . Dambreuse>: 43\"],\"x\":[-0.08766156834857437,0.045711005710177444,null],\"y\":[0.1844230314280664,-0.199995053576452,null],\"type\":\"scatter\"},{\"hoverinfo\":\"text\",\"line\":{\"color\":\"cornflowerblue\",\"width\":44.0},\"mode\":\"lines\",\"text\":[\"<Arnoux>--<Regimbart>: 220\"],\"x\":[-0.08766156834857437,-0.02689229336692791,null],\"y\":[0.1844230314280664,0.3197876111415425,null],\"type\":\"scatter\"},{\"hoverinfo\":\"text\",\"line\":{\"color\":\"cornflowerblue\",\"width\":33.8},\"mode\":\"lines\",\"text\":[\"<Arnoux>--<elle>: 169\"],\"x\":[-0.08766156834857437,0.1330566453214503,null],\"y\":[0.1844230314280664,0.18940831540151987,null],\"type\":\"scatter\"},{\"hoverinfo\":\"text\",\"line\":{\"color\":\"cornflowerblue\",\"width\":7.2},\"mode\":\"lines\",\"text\":[\"<Arnoux>--<on>: 36\"],\"x\":[-0.08766156834857437,-0.3379052632199143,null],\"y\":[0.1844230314280664,-0.08574326966410879,null],\"type\":\"scatter\"},{\"hoverinfo\":\"text\",\"line\":{\"color\":\"cornflowerblue\",\"width\":44.2},\"mode\":\"lines\",\"text\":[\"<Arnoux>--<la Mar\\u00e9chale>: 221\"],\"x\":[-0.08766156834857437,-0.12074827119872868,null],\"y\":[0.1844230314280664,0.31114191672339525,null],\"type\":\"scatter\"},{\"hoverinfo\":\"text\",\"line\":{\"color\":\"cornflowerblue\",\"width\":27.8},\"mode\":\"lines\",\"text\":[\"<Deslauriers>--<M . Dambreuse>: 139\"],\"x\":[0.07647826705023199,0.045711005710177444,null],\"y\":[-0.05487350905326242,-0.199995053576452,null],\"type\":\"scatter\"},{\"hoverinfo\":\"text\",\"line\":{\"color\":\"cornflowerblue\",\"width\":16.4},\"mode\":\"lines\",\"text\":[\"<Deslauriers>--<!Fr\\u00e9d\\u00e9ric>: 82\"],\"x\":[0.07647826705023199,0.3117018205250075,null],\"y\":[-0.05487350905326242,0.08233257009135667,null],\"type\":\"scatter\"},{\"hoverinfo\":\"text\",\"line\":{\"color\":\"cornflowerblue\",\"width\":10.2},\"mode\":\"lines\",\"text\":[\"<Deslauriers>--<ils>: 51\"],\"x\":[0.07647826705023199,-0.22735076679397784,null],\"y\":[-0.05487350905326242,-0.08583539565563258,null],\"type\":\"scatter\"},{\"hoverinfo\":\"text\",\"line\":{\"color\":\"cornflowerblue\",\"width\":6.4},\"mode\":\"lines\",\"text\":[\"<Deslauriers>--<Mme Arnoux>: 32\"],\"x\":[0.07647826705023199,0.13886991941728744,null],\"y\":[-0.05487350905326242,0.0022810811047826313,null],\"type\":\"scatter\"},{\"hoverinfo\":\"text\",\"line\":{\"color\":\"cornflowerblue\",\"width\":11.4},\"mode\":\"lines\",\"text\":[\"<Deslauriers>--<S\\u00e9n\\u00e9cal>: 57\"],\"x\":[0.07647826705023199,0.16185191193645068,null],\"y\":[-0.05487350905326242,-0.16883573011575773,null],\"type\":\"scatter\"},{\"hoverinfo\":\"text\",\"line\":{\"color\":\"cornflowerblue\",\"width\":9.2},\"mode\":\"lines\",\"text\":[\"<Deslauriers>--<Regimbart>: 46\"],\"x\":[0.07647826705023199,-0.02689229336692791,null],\"y\":[-0.05487350905326242,0.3197876111415425,null],\"type\":\"scatter\"},{\"hoverinfo\":\"text\",\"line\":{\"color\":\"cornflowerblue\",\"width\":5.4},\"mode\":\"lines\",\"text\":[\"<Deslauriers>--<Martinon>: 27\"],\"x\":[0.07647826705023199,-0.1785741462907477,null],\"y\":[-0.05487350905326242,-0.23918372650230588,null],\"type\":\"scatter\"},{\"hoverinfo\":\"text\",\"line\":{\"color\":\"cornflowerblue\",\"width\":25.4},\"mode\":\"lines\",\"text\":[\"<Mme Arnoux>--<!Fr\\u00e9d\\u00e9ric>: 127\"],\"x\":[0.13886991941728744,0.3117018205250075,null],\"y\":[0.0022810811047826313,0.08233257009135667,null],\"type\":\"scatter\"},{\"hoverinfo\":\"text\",\"line\":{\"color\":\"cornflowerblue\",\"width\":14.8},\"mode\":\"lines\",\"text\":[\"<Mme Arnoux>--<Martinon>: 74\"],\"x\":[0.13886991941728744,-0.1785741462907477,null],\"y\":[0.0022810811047826313,-0.23918372650230588,null],\"type\":\"scatter\"},{\"hoverinfo\":\"text\",\"line\":{\"color\":\"cornflowerblue\",\"width\":4.0},\"mode\":\"lines\",\"text\":[\"<Mme Arnoux>--<Pellerin>: 20\"],\"x\":[0.13886991941728744,-0.27422274317384393,null],\"y\":[0.0022810811047826313,0.26434267808974143,null],\"type\":\"scatter\"},{\"hoverinfo\":\"text\",\"line\":{\"color\":\"cornflowerblue\",\"width\":45.6},\"mode\":\"lines\",\"text\":[\"<Mme Arnoux>--<S\\u00e9n\\u00e9cal>: 228\"],\"x\":[0.13886991941728744,0.16185191193645068,null],\"y\":[0.0022810811047826313,-0.16883573011575773,null],\"type\":\"scatter\"},{\"hoverinfo\":\"text\",\"line\":{\"color\":\"cornflowerblue\",\"width\":11.8},\"mode\":\"lines\",\"text\":[\"<Mme Arnoux>--<Ils>: 59\"],\"x\":[0.13886991941728744,-0.06411101664858361,null],\"y\":[0.0022810811047826313,-0.05337087362811645,null],\"type\":\"scatter\"},{\"hoverinfo\":\"text\",\"line\":{\"color\":\"cornflowerblue\",\"width\":40.6},\"mode\":\"lines\",\"text\":[\"<Mme Arnoux>--<elle>: 203\"],\"x\":[0.13886991941728744,0.1330566453214503,null],\"y\":[0.0022810811047826313,0.18940831540151987,null],\"type\":\"scatter\"},{\"hoverinfo\":\"text\",\"line\":{\"color\":\"cornflowerblue\",\"width\":24.0},\"mode\":\"lines\",\"text\":[\"<Mme Arnoux>--<!Il>: 120\"],\"x\":[0.13886991941728744,0.3655763223641101,null],\"y\":[0.0022810811047826313,-0.202596419402428,null],\"type\":\"scatter\"},{\"hoverinfo\":\"text\",\"line\":{\"color\":\"cornflowerblue\",\"width\":15.2},\"mode\":\"lines\",\"text\":[\"<Mme Arnoux>--<la Mar\\u00e9chale>: 76\"],\"x\":[0.13886991941728744,-0.12074827119872868,null],\"y\":[0.0022810811047826313,0.31114191672339525,null],\"type\":\"scatter\"},{\"hoverinfo\":\"text\",\"line\":{\"color\":\"cornflowerblue\",\"width\":18.2},\"mode\":\"lines\",\"text\":[\"<Rosanette>--<Hussonnet>: 91\"],\"x\":[-0.28152410647915976,-0.46448341515127,null],\"y\":[0.14972303216954916,-0.011460085697087717,null],\"type\":\"scatter\"},{\"hoverinfo\":\"text\",\"line\":{\"color\":\"cornflowerblue\",\"width\":16.4},\"mode\":\"lines\",\"text\":[\"<Rosanette>--<Pellerin>: 82\"],\"x\":[-0.28152410647915976,-0.27422274317384393,null],\"y\":[0.14972303216954916,0.26434267808974143,null],\"type\":\"scatter\"},{\"hoverinfo\":\"text\",\"line\":{\"color\":\"cornflowerblue\",\"width\":8.4},\"mode\":\"lines\",\"text\":[\"<Rosanette>--<on>: 42\"],\"x\":[-0.28152410647915976,-0.3379052632199143,null],\"y\":[0.14972303216954916,-0.08574326966410879,null],\"type\":\"scatter\"},{\"hoverinfo\":\"text\",\"line\":{\"color\":\"cornflowerblue\",\"width\":9.6},\"mode\":\"lines\",\"text\":[\"<Rosanette>--<Ils>: 48\"],\"x\":[-0.28152410647915976,-0.06411101664858361,null],\"y\":[0.14972303216954916,-0.05337087362811645,null],\"type\":\"scatter\"},{\"hoverinfo\":\"text\",\"line\":{\"color\":\"cornflowerblue\",\"width\":9.4},\"mode\":\"lines\",\"text\":[\"<Rosanette>--<la Mar\\u00e9chale>: 47\"],\"x\":[-0.28152410647915976,-0.12074827119872868,null],\"y\":[0.14972303216954916,0.31114191672339525,null],\"type\":\"scatter\"},{\"hoverinfo\":\"text\",\"line\":{\"color\":\"cornflowerblue\",\"width\":10.4},\"mode\":\"lines\",\"text\":[\"<Hussonnet>--<Martinon>: 52\"],\"x\":[-0.46448341515127,-0.1785741462907477,null],\"y\":[-0.011460085697087717,-0.23918372650230588,null],\"type\":\"scatter\"},{\"hoverinfo\":\"text\",\"line\":{\"color\":\"cornflowerblue\",\"width\":6.8},\"mode\":\"lines\",\"text\":[\"<Hussonnet>--<Pellerin>: 34\"],\"x\":[-0.46448341515127,-0.27422274317384393,null],\"y\":[-0.011460085697087717,0.26434267808974143,null],\"type\":\"scatter\"},{\"hoverinfo\":\"text\",\"line\":{\"color\":\"cornflowerblue\",\"width\":11.6},\"mode\":\"lines\",\"text\":[\"<Hussonnet>--<ils>: 58\"],\"x\":[-0.46448341515127,-0.22735076679397784,null],\"y\":[-0.011460085697087717,-0.08583539565563258,null],\"type\":\"scatter\"},{\"hoverinfo\":\"text\",\"line\":{\"color\":\"cornflowerblue\",\"width\":5.6},\"mode\":\"lines\",\"text\":[\"<Hussonnet>--<on>: 28\"],\"x\":[-0.46448341515127,-0.3379052632199143,null],\"y\":[-0.011460085697087717,-0.08574326966410879,null],\"type\":\"scatter\"},{\"hoverinfo\":\"text\",\"line\":{\"color\":\"cornflowerblue\",\"width\":16.8},\"mode\":\"lines\",\"text\":[\"<Pellerin>--<Regimbart>: 84\"],\"x\":[-0.27422274317384393,-0.02689229336692791,null],\"y\":[0.26434267808974143,0.3197876111415425,null],\"type\":\"scatter\"},{\"hoverinfo\":\"text\",\"line\":{\"color\":\"cornflowerblue\",\"width\":7.4},\"mode\":\"lines\",\"text\":[\"<Pellerin>--<ils>: 37\"],\"x\":[-0.27422274317384393,-0.22735076679397784,null],\"y\":[0.26434267808974143,-0.08583539565563258,null],\"type\":\"scatter\"},{\"hoverinfo\":\"text\",\"line\":{\"color\":\"cornflowerblue\",\"width\":16.0},\"mode\":\"lines\",\"text\":[\"<Pellerin>--<la Mar\\u00e9chale>: 80\"],\"x\":[-0.27422274317384393,-0.12074827119872868,null],\"y\":[0.26434267808974143,0.31114191672339525,null],\"type\":\"scatter\"},{\"hoverinfo\":\"text\",\"line\":{\"color\":\"cornflowerblue\",\"width\":6.8},\"mode\":\"lines\",\"text\":[\"<S\\u00e9n\\u00e9cal>--<ils>: 34\"],\"x\":[0.16185191193645068,-0.22735076679397784,null],\"y\":[-0.16883573011575773,-0.08583539565563258,null],\"type\":\"scatter\"},{\"hoverinfo\":\"text\",\"line\":{\"color\":\"cornflowerblue\",\"width\":3.0},\"mode\":\"lines\",\"text\":[\"<S\\u00e9n\\u00e9cal>--<on>: 15\"],\"x\":[0.16185191193645068,-0.3379052632199143,null],\"y\":[-0.16883573011575773,-0.08574326966410879,null],\"type\":\"scatter\"},{\"hoverinfo\":\"text\",\"line\":{\"color\":\"cornflowerblue\",\"width\":12.0},\"mode\":\"lines\",\"text\":[\"<Ils>--<ils>: 60\"],\"x\":[-0.06411101664858361,-0.22735076679397784,null],\"y\":[-0.05337087362811645,-0.08583539565563258,null],\"type\":\"scatter\"},{\"hoverinfo\":\"text\",\"line\":{\"color\":\"cornflowerblue\",\"width\":6.4},\"mode\":\"lines\",\"text\":[\"<Ils>--<!Il>: 32\"],\"x\":[-0.06411101664858361,0.3655763223641101,null],\"y\":[-0.05337087362811645,-0.202596419402428,null],\"type\":\"scatter\"},{\"hoverinfo\":\"text\",\"line\":{\"color\":\"cornflowerblue\",\"width\":6.0},\"mode\":\"lines\",\"text\":[\"<M . Dambreuse>--<!Il>: 30\"],\"x\":[0.045711005710177444,0.3655763223641101,null],\"y\":[-0.199995053576452,-0.202596419402428,null],\"type\":\"scatter\"},{\"hoverinfo\":\"text\",\"line\":{\"color\":\"cornflowerblue\",\"width\":4.6},\"mode\":\"lines\",\"text\":[\"<M . Dambreuse>--<elle>: 23\"],\"x\":[0.045711005710177444,0.1330566453214503,null],\"y\":[-0.199995053576452,0.18940831540151987,null],\"type\":\"scatter\"},{\"hoverinfo\":\"text\",\"line\":{\"color\":\"cornflowerblue\",\"width\":5.0},\"mode\":\"lines\",\"text\":[\"<M . Dambreuse>--<on>: 25\"],\"x\":[0.045711005710177444,-0.3379052632199143,null],\"y\":[-0.199995053576452,-0.08574326966410879,null],\"type\":\"scatter\"},{\"hoverinfo\":\"text\",\"line\":{\"color\":\"cornflowerblue\",\"width\":7.0},\"mode\":\"lines\",\"text\":[\"<Regimbart>--<elle>: 35\"],\"x\":[-0.02689229336692791,0.1330566453214503,null],\"y\":[0.3197876111415425,0.18940831540151987,null],\"type\":\"scatter\"},{\"hoverinfo\":\"text\",\"line\":{\"color\":\"cornflowerblue\",\"width\":2.6},\"mode\":\"lines\",\"text\":[\"<!Il>--<Mlle Roque>: 13\"],\"x\":[0.3655763223641101,1.0,null],\"y\":[-0.202596419402428,-0.5586707066932278,null],\"type\":\"scatter\"},{\"hoverinfo\":\"text\",\"line\":{\"color\":\"cornflowerblue\",\"width\":5.4},\"mode\":\"lines\",\"text\":[\"<Martinon>--<on>: 27\"],\"x\":[-0.1785741462907477,-0.3379052632199143,null],\"y\":[-0.23918372650230588,-0.08574326966410879,null],\"type\":\"scatter\"},{\"hoverinfo\":\"none\",\"marker\":{\"color\":[\"cornflowerblue\",\"cornflowerblue\",\"cornflowerblue\",\"cornflowerblue\",\"cornflowerblue\",\"cornflowerblue\",\"cornflowerblue\",\"cornflowerblue\",\"cornflowerblue\",\"cornflowerblue\",\"cornflowerblue\",\"cornflowerblue\",\"cornflowerblue\",\"cornflowerblue\",\"cornflowerblue\",\"cornflowerblue\",\"cornflowerblue\",\"cornflowerblue\",\"cornflowerblue\"],\"size\":[146.5,112.6,63.4,62.9,57.0,46.9,44.6,36.0,32.9,31.9,31.8,29.2,27.8,23.6,22.6,22.0,20.1,16.1,16.1]},\"mode\":\"markers+text\",\"text\":[\"<b><Fr\\u00e9d\\u00e9ric></b>\",\"<b><Arnoux></b>\",\"<b><Deslauriers></b>\",\"<b><Mme Arnoux></b>\",\"<b><Rosanette></b>\",\"<b><Hussonnet></b>\",\"<b><Pellerin></b>\",\"<b><!Fr\\u00e9d\\u00e9ric></b>\",\"<b><S\\u00e9n\\u00e9cal></b>\",\"<b><Ils></b>\",\"<b><ils></b>\",\"<b><M . Dambreuse></b>\",\"<b><Regimbart></b>\",\"<b><elle></b>\",\"<b><!Il></b>\",\"<b><Martinon></b>\",\"<b><Mlle Roque></b>\",\"<b><on></b>\",\"<b><la Mar\\u00e9chale></b>\"],\"textfont\":{\"size\":30},\"textposition\":\"top center\",\"x\":[-0.16977230165299131,-0.08766156834857437,0.07647826705023199,0.13886991941728744,-0.28152410647915976,-0.46448341515127,-0.27422274317384393,0.3117018205250075,0.16185191193645068,-0.06411101664858361,-0.22735076679397784,0.045711005710177444,-0.02689229336692791,0.1330566453214503,0.3655763223641101,-0.1785741462907477,1.0,-0.3379052632199143,-0.12074827119872868],\"y\":[0.15712453383842556,0.1844230314280664,-0.05487350905326242,0.0022810811047826313,0.14972303216954916,-0.011460085697087717,0.26434267808974143,0.08233257009135667,-0.16883573011575773,-0.05337087362811645,-0.08583539565563258,-0.199995053576452,0.3197876111415425,0.18940831540151987,-0.202596419402428,-0.23918372650230588,-0.5586707066932278,-0.08574326966410879,0.31114191672339525],\"type\":\"scatter\"}],                        {\"paper_bgcolor\":\"rgba(0,0,0,0)\",\"plot_bgcolor\":\"rgba(0,0,0,0)\",\"template\":{\"data\":{\"bar\":[{\"error_x\":{\"color\":\"#2a3f5f\"},\"error_y\":{\"color\":\"#2a3f5f\"},\"marker\":{\"line\":{\"color\":\"#E5ECF6\",\"width\":0.5},\"pattern\":{\"fillmode\":\"overlay\",\"size\":10,\"solidity\":0.2}},\"type\":\"bar\"}],\"barpolar\":[{\"marker\":{\"line\":{\"color\":\"#E5ECF6\",\"width\":0.5},\"pattern\":{\"fillmode\":\"overlay\",\"size\":10,\"solidity\":0.2}},\"type\":\"barpolar\"}],\"carpet\":[{\"aaxis\":{\"endlinecolor\":\"#2a3f5f\",\"gridcolor\":\"white\",\"linecolor\":\"white\",\"minorgridcolor\":\"white\",\"startlinecolor\":\"#2a3f5f\"},\"baxis\":{\"endlinecolor\":\"#2a3f5f\",\"gridcolor\":\"white\",\"linecolor\":\"white\",\"minorgridcolor\":\"white\",\"startlinecolor\":\"#2a3f5f\"},\"type\":\"carpet\"}],\"choropleth\":[{\"colorbar\":{\"outlinewidth\":0,\"ticks\":\"\"},\"type\":\"choropleth\"}],\"contour\":[{\"colorbar\":{\"outlinewidth\":0,\"ticks\":\"\"},\"colorscale\":[[0.0,\"#0d0887\"],[0.1111111111111111,\"#46039f\"],[0.2222222222222222,\"#7201a8\"],[0.3333333333333333,\"#9c179e\"],[0.4444444444444444,\"#bd3786\"],[0.5555555555555556,\"#d8576b\"],[0.6666666666666666,\"#ed7953\"],[0.7777777777777778,\"#fb9f3a\"],[0.8888888888888888,\"#fdca26\"],[1.0,\"#f0f921\"]],\"type\":\"contour\"}],\"contourcarpet\":[{\"colorbar\":{\"outlinewidth\":0,\"ticks\":\"\"},\"type\":\"contourcarpet\"}],\"heatmap\":[{\"colorbar\":{\"outlinewidth\":0,\"ticks\":\"\"},\"colorscale\":[[0.0,\"#0d0887\"],[0.1111111111111111,\"#46039f\"],[0.2222222222222222,\"#7201a8\"],[0.3333333333333333,\"#9c179e\"],[0.4444444444444444,\"#bd3786\"],[0.5555555555555556,\"#d8576b\"],[0.6666666666666666,\"#ed7953\"],[0.7777777777777778,\"#fb9f3a\"],[0.8888888888888888,\"#fdca26\"],[1.0,\"#f0f921\"]],\"type\":\"heatmap\"}],\"heatmapgl\":[{\"colorbar\":{\"outlinewidth\":0,\"ticks\":\"\"},\"colorscale\":[[0.0,\"#0d0887\"],[0.1111111111111111,\"#46039f\"],[0.2222222222222222,\"#7201a8\"],[0.3333333333333333,\"#9c179e\"],[0.4444444444444444,\"#bd3786\"],[0.5555555555555556,\"#d8576b\"],[0.6666666666666666,\"#ed7953\"],[0.7777777777777778,\"#fb9f3a\"],[0.8888888888888888,\"#fdca26\"],[1.0,\"#f0f921\"]],\"type\":\"heatmapgl\"}],\"histogram\":[{\"marker\":{\"pattern\":{\"fillmode\":\"overlay\",\"size\":10,\"solidity\":0.2}},\"type\":\"histogram\"}],\"histogram2d\":[{\"colorbar\":{\"outlinewidth\":0,\"ticks\":\"\"},\"colorscale\":[[0.0,\"#0d0887\"],[0.1111111111111111,\"#46039f\"],[0.2222222222222222,\"#7201a8\"],[0.3333333333333333,\"#9c179e\"],[0.4444444444444444,\"#bd3786\"],[0.5555555555555556,\"#d8576b\"],[0.6666666666666666,\"#ed7953\"],[0.7777777777777778,\"#fb9f3a\"],[0.8888888888888888,\"#fdca26\"],[1.0,\"#f0f921\"]],\"type\":\"histogram2d\"}],\"histogram2dcontour\":[{\"colorbar\":{\"outlinewidth\":0,\"ticks\":\"\"},\"colorscale\":[[0.0,\"#0d0887\"],[0.1111111111111111,\"#46039f\"],[0.2222222222222222,\"#7201a8\"],[0.3333333333333333,\"#9c179e\"],[0.4444444444444444,\"#bd3786\"],[0.5555555555555556,\"#d8576b\"],[0.6666666666666666,\"#ed7953\"],[0.7777777777777778,\"#fb9f3a\"],[0.8888888888888888,\"#fdca26\"],[1.0,\"#f0f921\"]],\"type\":\"histogram2dcontour\"}],\"mesh3d\":[{\"colorbar\":{\"outlinewidth\":0,\"ticks\":\"\"},\"type\":\"mesh3d\"}],\"parcoords\":[{\"line\":{\"colorbar\":{\"outlinewidth\":0,\"ticks\":\"\"}},\"type\":\"parcoords\"}],\"pie\":[{\"automargin\":true,\"type\":\"pie\"}],\"scatter\":[{\"marker\":{\"colorbar\":{\"outlinewidth\":0,\"ticks\":\"\"}},\"type\":\"scatter\"}],\"scatter3d\":[{\"line\":{\"colorbar\":{\"outlinewidth\":0,\"ticks\":\"\"}},\"marker\":{\"colorbar\":{\"outlinewidth\":0,\"ticks\":\"\"}},\"type\":\"scatter3d\"}],\"scattercarpet\":[{\"marker\":{\"colorbar\":{\"outlinewidth\":0,\"ticks\":\"\"}},\"type\":\"scattercarpet\"}],\"scattergeo\":[{\"marker\":{\"colorbar\":{\"outlinewidth\":0,\"ticks\":\"\"}},\"type\":\"scattergeo\"}],\"scattergl\":[{\"marker\":{\"colorbar\":{\"outlinewidth\":0,\"ticks\":\"\"}},\"type\":\"scattergl\"}],\"scattermapbox\":[{\"marker\":{\"colorbar\":{\"outlinewidth\":0,\"ticks\":\"\"}},\"type\":\"scattermapbox\"}],\"scatterpolar\":[{\"marker\":{\"colorbar\":{\"outlinewidth\":0,\"ticks\":\"\"}},\"type\":\"scatterpolar\"}],\"scatterpolargl\":[{\"marker\":{\"colorbar\":{\"outlinewidth\":0,\"ticks\":\"\"}},\"type\":\"scatterpolargl\"}],\"scatterternary\":[{\"marker\":{\"colorbar\":{\"outlinewidth\":0,\"ticks\":\"\"}},\"type\":\"scatterternary\"}],\"surface\":[{\"colorbar\":{\"outlinewidth\":0,\"ticks\":\"\"},\"colorscale\":[[0.0,\"#0d0887\"],[0.1111111111111111,\"#46039f\"],[0.2222222222222222,\"#7201a8\"],[0.3333333333333333,\"#9c179e\"],[0.4444444444444444,\"#bd3786\"],[0.5555555555555556,\"#d8576b\"],[0.6666666666666666,\"#ed7953\"],[0.7777777777777778,\"#fb9f3a\"],[0.8888888888888888,\"#fdca26\"],[1.0,\"#f0f921\"]],\"type\":\"surface\"}],\"table\":[{\"cells\":{\"fill\":{\"color\":\"#EBF0F8\"},\"line\":{\"color\":\"white\"}},\"header\":{\"fill\":{\"color\":\"#C8D4E3\"},\"line\":{\"color\":\"white\"}},\"type\":\"table\"}]},\"layout\":{\"annotationdefaults\":{\"arrowcolor\":\"#2a3f5f\",\"arrowhead\":0,\"arrowwidth\":1},\"autotypenumbers\":\"strict\",\"coloraxis\":{\"colorbar\":{\"outlinewidth\":0,\"ticks\":\"\"}},\"colorscale\":{\"diverging\":[[0,\"#8e0152\"],[0.1,\"#c51b7d\"],[0.2,\"#de77ae\"],[0.3,\"#f1b6da\"],[0.4,\"#fde0ef\"],[0.5,\"#f7f7f7\"],[0.6,\"#e6f5d0\"],[0.7,\"#b8e186\"],[0.8,\"#7fbc41\"],[0.9,\"#4d9221\"],[1,\"#276419\"]],\"sequential\":[[0.0,\"#0d0887\"],[0.1111111111111111,\"#46039f\"],[0.2222222222222222,\"#7201a8\"],[0.3333333333333333,\"#9c179e\"],[0.4444444444444444,\"#bd3786\"],[0.5555555555555556,\"#d8576b\"],[0.6666666666666666,\"#ed7953\"],[0.7777777777777778,\"#fb9f3a\"],[0.8888888888888888,\"#fdca26\"],[1.0,\"#f0f921\"]],\"sequentialminus\":[[0.0,\"#0d0887\"],[0.1111111111111111,\"#46039f\"],[0.2222222222222222,\"#7201a8\"],[0.3333333333333333,\"#9c179e\"],[0.4444444444444444,\"#bd3786\"],[0.5555555555555556,\"#d8576b\"],[0.6666666666666666,\"#ed7953\"],[0.7777777777777778,\"#fb9f3a\"],[0.8888888888888888,\"#fdca26\"],[1.0,\"#f0f921\"]]},\"colorway\":[\"#636efa\",\"#EF553B\",\"#00cc96\",\"#ab63fa\",\"#FFA15A\",\"#19d3f3\",\"#FF6692\",\"#B6E880\",\"#FF97FF\",\"#FECB52\"],\"font\":{\"color\":\"#2a3f5f\"},\"geo\":{\"bgcolor\":\"white\",\"lakecolor\":\"white\",\"landcolor\":\"#E5ECF6\",\"showlakes\":true,\"showland\":true,\"subunitcolor\":\"white\"},\"hoverlabel\":{\"align\":\"left\"},\"hovermode\":\"closest\",\"mapbox\":{\"style\":\"light\"},\"paper_bgcolor\":\"white\",\"plot_bgcolor\":\"#E5ECF6\",\"polar\":{\"angularaxis\":{\"gridcolor\":\"white\",\"linecolor\":\"white\",\"ticks\":\"\"},\"bgcolor\":\"#E5ECF6\",\"radialaxis\":{\"gridcolor\":\"white\",\"linecolor\":\"white\",\"ticks\":\"\"}},\"scene\":{\"xaxis\":{\"backgroundcolor\":\"#E5ECF6\",\"gridcolor\":\"white\",\"gridwidth\":2,\"linecolor\":\"white\",\"showbackground\":true,\"ticks\":\"\",\"zerolinecolor\":\"white\"},\"yaxis\":{\"backgroundcolor\":\"#E5ECF6\",\"gridcolor\":\"white\",\"gridwidth\":2,\"linecolor\":\"white\",\"showbackground\":true,\"ticks\":\"\",\"zerolinecolor\":\"white\"},\"zaxis\":{\"backgroundcolor\":\"#E5ECF6\",\"gridcolor\":\"white\",\"gridwidth\":2,\"linecolor\":\"white\",\"showbackground\":true,\"ticks\":\"\",\"zerolinecolor\":\"white\"}},\"shapedefaults\":{\"line\":{\"color\":\"#2a3f5f\"}},\"ternary\":{\"aaxis\":{\"gridcolor\":\"white\",\"linecolor\":\"white\",\"ticks\":\"\"},\"baxis\":{\"gridcolor\":\"white\",\"linecolor\":\"white\",\"ticks\":\"\"},\"bgcolor\":\"#E5ECF6\",\"caxis\":{\"gridcolor\":\"white\",\"linecolor\":\"white\",\"ticks\":\"\"}},\"title\":{\"x\":0.05},\"xaxis\":{\"automargin\":true,\"gridcolor\":\"white\",\"linecolor\":\"white\",\"ticks\":\"\",\"title\":{\"standoff\":15},\"zerolinecolor\":\"white\",\"zerolinewidth\":2},\"yaxis\":{\"automargin\":true,\"gridcolor\":\"white\",\"linecolor\":\"white\",\"ticks\":\"\",\"title\":{\"standoff\":15},\"zerolinecolor\":\"white\",\"zerolinewidth\":2}}},\"showlegend\":false,\"xaxis\":{\"showticklabels\":false},\"yaxis\":{\"showticklabels\":false}},                        {\"responsive\": true}                    ).then(function(){\n",
       "                            \n",
       "var gd = document.getElementById('b64cd914-e9ab-4665-8107-03e2aa7332e0');\n",
       "var x = new MutationObserver(function (mutations, observer) {{\n",
       "        var display = window.getComputedStyle(gd).display;\n",
       "        if (!display || display === 'none') {{\n",
       "            console.log([gd, 'removed!']);\n",
       "            Plotly.purge(gd);\n",
       "            observer.disconnect();\n",
       "        }}\n",
       "}});\n",
       "\n",
       "// Listen for the removal of the full notebook cells\n",
       "var notebookContainer = gd.closest('#notebook-container');\n",
       "if (notebookContainer) {{\n",
       "    x.observe(notebookContainer, {childList: true});\n",
       "}}\n",
       "\n",
       "// Listen for the clearing of the current output cell\n",
       "var outputEl = gd.closest('.output');\n",
       "if (outputEl) {{\n",
       "    x.observe(outputEl, {childList: true});\n",
       "}}\n",
       "\n",
       "                        })                };                });            </script>        </div>"
      ]
     },
     "metadata": {},
     "output_type": "display_data"
    },
    {
     "data": {
      "text/plain": [
       "'GraphEducation.html'"
      ]
     },
     "execution_count": 175,
     "metadata": {},
     "output_type": "execute_result"
    }
   ],
   "source": [
    "layout = go.Layout(\n",
    "    paper_bgcolor='rgba(0,0,0,0)',\n",
    "    plot_bgcolor='rgba(0,0,0,0)'\n",
    ")\n",
    "\n",
    "\n",
    "fig = go.Figure(layout = layout)\n",
    "\n",
    "for trace in edge_trace:\n",
    "    fig.add_trace(trace)\n",
    "\n",
    "fig.add_trace(node_trace)\n",
    "\n",
    "fig.update_layout(showlegend = False)\n",
    "\n",
    "fig.update_xaxes(showticklabels = False)\n",
    "\n",
    "fig.update_yaxes(showticklabels = False)\n",
    "\n",
    "fig.show()\n",
    "py.plot(fig, filename='GraphEducation.html')"
   ]
  },
  {
   "cell_type": "code",
   "execution_count": null,
   "metadata": {},
   "outputs": [],
   "source": []
  },
  {
   "cell_type": "code",
   "execution_count": null,
   "metadata": {},
   "outputs": [],
   "source": []
  },
  {
   "cell_type": "code",
   "execution_count": 121,
   "metadata": {},
   "outputs": [
    {
     "data": {
      "application/vnd.plotly.v1+json": {
       "config": {
        "plotlyServerURL": "https://plot.ly"
       },
       "data": [
        {
         "hoverinfo": "text",
         "line": {
          "color": "cornflowerblue",
          "width": 46.6
         },
         "mode": "lines",
         "text": [
          "<Frédéric>--<Pellerin>: 233"
         ],
         "type": "scatter",
         "x": [
          0.4053071696424293,
          0.09778689453179601,
          null
         ],
         "y": [
          0.6518642303403775,
          0.8966203649463261,
          null
         ]
        },
        {
         "hoverinfo": "text",
         "line": {
          "color": "cornflowerblue",
          "width": 22.4
         },
         "mode": "lines",
         "text": [
          "<Frédéric>--<Arnoux>: 112"
         ],
         "type": "scatter",
         "x": [
          0.4053071696424293,
          0.07202445424003336,
          null
         ],
         "y": [
          0.6518642303403775,
          0.3632832498157785,
          null
         ]
        },
        {
         "hoverinfo": "text",
         "line": {
          "color": "cornflowerblue",
          "width": 40.6
         },
         "mode": "lines",
         "text": [
          "<Frédéric>--<Rosanette>: 203"
         ],
         "type": "scatter",
         "x": [
          0.4053071696424293,
          0.08589345649141587,
          null
         ],
         "y": [
          0.6518642303403775,
          0.6129511345741726,
          null
         ]
        },
        {
         "hoverinfo": "text",
         "line": {
          "color": "cornflowerblue",
          "width": 24.8
         },
         "mode": "lines",
         "text": [
          "<Frédéric>--<Ils>: 124"
         ],
         "type": "scatter",
         "x": [
          0.4053071696424293,
          0.4497531412407066,
          null
         ],
         "y": [
          0.6518642303403775,
          0.0916874686905936,
          null
         ]
        },
        {
         "hoverinfo": "text",
         "line": {
          "color": "cornflowerblue",
          "width": 22.4
         },
         "mode": "lines",
         "text": [
          "<Arnoux>--<Deslauriers>: 112"
         ],
         "type": "scatter",
         "x": [
          0.07202445424003336,
          -0.2288178939186045,
          null
         ],
         "y": [
          0.3632832498157785,
          -0.2946923424356531,
          null
         ]
        },
        {
         "hoverinfo": "text",
         "line": {
          "color": "cornflowerblue",
          "width": 92.6
         },
         "mode": "lines",
         "text": [
          "<Arnoux>--<Rosanette>: 463"
         ],
         "type": "scatter",
         "x": [
          0.07202445424003336,
          0.08589345649141587,
          null
         ],
         "y": [
          0.3632832498157785,
          0.6129511345741726,
          null
         ]
        },
        {
         "hoverinfo": "text",
         "line": {
          "color": "cornflowerblue",
          "width": 22.8
         },
         "mode": "lines",
         "text": [
          "<Arnoux>--<Pellerin>: 114"
         ],
         "type": "scatter",
         "x": [
          0.07202445424003336,
          0.09778689453179601,
          null
         ],
         "y": [
          0.3632832498157785,
          0.8966203649463261,
          null
         ]
        },
        {
         "hoverinfo": "text",
         "line": {
          "color": "cornflowerblue",
          "width": 12
         },
         "mode": "lines",
         "text": [
          "<Arnoux>--<Ils>: 60"
         ],
         "type": "scatter",
         "x": [
          0.07202445424003336,
          0.4497531412407066,
          null
         ],
         "y": [
          0.3632832498157785,
          0.0916874686905936,
          null
         ]
        },
        {
         "hoverinfo": "text",
         "line": {
          "color": "cornflowerblue",
          "width": 17.2
         },
         "mode": "lines",
         "text": [
          "<Deslauriers>--<Hussonnet>: 86"
         ],
         "type": "scatter",
         "x": [
          -0.2288178939186045,
          -0.49412893794615004,
          null
         ],
         "y": [
          -0.2946923424356531,
          0.38349049849560446,
          null
         ]
        },
        {
         "hoverinfo": "text",
         "line": {
          "color": "cornflowerblue",
          "width": 17.6
         },
         "mode": "lines",
         "text": [
          "<Deslauriers>--<Mme Arnoux>: 88"
         ],
         "type": "scatter",
         "x": [
          -0.2288178939186045,
          -0.09811819276781876,
          null
         ],
         "y": [
          -0.2946923424356531,
          -0.7430204608759041,
          null
         ]
        },
        {
         "hoverinfo": "text",
         "line": {
          "color": "cornflowerblue",
          "width": 17
         },
         "mode": "lines",
         "text": [
          "<Deslauriers>--<!Frédéric>: 85"
         ],
         "type": "scatter",
         "x": [
          -0.2288178939186045,
          0.1504006876604005,
          null
         ],
         "y": [
          -0.2946923424356531,
          -1,
          null
         ]
        },
        {
         "hoverinfo": "text",
         "line": {
          "color": "cornflowerblue",
          "width": 13.8
         },
         "mode": "lines",
         "text": [
          "<Deslauriers>--<Sénécal>: 69"
         ],
         "type": "scatter",
         "x": [
          -0.2288178939186045,
          -0.44010077917420826,
          null
         ],
         "y": [
          -0.2946923424356531,
          -0.9621841435512919,
          null
         ]
        },
        {
         "hoverinfo": "text",
         "line": {
          "color": "cornflowerblue",
          "width": 28.2
         },
         "mode": "lines",
         "text": [
          "<Mme Arnoux>--<!Frédéric>: 141"
         ],
         "type": "scatter",
         "x": [
          -0.09811819276781876,
          0.1504006876604005,
          null
         ],
         "y": [
          -0.7430204608759041,
          -1,
          null
         ]
        },
        {
         "hoverinfo": "text",
         "line": {
          "color": "cornflowerblue",
          "width": 51.6
         },
         "mode": "lines",
         "text": [
          "<Mme Arnoux>--<Sénécal>: 258"
         ],
         "type": "scatter",
         "x": [
          -0.09811819276781876,
          -0.44010077917420826,
          null
         ],
         "y": [
          -0.7430204608759041,
          -0.9621841435512919,
          null
         ]
        },
        {
         "hoverinfo": "text",
         "line": {
          "color": "cornflowerblue",
          "width": 12.2
         },
         "mode": "lines",
         "text": [
          "<Mme Arnoux>--<Ils>: 61"
         ],
         "type": "scatter",
         "x": [
          -0.09811819276781876,
          0.4497531412407066,
          null
         ],
         "y": [
          -0.7430204608759041,
          0.0916874686905936,
          null
         ]
        },
        {
         "hoverinfo": "text",
         "line": {
          "color": "cornflowerblue",
          "width": 22.6
         },
         "mode": "lines",
         "text": [
          "<Rosanette>--<Pellerin>: 113"
         ],
         "type": "scatter",
         "x": [
          0.08589345649141587,
          0.09778689453179601,
          null
         ],
         "y": [
          0.6129511345741726,
          0.8966203649463261,
          null
         ]
        },
        {
         "hoverinfo": "text",
         "line": {
          "color": "cornflowerblue",
          "width": 13.4
         },
         "mode": "lines",
         "text": [
          "<Rosanette>--<Hussonnet>: 67"
         ],
         "type": "scatter",
         "x": [
          0.08589345649141587,
          -0.49412893794615004,
          null
         ],
         "y": [
          0.6129511345741726,
          0.38349049849560446,
          null
         ]
        },
        {
         "hoverinfo": "text",
         "line": {
          "color": "cornflowerblue",
          "width": 11.4
         },
         "mode": "lines",
         "text": [
          "<Rosanette>--<Ils>: 57"
         ],
         "type": "scatter",
         "x": [
          0.08589345649141587,
          0.4497531412407066,
          null
         ],
         "y": [
          0.6129511345741726,
          0.0916874686905936,
          null
         ]
        },
        {
         "hoverinfo": "text",
         "line": {
          "color": "cornflowerblue",
          "width": 10.2
         },
         "mode": "lines",
         "text": [
          "<Hussonnet>--<Pellerin>: 51"
         ],
         "type": "scatter",
         "x": [
          -0.49412893794615004,
          0.09778689453179601,
          null
         ],
         "y": [
          0.38349049849560446,
          0.8966203649463261,
          null
         ]
        },
        {
         "hoverinfo": "none",
         "marker": {
          "color": [
           "cornflowerblue",
           "cornflowerblue",
           "cornflowerblue",
           "cornflowerblue",
           "cornflowerblue",
           "cornflowerblue",
           "cornflowerblue",
           "cornflowerblue",
           "cornflowerblue",
           "cornflowerblue"
          ],
          "size": [
           146.5,
           112.6,
           63.4,
           62.9,
           57,
           46.9,
           44.6,
           36,
           32.9,
           31.9
          ]
         },
         "mode": "markers+text",
         "text": [
          "<b><Frédéric></b>",
          "<b><Arnoux></b>",
          "<b><Deslauriers></b>",
          "<b><Mme Arnoux></b>",
          "<b><Rosanette></b>",
          "<b><Hussonnet></b>",
          "<b><Pellerin></b>",
          "<b><!Frédéric></b>",
          "<b><Sénécal></b>",
          "<b><Ils></b>"
         ],
         "textfont": {
          "size": 30
         },
         "textposition": "top center",
         "type": "scatter",
         "x": [
          0.4053071696424293,
          0.07202445424003336,
          -0.2288178939186045,
          -0.09811819276781876,
          0.08589345649141587,
          -0.49412893794615004,
          0.09778689453179601,
          0.1504006876604005,
          -0.44010077917420826,
          0.4497531412407066
         ],
         "y": [
          0.6518642303403775,
          0.3632832498157785,
          -0.2946923424356531,
          -0.7430204608759041,
          0.6129511345741726,
          0.38349049849560446,
          0.8966203649463261,
          -1,
          -0.9621841435512919,
          0.0916874686905936
         ]
        }
       ],
       "layout": {
        "paper_bgcolor": "rgba(0,0,0,0)",
        "plot_bgcolor": "rgba(0,0,0,0)",
        "showlegend": false,
        "template": {
         "data": {
          "bar": [
           {
            "error_x": {
             "color": "#2a3f5f"
            },
            "error_y": {
             "color": "#2a3f5f"
            },
            "marker": {
             "line": {
              "color": "#E5ECF6",
              "width": 0.5
             },
             "pattern": {
              "fillmode": "overlay",
              "size": 10,
              "solidity": 0.2
             }
            },
            "type": "bar"
           }
          ],
          "barpolar": [
           {
            "marker": {
             "line": {
              "color": "#E5ECF6",
              "width": 0.5
             },
             "pattern": {
              "fillmode": "overlay",
              "size": 10,
              "solidity": 0.2
             }
            },
            "type": "barpolar"
           }
          ],
          "carpet": [
           {
            "aaxis": {
             "endlinecolor": "#2a3f5f",
             "gridcolor": "white",
             "linecolor": "white",
             "minorgridcolor": "white",
             "startlinecolor": "#2a3f5f"
            },
            "baxis": {
             "endlinecolor": "#2a3f5f",
             "gridcolor": "white",
             "linecolor": "white",
             "minorgridcolor": "white",
             "startlinecolor": "#2a3f5f"
            },
            "type": "carpet"
           }
          ],
          "choropleth": [
           {
            "colorbar": {
             "outlinewidth": 0,
             "ticks": ""
            },
            "type": "choropleth"
           }
          ],
          "contour": [
           {
            "colorbar": {
             "outlinewidth": 0,
             "ticks": ""
            },
            "colorscale": [
             [
              0,
              "#0d0887"
             ],
             [
              0.1111111111111111,
              "#46039f"
             ],
             [
              0.2222222222222222,
              "#7201a8"
             ],
             [
              0.3333333333333333,
              "#9c179e"
             ],
             [
              0.4444444444444444,
              "#bd3786"
             ],
             [
              0.5555555555555556,
              "#d8576b"
             ],
             [
              0.6666666666666666,
              "#ed7953"
             ],
             [
              0.7777777777777778,
              "#fb9f3a"
             ],
             [
              0.8888888888888888,
              "#fdca26"
             ],
             [
              1,
              "#f0f921"
             ]
            ],
            "type": "contour"
           }
          ],
          "contourcarpet": [
           {
            "colorbar": {
             "outlinewidth": 0,
             "ticks": ""
            },
            "type": "contourcarpet"
           }
          ],
          "heatmap": [
           {
            "colorbar": {
             "outlinewidth": 0,
             "ticks": ""
            },
            "colorscale": [
             [
              0,
              "#0d0887"
             ],
             [
              0.1111111111111111,
              "#46039f"
             ],
             [
              0.2222222222222222,
              "#7201a8"
             ],
             [
              0.3333333333333333,
              "#9c179e"
             ],
             [
              0.4444444444444444,
              "#bd3786"
             ],
             [
              0.5555555555555556,
              "#d8576b"
             ],
             [
              0.6666666666666666,
              "#ed7953"
             ],
             [
              0.7777777777777778,
              "#fb9f3a"
             ],
             [
              0.8888888888888888,
              "#fdca26"
             ],
             [
              1,
              "#f0f921"
             ]
            ],
            "type": "heatmap"
           }
          ],
          "heatmapgl": [
           {
            "colorbar": {
             "outlinewidth": 0,
             "ticks": ""
            },
            "colorscale": [
             [
              0,
              "#0d0887"
             ],
             [
              0.1111111111111111,
              "#46039f"
             ],
             [
              0.2222222222222222,
              "#7201a8"
             ],
             [
              0.3333333333333333,
              "#9c179e"
             ],
             [
              0.4444444444444444,
              "#bd3786"
             ],
             [
              0.5555555555555556,
              "#d8576b"
             ],
             [
              0.6666666666666666,
              "#ed7953"
             ],
             [
              0.7777777777777778,
              "#fb9f3a"
             ],
             [
              0.8888888888888888,
              "#fdca26"
             ],
             [
              1,
              "#f0f921"
             ]
            ],
            "type": "heatmapgl"
           }
          ],
          "histogram": [
           {
            "marker": {
             "pattern": {
              "fillmode": "overlay",
              "size": 10,
              "solidity": 0.2
             }
            },
            "type": "histogram"
           }
          ],
          "histogram2d": [
           {
            "colorbar": {
             "outlinewidth": 0,
             "ticks": ""
            },
            "colorscale": [
             [
              0,
              "#0d0887"
             ],
             [
              0.1111111111111111,
              "#46039f"
             ],
             [
              0.2222222222222222,
              "#7201a8"
             ],
             [
              0.3333333333333333,
              "#9c179e"
             ],
             [
              0.4444444444444444,
              "#bd3786"
             ],
             [
              0.5555555555555556,
              "#d8576b"
             ],
             [
              0.6666666666666666,
              "#ed7953"
             ],
             [
              0.7777777777777778,
              "#fb9f3a"
             ],
             [
              0.8888888888888888,
              "#fdca26"
             ],
             [
              1,
              "#f0f921"
             ]
            ],
            "type": "histogram2d"
           }
          ],
          "histogram2dcontour": [
           {
            "colorbar": {
             "outlinewidth": 0,
             "ticks": ""
            },
            "colorscale": [
             [
              0,
              "#0d0887"
             ],
             [
              0.1111111111111111,
              "#46039f"
             ],
             [
              0.2222222222222222,
              "#7201a8"
             ],
             [
              0.3333333333333333,
              "#9c179e"
             ],
             [
              0.4444444444444444,
              "#bd3786"
             ],
             [
              0.5555555555555556,
              "#d8576b"
             ],
             [
              0.6666666666666666,
              "#ed7953"
             ],
             [
              0.7777777777777778,
              "#fb9f3a"
             ],
             [
              0.8888888888888888,
              "#fdca26"
             ],
             [
              1,
              "#f0f921"
             ]
            ],
            "type": "histogram2dcontour"
           }
          ],
          "mesh3d": [
           {
            "colorbar": {
             "outlinewidth": 0,
             "ticks": ""
            },
            "type": "mesh3d"
           }
          ],
          "parcoords": [
           {
            "line": {
             "colorbar": {
              "outlinewidth": 0,
              "ticks": ""
             }
            },
            "type": "parcoords"
           }
          ],
          "pie": [
           {
            "automargin": true,
            "type": "pie"
           }
          ],
          "scatter": [
           {
            "marker": {
             "colorbar": {
              "outlinewidth": 0,
              "ticks": ""
             }
            },
            "type": "scatter"
           }
          ],
          "scatter3d": [
           {
            "line": {
             "colorbar": {
              "outlinewidth": 0,
              "ticks": ""
             }
            },
            "marker": {
             "colorbar": {
              "outlinewidth": 0,
              "ticks": ""
             }
            },
            "type": "scatter3d"
           }
          ],
          "scattercarpet": [
           {
            "marker": {
             "colorbar": {
              "outlinewidth": 0,
              "ticks": ""
             }
            },
            "type": "scattercarpet"
           }
          ],
          "scattergeo": [
           {
            "marker": {
             "colorbar": {
              "outlinewidth": 0,
              "ticks": ""
             }
            },
            "type": "scattergeo"
           }
          ],
          "scattergl": [
           {
            "marker": {
             "colorbar": {
              "outlinewidth": 0,
              "ticks": ""
             }
            },
            "type": "scattergl"
           }
          ],
          "scattermapbox": [
           {
            "marker": {
             "colorbar": {
              "outlinewidth": 0,
              "ticks": ""
             }
            },
            "type": "scattermapbox"
           }
          ],
          "scatterpolar": [
           {
            "marker": {
             "colorbar": {
              "outlinewidth": 0,
              "ticks": ""
             }
            },
            "type": "scatterpolar"
           }
          ],
          "scatterpolargl": [
           {
            "marker": {
             "colorbar": {
              "outlinewidth": 0,
              "ticks": ""
             }
            },
            "type": "scatterpolargl"
           }
          ],
          "scatterternary": [
           {
            "marker": {
             "colorbar": {
              "outlinewidth": 0,
              "ticks": ""
             }
            },
            "type": "scatterternary"
           }
          ],
          "surface": [
           {
            "colorbar": {
             "outlinewidth": 0,
             "ticks": ""
            },
            "colorscale": [
             [
              0,
              "#0d0887"
             ],
             [
              0.1111111111111111,
              "#46039f"
             ],
             [
              0.2222222222222222,
              "#7201a8"
             ],
             [
              0.3333333333333333,
              "#9c179e"
             ],
             [
              0.4444444444444444,
              "#bd3786"
             ],
             [
              0.5555555555555556,
              "#d8576b"
             ],
             [
              0.6666666666666666,
              "#ed7953"
             ],
             [
              0.7777777777777778,
              "#fb9f3a"
             ],
             [
              0.8888888888888888,
              "#fdca26"
             ],
             [
              1,
              "#f0f921"
             ]
            ],
            "type": "surface"
           }
          ],
          "table": [
           {
            "cells": {
             "fill": {
              "color": "#EBF0F8"
             },
             "line": {
              "color": "white"
             }
            },
            "header": {
             "fill": {
              "color": "#C8D4E3"
             },
             "line": {
              "color": "white"
             }
            },
            "type": "table"
           }
          ]
         },
         "layout": {
          "annotationdefaults": {
           "arrowcolor": "#2a3f5f",
           "arrowhead": 0,
           "arrowwidth": 1
          },
          "autotypenumbers": "strict",
          "coloraxis": {
           "colorbar": {
            "outlinewidth": 0,
            "ticks": ""
           }
          },
          "colorscale": {
           "diverging": [
            [
             0,
             "#8e0152"
            ],
            [
             0.1,
             "#c51b7d"
            ],
            [
             0.2,
             "#de77ae"
            ],
            [
             0.3,
             "#f1b6da"
            ],
            [
             0.4,
             "#fde0ef"
            ],
            [
             0.5,
             "#f7f7f7"
            ],
            [
             0.6,
             "#e6f5d0"
            ],
            [
             0.7,
             "#b8e186"
            ],
            [
             0.8,
             "#7fbc41"
            ],
            [
             0.9,
             "#4d9221"
            ],
            [
             1,
             "#276419"
            ]
           ],
           "sequential": [
            [
             0,
             "#0d0887"
            ],
            [
             0.1111111111111111,
             "#46039f"
            ],
            [
             0.2222222222222222,
             "#7201a8"
            ],
            [
             0.3333333333333333,
             "#9c179e"
            ],
            [
             0.4444444444444444,
             "#bd3786"
            ],
            [
             0.5555555555555556,
             "#d8576b"
            ],
            [
             0.6666666666666666,
             "#ed7953"
            ],
            [
             0.7777777777777778,
             "#fb9f3a"
            ],
            [
             0.8888888888888888,
             "#fdca26"
            ],
            [
             1,
             "#f0f921"
            ]
           ],
           "sequentialminus": [
            [
             0,
             "#0d0887"
            ],
            [
             0.1111111111111111,
             "#46039f"
            ],
            [
             0.2222222222222222,
             "#7201a8"
            ],
            [
             0.3333333333333333,
             "#9c179e"
            ],
            [
             0.4444444444444444,
             "#bd3786"
            ],
            [
             0.5555555555555556,
             "#d8576b"
            ],
            [
             0.6666666666666666,
             "#ed7953"
            ],
            [
             0.7777777777777778,
             "#fb9f3a"
            ],
            [
             0.8888888888888888,
             "#fdca26"
            ],
            [
             1,
             "#f0f921"
            ]
           ]
          },
          "colorway": [
           "#636efa",
           "#EF553B",
           "#00cc96",
           "#ab63fa",
           "#FFA15A",
           "#19d3f3",
           "#FF6692",
           "#B6E880",
           "#FF97FF",
           "#FECB52"
          ],
          "font": {
           "color": "#2a3f5f"
          },
          "geo": {
           "bgcolor": "white",
           "lakecolor": "white",
           "landcolor": "#E5ECF6",
           "showlakes": true,
           "showland": true,
           "subunitcolor": "white"
          },
          "hoverlabel": {
           "align": "left"
          },
          "hovermode": "closest",
          "mapbox": {
           "style": "light"
          },
          "paper_bgcolor": "white",
          "plot_bgcolor": "#E5ECF6",
          "polar": {
           "angularaxis": {
            "gridcolor": "white",
            "linecolor": "white",
            "ticks": ""
           },
           "bgcolor": "#E5ECF6",
           "radialaxis": {
            "gridcolor": "white",
            "linecolor": "white",
            "ticks": ""
           }
          },
          "scene": {
           "xaxis": {
            "backgroundcolor": "#E5ECF6",
            "gridcolor": "white",
            "gridwidth": 2,
            "linecolor": "white",
            "showbackground": true,
            "ticks": "",
            "zerolinecolor": "white"
           },
           "yaxis": {
            "backgroundcolor": "#E5ECF6",
            "gridcolor": "white",
            "gridwidth": 2,
            "linecolor": "white",
            "showbackground": true,
            "ticks": "",
            "zerolinecolor": "white"
           },
           "zaxis": {
            "backgroundcolor": "#E5ECF6",
            "gridcolor": "white",
            "gridwidth": 2,
            "linecolor": "white",
            "showbackground": true,
            "ticks": "",
            "zerolinecolor": "white"
           }
          },
          "shapedefaults": {
           "line": {
            "color": "#2a3f5f"
           }
          },
          "ternary": {
           "aaxis": {
            "gridcolor": "white",
            "linecolor": "white",
            "ticks": ""
           },
           "baxis": {
            "gridcolor": "white",
            "linecolor": "white",
            "ticks": ""
           },
           "bgcolor": "#E5ECF6",
           "caxis": {
            "gridcolor": "white",
            "linecolor": "white",
            "ticks": ""
           }
          },
          "title": {
           "x": 0.05
          },
          "xaxis": {
           "automargin": true,
           "gridcolor": "white",
           "linecolor": "white",
           "ticks": "",
           "title": {
            "standoff": 15
           },
           "zerolinecolor": "white",
           "zerolinewidth": 2
          },
          "yaxis": {
           "automargin": true,
           "gridcolor": "white",
           "linecolor": "white",
           "ticks": "",
           "title": {
            "standoff": 15
           },
           "zerolinecolor": "white",
           "zerolinewidth": 2
          }
         }
        },
        "xaxis": {
         "showticklabels": false
        },
        "yaxis": {
         "showticklabels": false
        }
       }
      },
      "text/html": [
       "<div>                            <div id=\"1b8cd862-e49a-4b7f-9c9b-7335f22aad16\" class=\"plotly-graph-div\" style=\"height:525px; width:100%;\"></div>            <script type=\"text/javascript\">                require([\"plotly\"], function(Plotly) {                    window.PLOTLYENV=window.PLOTLYENV || {};                                    if (document.getElementById(\"1b8cd862-e49a-4b7f-9c9b-7335f22aad16\")) {                    Plotly.newPlot(                        \"1b8cd862-e49a-4b7f-9c9b-7335f22aad16\",                        [{\"hoverinfo\":\"text\",\"line\":{\"color\":\"cornflowerblue\",\"width\":46.6},\"mode\":\"lines\",\"text\":[\"<Fr\\u00e9d\\u00e9ric>--<Pellerin>: 233\"],\"x\":[0.4053071696424293,0.09778689453179601,null],\"y\":[0.6518642303403775,0.8966203649463261,null],\"type\":\"scatter\"},{\"hoverinfo\":\"text\",\"line\":{\"color\":\"cornflowerblue\",\"width\":22.4},\"mode\":\"lines\",\"text\":[\"<Fr\\u00e9d\\u00e9ric>--<Arnoux>: 112\"],\"x\":[0.4053071696424293,0.07202445424003336,null],\"y\":[0.6518642303403775,0.3632832498157785,null],\"type\":\"scatter\"},{\"hoverinfo\":\"text\",\"line\":{\"color\":\"cornflowerblue\",\"width\":40.6},\"mode\":\"lines\",\"text\":[\"<Fr\\u00e9d\\u00e9ric>--<Rosanette>: 203\"],\"x\":[0.4053071696424293,0.08589345649141587,null],\"y\":[0.6518642303403775,0.6129511345741726,null],\"type\":\"scatter\"},{\"hoverinfo\":\"text\",\"line\":{\"color\":\"cornflowerblue\",\"width\":24.8},\"mode\":\"lines\",\"text\":[\"<Fr\\u00e9d\\u00e9ric>--<Ils>: 124\"],\"x\":[0.4053071696424293,0.4497531412407066,null],\"y\":[0.6518642303403775,0.0916874686905936,null],\"type\":\"scatter\"},{\"hoverinfo\":\"text\",\"line\":{\"color\":\"cornflowerblue\",\"width\":22.4},\"mode\":\"lines\",\"text\":[\"<Arnoux>--<Deslauriers>: 112\"],\"x\":[0.07202445424003336,-0.2288178939186045,null],\"y\":[0.3632832498157785,-0.2946923424356531,null],\"type\":\"scatter\"},{\"hoverinfo\":\"text\",\"line\":{\"color\":\"cornflowerblue\",\"width\":92.6},\"mode\":\"lines\",\"text\":[\"<Arnoux>--<Rosanette>: 463\"],\"x\":[0.07202445424003336,0.08589345649141587,null],\"y\":[0.3632832498157785,0.6129511345741726,null],\"type\":\"scatter\"},{\"hoverinfo\":\"text\",\"line\":{\"color\":\"cornflowerblue\",\"width\":22.8},\"mode\":\"lines\",\"text\":[\"<Arnoux>--<Pellerin>: 114\"],\"x\":[0.07202445424003336,0.09778689453179601,null],\"y\":[0.3632832498157785,0.8966203649463261,null],\"type\":\"scatter\"},{\"hoverinfo\":\"text\",\"line\":{\"color\":\"cornflowerblue\",\"width\":12.0},\"mode\":\"lines\",\"text\":[\"<Arnoux>--<Ils>: 60\"],\"x\":[0.07202445424003336,0.4497531412407066,null],\"y\":[0.3632832498157785,0.0916874686905936,null],\"type\":\"scatter\"},{\"hoverinfo\":\"text\",\"line\":{\"color\":\"cornflowerblue\",\"width\":17.2},\"mode\":\"lines\",\"text\":[\"<Deslauriers>--<Hussonnet>: 86\"],\"x\":[-0.2288178939186045,-0.49412893794615004,null],\"y\":[-0.2946923424356531,0.38349049849560446,null],\"type\":\"scatter\"},{\"hoverinfo\":\"text\",\"line\":{\"color\":\"cornflowerblue\",\"width\":17.6},\"mode\":\"lines\",\"text\":[\"<Deslauriers>--<Mme Arnoux>: 88\"],\"x\":[-0.2288178939186045,-0.09811819276781876,null],\"y\":[-0.2946923424356531,-0.7430204608759041,null],\"type\":\"scatter\"},{\"hoverinfo\":\"text\",\"line\":{\"color\":\"cornflowerblue\",\"width\":17.0},\"mode\":\"lines\",\"text\":[\"<Deslauriers>--<!Fr\\u00e9d\\u00e9ric>: 85\"],\"x\":[-0.2288178939186045,0.1504006876604005,null],\"y\":[-0.2946923424356531,-1.0,null],\"type\":\"scatter\"},{\"hoverinfo\":\"text\",\"line\":{\"color\":\"cornflowerblue\",\"width\":13.8},\"mode\":\"lines\",\"text\":[\"<Deslauriers>--<S\\u00e9n\\u00e9cal>: 69\"],\"x\":[-0.2288178939186045,-0.44010077917420826,null],\"y\":[-0.2946923424356531,-0.9621841435512919,null],\"type\":\"scatter\"},{\"hoverinfo\":\"text\",\"line\":{\"color\":\"cornflowerblue\",\"width\":28.2},\"mode\":\"lines\",\"text\":[\"<Mme Arnoux>--<!Fr\\u00e9d\\u00e9ric>: 141\"],\"x\":[-0.09811819276781876,0.1504006876604005,null],\"y\":[-0.7430204608759041,-1.0,null],\"type\":\"scatter\"},{\"hoverinfo\":\"text\",\"line\":{\"color\":\"cornflowerblue\",\"width\":51.6},\"mode\":\"lines\",\"text\":[\"<Mme Arnoux>--<S\\u00e9n\\u00e9cal>: 258\"],\"x\":[-0.09811819276781876,-0.44010077917420826,null],\"y\":[-0.7430204608759041,-0.9621841435512919,null],\"type\":\"scatter\"},{\"hoverinfo\":\"text\",\"line\":{\"color\":\"cornflowerblue\",\"width\":12.2},\"mode\":\"lines\",\"text\":[\"<Mme Arnoux>--<Ils>: 61\"],\"x\":[-0.09811819276781876,0.4497531412407066,null],\"y\":[-0.7430204608759041,0.0916874686905936,null],\"type\":\"scatter\"},{\"hoverinfo\":\"text\",\"line\":{\"color\":\"cornflowerblue\",\"width\":22.6},\"mode\":\"lines\",\"text\":[\"<Rosanette>--<Pellerin>: 113\"],\"x\":[0.08589345649141587,0.09778689453179601,null],\"y\":[0.6129511345741726,0.8966203649463261,null],\"type\":\"scatter\"},{\"hoverinfo\":\"text\",\"line\":{\"color\":\"cornflowerblue\",\"width\":13.4},\"mode\":\"lines\",\"text\":[\"<Rosanette>--<Hussonnet>: 67\"],\"x\":[0.08589345649141587,-0.49412893794615004,null],\"y\":[0.6129511345741726,0.38349049849560446,null],\"type\":\"scatter\"},{\"hoverinfo\":\"text\",\"line\":{\"color\":\"cornflowerblue\",\"width\":11.4},\"mode\":\"lines\",\"text\":[\"<Rosanette>--<Ils>: 57\"],\"x\":[0.08589345649141587,0.4497531412407066,null],\"y\":[0.6129511345741726,0.0916874686905936,null],\"type\":\"scatter\"},{\"hoverinfo\":\"text\",\"line\":{\"color\":\"cornflowerblue\",\"width\":10.2},\"mode\":\"lines\",\"text\":[\"<Hussonnet>--<Pellerin>: 51\"],\"x\":[-0.49412893794615004,0.09778689453179601,null],\"y\":[0.38349049849560446,0.8966203649463261,null],\"type\":\"scatter\"},{\"hoverinfo\":\"none\",\"marker\":{\"color\":[\"cornflowerblue\",\"cornflowerblue\",\"cornflowerblue\",\"cornflowerblue\",\"cornflowerblue\",\"cornflowerblue\",\"cornflowerblue\",\"cornflowerblue\",\"cornflowerblue\",\"cornflowerblue\"],\"size\":[146.5,112.6,63.4,62.9,57.0,46.9,44.6,36.0,32.9,31.9]},\"mode\":\"markers+text\",\"text\":[\"<b><Fr\\u00e9d\\u00e9ric></b>\",\"<b><Arnoux></b>\",\"<b><Deslauriers></b>\",\"<b><Mme Arnoux></b>\",\"<b><Rosanette></b>\",\"<b><Hussonnet></b>\",\"<b><Pellerin></b>\",\"<b><!Fr\\u00e9d\\u00e9ric></b>\",\"<b><S\\u00e9n\\u00e9cal></b>\",\"<b><Ils></b>\"],\"textfont\":{\"size\":30},\"textposition\":\"top center\",\"x\":[0.4053071696424293,0.07202445424003336,-0.2288178939186045,-0.09811819276781876,0.08589345649141587,-0.49412893794615004,0.09778689453179601,0.1504006876604005,-0.44010077917420826,0.4497531412407066],\"y\":[0.6518642303403775,0.3632832498157785,-0.2946923424356531,-0.7430204608759041,0.6129511345741726,0.38349049849560446,0.8966203649463261,-1.0,-0.9621841435512919,0.0916874686905936],\"type\":\"scatter\"}],                        {\"paper_bgcolor\":\"rgba(0,0,0,0)\",\"plot_bgcolor\":\"rgba(0,0,0,0)\",\"template\":{\"data\":{\"bar\":[{\"error_x\":{\"color\":\"#2a3f5f\"},\"error_y\":{\"color\":\"#2a3f5f\"},\"marker\":{\"line\":{\"color\":\"#E5ECF6\",\"width\":0.5},\"pattern\":{\"fillmode\":\"overlay\",\"size\":10,\"solidity\":0.2}},\"type\":\"bar\"}],\"barpolar\":[{\"marker\":{\"line\":{\"color\":\"#E5ECF6\",\"width\":0.5},\"pattern\":{\"fillmode\":\"overlay\",\"size\":10,\"solidity\":0.2}},\"type\":\"barpolar\"}],\"carpet\":[{\"aaxis\":{\"endlinecolor\":\"#2a3f5f\",\"gridcolor\":\"white\",\"linecolor\":\"white\",\"minorgridcolor\":\"white\",\"startlinecolor\":\"#2a3f5f\"},\"baxis\":{\"endlinecolor\":\"#2a3f5f\",\"gridcolor\":\"white\",\"linecolor\":\"white\",\"minorgridcolor\":\"white\",\"startlinecolor\":\"#2a3f5f\"},\"type\":\"carpet\"}],\"choropleth\":[{\"colorbar\":{\"outlinewidth\":0,\"ticks\":\"\"},\"type\":\"choropleth\"}],\"contour\":[{\"colorbar\":{\"outlinewidth\":0,\"ticks\":\"\"},\"colorscale\":[[0.0,\"#0d0887\"],[0.1111111111111111,\"#46039f\"],[0.2222222222222222,\"#7201a8\"],[0.3333333333333333,\"#9c179e\"],[0.4444444444444444,\"#bd3786\"],[0.5555555555555556,\"#d8576b\"],[0.6666666666666666,\"#ed7953\"],[0.7777777777777778,\"#fb9f3a\"],[0.8888888888888888,\"#fdca26\"],[1.0,\"#f0f921\"]],\"type\":\"contour\"}],\"contourcarpet\":[{\"colorbar\":{\"outlinewidth\":0,\"ticks\":\"\"},\"type\":\"contourcarpet\"}],\"heatmap\":[{\"colorbar\":{\"outlinewidth\":0,\"ticks\":\"\"},\"colorscale\":[[0.0,\"#0d0887\"],[0.1111111111111111,\"#46039f\"],[0.2222222222222222,\"#7201a8\"],[0.3333333333333333,\"#9c179e\"],[0.4444444444444444,\"#bd3786\"],[0.5555555555555556,\"#d8576b\"],[0.6666666666666666,\"#ed7953\"],[0.7777777777777778,\"#fb9f3a\"],[0.8888888888888888,\"#fdca26\"],[1.0,\"#f0f921\"]],\"type\":\"heatmap\"}],\"heatmapgl\":[{\"colorbar\":{\"outlinewidth\":0,\"ticks\":\"\"},\"colorscale\":[[0.0,\"#0d0887\"],[0.1111111111111111,\"#46039f\"],[0.2222222222222222,\"#7201a8\"],[0.3333333333333333,\"#9c179e\"],[0.4444444444444444,\"#bd3786\"],[0.5555555555555556,\"#d8576b\"],[0.6666666666666666,\"#ed7953\"],[0.7777777777777778,\"#fb9f3a\"],[0.8888888888888888,\"#fdca26\"],[1.0,\"#f0f921\"]],\"type\":\"heatmapgl\"}],\"histogram\":[{\"marker\":{\"pattern\":{\"fillmode\":\"overlay\",\"size\":10,\"solidity\":0.2}},\"type\":\"histogram\"}],\"histogram2d\":[{\"colorbar\":{\"outlinewidth\":0,\"ticks\":\"\"},\"colorscale\":[[0.0,\"#0d0887\"],[0.1111111111111111,\"#46039f\"],[0.2222222222222222,\"#7201a8\"],[0.3333333333333333,\"#9c179e\"],[0.4444444444444444,\"#bd3786\"],[0.5555555555555556,\"#d8576b\"],[0.6666666666666666,\"#ed7953\"],[0.7777777777777778,\"#fb9f3a\"],[0.8888888888888888,\"#fdca26\"],[1.0,\"#f0f921\"]],\"type\":\"histogram2d\"}],\"histogram2dcontour\":[{\"colorbar\":{\"outlinewidth\":0,\"ticks\":\"\"},\"colorscale\":[[0.0,\"#0d0887\"],[0.1111111111111111,\"#46039f\"],[0.2222222222222222,\"#7201a8\"],[0.3333333333333333,\"#9c179e\"],[0.4444444444444444,\"#bd3786\"],[0.5555555555555556,\"#d8576b\"],[0.6666666666666666,\"#ed7953\"],[0.7777777777777778,\"#fb9f3a\"],[0.8888888888888888,\"#fdca26\"],[1.0,\"#f0f921\"]],\"type\":\"histogram2dcontour\"}],\"mesh3d\":[{\"colorbar\":{\"outlinewidth\":0,\"ticks\":\"\"},\"type\":\"mesh3d\"}],\"parcoords\":[{\"line\":{\"colorbar\":{\"outlinewidth\":0,\"ticks\":\"\"}},\"type\":\"parcoords\"}],\"pie\":[{\"automargin\":true,\"type\":\"pie\"}],\"scatter\":[{\"marker\":{\"colorbar\":{\"outlinewidth\":0,\"ticks\":\"\"}},\"type\":\"scatter\"}],\"scatter3d\":[{\"line\":{\"colorbar\":{\"outlinewidth\":0,\"ticks\":\"\"}},\"marker\":{\"colorbar\":{\"outlinewidth\":0,\"ticks\":\"\"}},\"type\":\"scatter3d\"}],\"scattercarpet\":[{\"marker\":{\"colorbar\":{\"outlinewidth\":0,\"ticks\":\"\"}},\"type\":\"scattercarpet\"}],\"scattergeo\":[{\"marker\":{\"colorbar\":{\"outlinewidth\":0,\"ticks\":\"\"}},\"type\":\"scattergeo\"}],\"scattergl\":[{\"marker\":{\"colorbar\":{\"outlinewidth\":0,\"ticks\":\"\"}},\"type\":\"scattergl\"}],\"scattermapbox\":[{\"marker\":{\"colorbar\":{\"outlinewidth\":0,\"ticks\":\"\"}},\"type\":\"scattermapbox\"}],\"scatterpolar\":[{\"marker\":{\"colorbar\":{\"outlinewidth\":0,\"ticks\":\"\"}},\"type\":\"scatterpolar\"}],\"scatterpolargl\":[{\"marker\":{\"colorbar\":{\"outlinewidth\":0,\"ticks\":\"\"}},\"type\":\"scatterpolargl\"}],\"scatterternary\":[{\"marker\":{\"colorbar\":{\"outlinewidth\":0,\"ticks\":\"\"}},\"type\":\"scatterternary\"}],\"surface\":[{\"colorbar\":{\"outlinewidth\":0,\"ticks\":\"\"},\"colorscale\":[[0.0,\"#0d0887\"],[0.1111111111111111,\"#46039f\"],[0.2222222222222222,\"#7201a8\"],[0.3333333333333333,\"#9c179e\"],[0.4444444444444444,\"#bd3786\"],[0.5555555555555556,\"#d8576b\"],[0.6666666666666666,\"#ed7953\"],[0.7777777777777778,\"#fb9f3a\"],[0.8888888888888888,\"#fdca26\"],[1.0,\"#f0f921\"]],\"type\":\"surface\"}],\"table\":[{\"cells\":{\"fill\":{\"color\":\"#EBF0F8\"},\"line\":{\"color\":\"white\"}},\"header\":{\"fill\":{\"color\":\"#C8D4E3\"},\"line\":{\"color\":\"white\"}},\"type\":\"table\"}]},\"layout\":{\"annotationdefaults\":{\"arrowcolor\":\"#2a3f5f\",\"arrowhead\":0,\"arrowwidth\":1},\"autotypenumbers\":\"strict\",\"coloraxis\":{\"colorbar\":{\"outlinewidth\":0,\"ticks\":\"\"}},\"colorscale\":{\"diverging\":[[0,\"#8e0152\"],[0.1,\"#c51b7d\"],[0.2,\"#de77ae\"],[0.3,\"#f1b6da\"],[0.4,\"#fde0ef\"],[0.5,\"#f7f7f7\"],[0.6,\"#e6f5d0\"],[0.7,\"#b8e186\"],[0.8,\"#7fbc41\"],[0.9,\"#4d9221\"],[1,\"#276419\"]],\"sequential\":[[0.0,\"#0d0887\"],[0.1111111111111111,\"#46039f\"],[0.2222222222222222,\"#7201a8\"],[0.3333333333333333,\"#9c179e\"],[0.4444444444444444,\"#bd3786\"],[0.5555555555555556,\"#d8576b\"],[0.6666666666666666,\"#ed7953\"],[0.7777777777777778,\"#fb9f3a\"],[0.8888888888888888,\"#fdca26\"],[1.0,\"#f0f921\"]],\"sequentialminus\":[[0.0,\"#0d0887\"],[0.1111111111111111,\"#46039f\"],[0.2222222222222222,\"#7201a8\"],[0.3333333333333333,\"#9c179e\"],[0.4444444444444444,\"#bd3786\"],[0.5555555555555556,\"#d8576b\"],[0.6666666666666666,\"#ed7953\"],[0.7777777777777778,\"#fb9f3a\"],[0.8888888888888888,\"#fdca26\"],[1.0,\"#f0f921\"]]},\"colorway\":[\"#636efa\",\"#EF553B\",\"#00cc96\",\"#ab63fa\",\"#FFA15A\",\"#19d3f3\",\"#FF6692\",\"#B6E880\",\"#FF97FF\",\"#FECB52\"],\"font\":{\"color\":\"#2a3f5f\"},\"geo\":{\"bgcolor\":\"white\",\"lakecolor\":\"white\",\"landcolor\":\"#E5ECF6\",\"showlakes\":true,\"showland\":true,\"subunitcolor\":\"white\"},\"hoverlabel\":{\"align\":\"left\"},\"hovermode\":\"closest\",\"mapbox\":{\"style\":\"light\"},\"paper_bgcolor\":\"white\",\"plot_bgcolor\":\"#E5ECF6\",\"polar\":{\"angularaxis\":{\"gridcolor\":\"white\",\"linecolor\":\"white\",\"ticks\":\"\"},\"bgcolor\":\"#E5ECF6\",\"radialaxis\":{\"gridcolor\":\"white\",\"linecolor\":\"white\",\"ticks\":\"\"}},\"scene\":{\"xaxis\":{\"backgroundcolor\":\"#E5ECF6\",\"gridcolor\":\"white\",\"gridwidth\":2,\"linecolor\":\"white\",\"showbackground\":true,\"ticks\":\"\",\"zerolinecolor\":\"white\"},\"yaxis\":{\"backgroundcolor\":\"#E5ECF6\",\"gridcolor\":\"white\",\"gridwidth\":2,\"linecolor\":\"white\",\"showbackground\":true,\"ticks\":\"\",\"zerolinecolor\":\"white\"},\"zaxis\":{\"backgroundcolor\":\"#E5ECF6\",\"gridcolor\":\"white\",\"gridwidth\":2,\"linecolor\":\"white\",\"showbackground\":true,\"ticks\":\"\",\"zerolinecolor\":\"white\"}},\"shapedefaults\":{\"line\":{\"color\":\"#2a3f5f\"}},\"ternary\":{\"aaxis\":{\"gridcolor\":\"white\",\"linecolor\":\"white\",\"ticks\":\"\"},\"baxis\":{\"gridcolor\":\"white\",\"linecolor\":\"white\",\"ticks\":\"\"},\"bgcolor\":\"#E5ECF6\",\"caxis\":{\"gridcolor\":\"white\",\"linecolor\":\"white\",\"ticks\":\"\"}},\"title\":{\"x\":0.05},\"xaxis\":{\"automargin\":true,\"gridcolor\":\"white\",\"linecolor\":\"white\",\"ticks\":\"\",\"title\":{\"standoff\":15},\"zerolinecolor\":\"white\",\"zerolinewidth\":2},\"yaxis\":{\"automargin\":true,\"gridcolor\":\"white\",\"linecolor\":\"white\",\"ticks\":\"\",\"title\":{\"standoff\":15},\"zerolinecolor\":\"white\",\"zerolinewidth\":2}}},\"showlegend\":false,\"xaxis\":{\"showticklabels\":false},\"yaxis\":{\"showticklabels\":false}},                        {\"responsive\": true}                    ).then(function(){\n",
       "                            \n",
       "var gd = document.getElementById('1b8cd862-e49a-4b7f-9c9b-7335f22aad16');\n",
       "var x = new MutationObserver(function (mutations, observer) {{\n",
       "        var display = window.getComputedStyle(gd).display;\n",
       "        if (!display || display === 'none') {{\n",
       "            console.log([gd, 'removed!']);\n",
       "            Plotly.purge(gd);\n",
       "            observer.disconnect();\n",
       "        }}\n",
       "}});\n",
       "\n",
       "// Listen for the removal of the full notebook cells\n",
       "var notebookContainer = gd.closest('#notebook-container');\n",
       "if (notebookContainer) {{\n",
       "    x.observe(notebookContainer, {childList: true});\n",
       "}}\n",
       "\n",
       "// Listen for the clearing of the current output cell\n",
       "var outputEl = gd.closest('.output');\n",
       "if (outputEl) {{\n",
       "    x.observe(outputEl, {childList: true});\n",
       "}}\n",
       "\n",
       "                        })                };                });            </script>        </div>"
      ]
     },
     "metadata": {},
     "output_type": "display_data"
    },
    {
     "data": {
      "text/plain": [
       "'GraphEducation.html'"
      ]
     },
     "execution_count": 121,
     "metadata": {},
     "output_type": "execute_result"
    }
   ],
   "source": [
    "#AVEC N PER = 20 et N_token = 50, N_link = 10\n",
    "layout = go.Layout(\n",
    "    paper_bgcolor='rgba(0,0,0,0)',\n",
    "    plot_bgcolor='rgba(0,0,0,0)'\n",
    ")\n",
    "\n",
    "\n",
    "fig = go.Figure(layout = layout)\n",
    "\n",
    "for trace in edge_trace:\n",
    "    fig.add_trace(trace)\n",
    "\n",
    "fig.add_trace(node_trace)\n",
    "\n",
    "fig.update_layout(showlegend = False)\n",
    "\n",
    "fig.update_xaxes(showticklabels = False)\n",
    "\n",
    "fig.update_yaxes(showticklabels = False)\n",
    "\n",
    "fig.show()\n",
    "py.plot(fig, filename='GraphEducation.html')"
   ]
  },
  {
   "cell_type": "code",
   "execution_count": null,
   "metadata": {},
   "outputs": [],
   "source": []
  }
 ],
 "metadata": {
  "kernelspec": {
   "display_name": "Python 3 (ipykernel)",
   "language": "python",
   "name": "python3"
  },
  "language_info": {
   "codemirror_mode": {
    "name": "ipython",
    "version": 3
   },
   "file_extension": ".py",
   "mimetype": "text/x-python",
   "name": "python",
   "nbconvert_exporter": "python",
   "pygments_lexer": "ipython3",
   "version": "3.9.12"
  }
 },
 "nbformat": 4,
 "nbformat_minor": 4
}
