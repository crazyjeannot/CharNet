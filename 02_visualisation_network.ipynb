{
 "cells": [
  {
   "cell_type": "code",
   "execution_count": 100,
   "metadata": {},
   "outputs": [],
   "source": [
    "import numpy as np\n",
    "import pandas as pd\n",
    "import plotly.graph_objects as go\n",
    "import networkx as nx\n",
    "import plotly.offline as py\n",
    "from collections import Counter"
   ]
  },
  {
   "cell_type": "code",
   "execution_count": 48,
   "metadata": {},
   "outputs": [],
   "source": [
    "N = 10 # N is the number of relations of a character (enables us to delete low relationship)"
   ]
  },
  {
   "cell_type": "markdown",
   "metadata": {},
   "source": [
    "### Load data & Convert to graph format "
   ]
  },
  {
   "cell_type": "code",
   "execution_count": 105,
   "metadata": {},
   "outputs": [],
   "source": [
    "df_grandet_surronding = pd.read_csv(r'res_surronding_PER/Balzac-Honore-de_Eugenie-Grandet.csv') # df surronding PER"
   ]
  },
  {
   "cell_type": "code",
   "execution_count": 106,
   "metadata": {},
   "outputs": [],
   "source": [
    "# network as get dict of dict"
   ]
  },
  {
   "cell_type": "code",
   "execution_count": 107,
   "metadata": {},
   "outputs": [],
   "source": [
    "def get_dict_of_dict(df_res, N):\n",
    "    dict_res = {}\n",
    "    for column_perso in df_res.columns:\n",
    "        dict_res[column_perso] = dict(Counter(df_res[column_perso]).most_common(N))\n",
    "    return dict_res"
   ]
  },
  {
   "cell_type": "code",
   "execution_count": 108,
   "metadata": {},
   "outputs": [],
   "source": [
    "dict_grandet = get_dict_of_dict(df_grandet_surronding.dropna(), N)"
   ]
  },
  {
   "cell_type": "code",
   "execution_count": 109,
   "metadata": {},
   "outputs": [],
   "source": [
    "# get weights with mention counter"
   ]
  },
  {
   "cell_type": "code",
   "execution_count": 110,
   "metadata": {},
   "outputs": [],
   "source": [
    "df_grandet_mention = pd.read_csv(r'res_mention_PER/Balzac-Honore-de_Eugenie-Grandet.csv') # df mention PER (Counter)"
   ]
  },
  {
   "cell_type": "code",
   "execution_count": 111,
   "metadata": {},
   "outputs": [],
   "source": [
    "dict_grandet_mention = dict(zip(list(df_grandet_mention.mention), list(df_grandet_mention['count'])))"
   ]
  },
  {
   "cell_type": "markdown",
   "metadata": {},
   "source": [
    "### Visualisation "
   ]
  },
  {
   "cell_type": "code",
   "execution_count": 112,
   "metadata": {},
   "outputs": [],
   "source": [
    "GrandetGraph = nx.Graph()"
   ]
  },
  {
   "cell_type": "code",
   "execution_count": 113,
   "metadata": {},
   "outputs": [],
   "source": [
    "# Add node for each character\n",
    "for perso in dict_grandet_mention.keys():\n",
    "    GrandetGraph.add_node(perso, size = dict_grandet_mention[perso])"
   ]
  },
  {
   "cell_type": "code",
   "execution_count": 114,
   "metadata": {},
   "outputs": [
    {
     "data": {
      "text/plain": [
       "NodeView(('<La fille-2687>', '<Eugénie-3301>', '<le père-2169>', '<monsieur Grandet-943>', '<Grandet au Tribunal de Première Instance-2317>', '<Eugénie-1205>', '<Eugénie et sa mère-1499>', '<Eugénie-1353>', '<un homme-191>', \"<l'-2932>\"))"
      ]
     },
     "execution_count": 114,
     "metadata": {},
     "output_type": "execute_result"
    }
   ],
   "source": [
    "GrandetGraph.nodes"
   ]
  },
  {
   "cell_type": "code",
   "execution_count": 115,
   "metadata": {},
   "outputs": [],
   "source": [
    "# For each co-appearance between two characters, add an edge\n",
    "for char in dict_grandet.keys():\n",
    "    for co_char in dict_grandet[char].keys():\n",
    "        \n",
    "        # Only add edge if the count is positive\n",
    "        if dict_grandet[char][co_char] > 0:\n",
    "            GrandetGraph.add_edge(char, co_char, weight = dict_grandet[char][co_char])"
   ]
  },
  {
   "cell_type": "code",
   "execution_count": 116,
   "metadata": {},
   "outputs": [
    {
     "data": {
      "text/plain": [
       "EdgeView([('<Eugénie-3301>', '<Eugénie-3301>'), ('<Eugénie-3301>', '<Cornoiller-3306>'), ('<Eugénie-3301>', '<nos parents-3319>'), ('<Eugénie-3301>', \"<l' héritière-3338>\"), ('<Eugénie-3301>', \"<la famille d' Aubrion-3337>\"), ('<Eugénie-3301>', '<le facteur de poste-3308>'), ('<Eugénie-3301>', '<dont-3317>'), ('<Eugénie-3301>', '<monsieur des Grassins-3318>'), ('<Eugénie-3301>', '<beaucoup de monde-3336>'), ('<Eugénie-3301>', '<Nous-3346>'), ('<le père-2169>', '<le père-2169>'), ('<le père-2169>', '<lui-2132>'), ('<le père-2169>', '<madame de Mirbel-2184>'), ('<le père-2169>', '<elle-2181>'), ('<le père-2169>', '<- vousErreur-2179>'), ('<le père-2169>', '<ami-2183>'), ('<le père-2169>', '<tous deux-2182>'), ('<le père-2169>', '<qui-2185>'), ('<le père-2169>', '<nous-2178>'), ('<le père-2169>', '<femme aimante-2186>'), ('<monsieur Grandet-943>', '<monsieur Grandet-943>'), ('<monsieur Grandet-943>', '<son-987>'), ('<monsieur Grandet-943>', '<Charles-920>'), ('<monsieur Grandet-943>', '<madame des Grassins-947>'), ('<monsieur Grandet-943>', '<au notaire-973>'), ('<monsieur Grandet-943>', '<une petite sotte-946>'), ('<monsieur Grandet-943>', '<nos enfants-990>'), ('<monsieur Grandet-943>', '<les-959>'), ('<monsieur Grandet-943>', '<nous-978>'), ('<monsieur Grandet-943>', '<la famille-980>'), ('<Grandet au Tribunal de Première Instance-2317>', '<Grandet au Tribunal de Première Instance-2317>'), ('<Grandet au Tribunal de Première Instance-2317>', '<Charles-2316>'), ('<Grandet au Tribunal de Première Instance-2317>', '<- tu-2340>'), ('<Grandet au Tribunal de Première Instance-2317>', '<Perrottet-2343>'), ('<Grandet au Tribunal de Première Instance-2317>', '<un homme profondément affligé-2345>'), ('<Grandet au Tribunal de Première Instance-2317>', '<un pauvre garçon-2337>'), ('<Grandet au Tribunal de Première Instance-2317>', '<ceux-2338>'), ('<Grandet au Tribunal de Première Instance-2317>', '<les deux femmes-2348>'), ('<Grandet au Tribunal de Première Instance-2317>', '<un honnête homme-2327>'), ('<Grandet au Tribunal de Première Instance-2317>', '<Napoléon-2336>'), ('<Eugénie-1205>', '<Eugénie-1205>'), ('<Eugénie-1205>', '<le-1247>'), ('<Eugénie-1205>', '<Nanon-1239>'), ('<Eugénie-1205>', '<ces jeunes gens de Paris-1263>'), ('<Eugénie-1205>', '<ses-1258>'), ('<Eugénie-1205>', '<il-1269>'), ('<Eugénie-1205>', '<nous-1275>'), ('<Eugénie-1205>', \"<ce type d' enfants fortement constitués-1216>\"), ('<Eugénie-1205>', '<un auteur de bonne foi-1214>'), ('<Eugénie-1205>', '<il-1235>'), ('<Eugénie et sa mère-1499>', '<Eugénie et sa mère-1499>'), ('<Eugénie et sa mère-1499>', '<Grandet-1486>'), ('<Eugénie et sa mère-1499>', '<Charles-1544>'), ('<Eugénie et sa mère-1499>', '<il-1538>'), ('<Eugénie et sa mère-1499>', '<il-1516>'), ('<Eugénie et sa mère-1499>', '<Charles-1473>'), ('<Eugénie et sa mère-1499>', '<il-1545>'), ('<Eugénie et sa mère-1499>', '<Cruchot-1534>'), ('<Eugénie et sa mère-1499>', '<nous-1546>'), ('<Eugénie et sa mère-1499>', '<nos Hollandais-1533>'), ('<Eugénie-1353>', '<Eugénie-1353>'), ('<Eugénie-1353>', '<Il-1350>'), ('<Eugénie-1353>', '<Nanon-1376>'), ('<Eugénie-1353>', '<notre plus proche parent-1374>'), ('<Eugénie-1353>', '<monsieur-1361>'), ('<Eugénie-1353>', '<la femme-1363>'), ('<Eugénie-1353>', '<Nanon-1356>'), ('<Eugénie-1353>', '<les mères-1368>'), ('<Eugénie-1353>', '<ses-1375>'), ('<Eugénie-1353>', '<la servante-1362>'), ('<un homme-191>', '<un homme-191>'), ('<un homme-191>', '<La grande Nanon-240>'), ('<un homme-191>', '<rangeaient-247>'), ('<un homme-191>', \"<le garde d' un voisin-251>\"), ('<un homme-191>', '<les gens capables-222>'), ('<un homme-191>', '<les maraîchers-243>'), ('<un homme-191>', \"<qu'-257>\"), ('<un homme-191>', '<ses-255>'), ('<un homme-191>', '<lui-256>'), ('<un homme-191>', '<Chacun-196>'), (\"<l'-2932>\", \"<l'-2932>\"), (\"<l'-2932>\", '<maître Cruchot-2957>'), (\"<l'-2932>\", '<la mère-2935>'), (\"<l'-2932>\", '<ses soins les plus tendres-2950>'), (\"<l'-2932>\", '<monsieur votre père-2959>'), (\"<l'-2932>\", '<Eugénie-2902>'), (\"<l'-2932>\", '<lui-2965>'), (\"<l'-2932>\", '<un monde égoïste-2947>'), (\"<l'-2932>\", '<te-2964>'), (\"<l'-2932>\", '<nous-2966>')])"
      ]
     },
     "execution_count": 116,
     "metadata": {},
     "output_type": "execute_result"
    }
   ],
   "source": [
    "GrandetGraph.edges()"
   ]
  },
  {
   "cell_type": "code",
   "execution_count": 117,
   "metadata": {},
   "outputs": [],
   "source": [
    "# Get positions for the nodes in G\n",
    "pos_ = nx.spring_layout(GrandetGraph)"
   ]
  },
  {
   "cell_type": "code",
   "execution_count": 123,
   "metadata": {},
   "outputs": [],
   "source": [
    "def make_edge(x, y, text, width):\n",
    "    \n",
    "    '''Creates a scatter trace for the edge between x's and y's with given width\n",
    "\n",
    "    Parameters\n",
    "    ----------\n",
    "    x    : a tuple of the endpoints' x-coordinates in the form, tuple([x0, x1, None])\n",
    "    \n",
    "    y    : a tuple of the endpoints' y-coordinates in the form, tuple([y0, y1, None])\n",
    "    \n",
    "    width: the width of the line\n",
    "\n",
    "    Returns\n",
    "    -------\n",
    "    An edge trace that goes between x0 and x1 with specified width.\n",
    "    '''\n",
    "    return  go.Scatter(x         = x,\n",
    "                       y         = y,\n",
    "                       line      = dict(width = width,\n",
    "                                   color = 'cornflowerblue'),\n",
    "                       hoverinfo = 'text',\n",
    "                       text      = ([text]),\n",
    "                       mode      = 'lines')"
   ]
  },
  {
   "cell_type": "code",
   "execution_count": 124,
   "metadata": {},
   "outputs": [],
   "source": [
    "# For each edge, make an edge_trace, append to list\n",
    "edge_trace = []\n",
    "for edge in GrandetGraph.edges():\n",
    "    \n",
    "    if GrandetGraph.edges()[edge]['weight'] > 0:\n",
    "        char_1 = edge[0]\n",
    "        char_2 = edge[1]\n",
    "\n",
    "        x0, y0 = pos_[char_1]\n",
    "        x1, y1 = pos_[char_2]\n",
    "\n",
    "        text   = char_1 + '--' + char_2 + ': ' + str(GrandetGraph.edges()[edge]['weight'])\n",
    "        \n",
    "        trace  = make_edge([x0, x1, None], [y0, y1, None], text,\n",
    "                           0.3*GrandetGraph.edges()[edge]['weight']**1.75)\n",
    "\n",
    "        edge_trace.append(trace)"
   ]
  },
  {
   "cell_type": "code",
   "execution_count": 125,
   "metadata": {},
   "outputs": [
    {
     "data": {
      "text/plain": [
       "{}"
      ]
     },
     "execution_count": 125,
     "metadata": {},
     "output_type": "execute_result"
    }
   ],
   "source": [
    "GrandetGraph.nodes()[node]"
   ]
  },
  {
   "cell_type": "code",
   "execution_count": 126,
   "metadata": {},
   "outputs": [
    {
     "ename": "KeyError",
     "evalue": "'size'",
     "output_type": "error",
     "traceback": [
      "\u001b[1;31m---------------------------------------------------------------------------\u001b[0m",
      "\u001b[1;31mKeyError\u001b[0m                                  Traceback (most recent call last)",
      "\u001b[1;32m<ipython-input-126-1be23d739030>\u001b[0m in \u001b[0;36m<module>\u001b[1;34m\u001b[0m\n\u001b[0;32m     16\u001b[0m     \u001b[0mnode_trace\u001b[0m\u001b[1;33m[\u001b[0m\u001b[1;34m'y'\u001b[0m\u001b[1;33m]\u001b[0m \u001b[1;33m+=\u001b[0m \u001b[0mtuple\u001b[0m\u001b[1;33m(\u001b[0m\u001b[1;33m[\u001b[0m\u001b[0my\u001b[0m\u001b[1;33m]\u001b[0m\u001b[1;33m)\u001b[0m\u001b[1;33m\u001b[0m\u001b[1;33m\u001b[0m\u001b[0m\n\u001b[0;32m     17\u001b[0m     \u001b[0mnode_trace\u001b[0m\u001b[1;33m[\u001b[0m\u001b[1;34m'marker'\u001b[0m\u001b[1;33m]\u001b[0m\u001b[1;33m[\u001b[0m\u001b[1;34m'color'\u001b[0m\u001b[1;33m]\u001b[0m \u001b[1;33m+=\u001b[0m \u001b[0mtuple\u001b[0m\u001b[1;33m(\u001b[0m\u001b[1;33m[\u001b[0m\u001b[1;34m'cornflowerblue'\u001b[0m\u001b[1;33m]\u001b[0m\u001b[1;33m)\u001b[0m\u001b[1;33m\u001b[0m\u001b[1;33m\u001b[0m\u001b[0m\n\u001b[1;32m---> 18\u001b[1;33m     \u001b[0mnode_trace\u001b[0m\u001b[1;33m[\u001b[0m\u001b[1;34m'marker'\u001b[0m\u001b[1;33m]\u001b[0m\u001b[1;33m[\u001b[0m\u001b[1;34m'size'\u001b[0m\u001b[1;33m]\u001b[0m \u001b[1;33m+=\u001b[0m \u001b[0mtuple\u001b[0m\u001b[1;33m(\u001b[0m\u001b[1;33m[\u001b[0m\u001b[1;36m5\u001b[0m\u001b[1;33m*\u001b[0m\u001b[0mGrandetGraph\u001b[0m\u001b[1;33m.\u001b[0m\u001b[0mnodes\u001b[0m\u001b[1;33m(\u001b[0m\u001b[1;33m)\u001b[0m\u001b[1;33m[\u001b[0m\u001b[0mnode\u001b[0m\u001b[1;33m]\u001b[0m\u001b[1;33m[\u001b[0m\u001b[1;34m'size'\u001b[0m\u001b[1;33m]\u001b[0m\u001b[1;33m]\u001b[0m\u001b[1;33m)\u001b[0m\u001b[1;33m\u001b[0m\u001b[1;33m\u001b[0m\u001b[0m\n\u001b[0m\u001b[0;32m     19\u001b[0m     \u001b[0mnode_trace\u001b[0m\u001b[1;33m[\u001b[0m\u001b[1;34m'text'\u001b[0m\u001b[1;33m]\u001b[0m \u001b[1;33m+=\u001b[0m \u001b[0mtuple\u001b[0m\u001b[1;33m(\u001b[0m\u001b[1;33m[\u001b[0m\u001b[1;34m'<b>'\u001b[0m \u001b[1;33m+\u001b[0m \u001b[0mnode\u001b[0m \u001b[1;33m+\u001b[0m \u001b[1;34m'</b>'\u001b[0m\u001b[1;33m]\u001b[0m\u001b[1;33m)\u001b[0m\u001b[1;33m\u001b[0m\u001b[1;33m\u001b[0m\u001b[0m\n",
      "\u001b[1;31mKeyError\u001b[0m: 'size'"
     ]
    }
   ],
   "source": [
    "# Make a node trace\n",
    "node_trace = go.Scatter(x         = [],\n",
    "                        y         = [],\n",
    "                        text      = [],\n",
    "                        textposition = \"top center\",\n",
    "                        textfont_size = 10,\n",
    "                        mode      = 'markers+text',\n",
    "                        hoverinfo = 'none',\n",
    "                        marker    = dict(color = [],\n",
    "                                         size  = [],\n",
    "                                         line  = None))\n",
    "# For each node in midsummer, get the position and size and add to the node_trace\n",
    "for node in GrandetGraph.nodes():\n",
    "    x, y = pos_[node]\n",
    "    node_trace['x'] += tuple([x])\n",
    "    node_trace['y'] += tuple([y])\n",
    "    node_trace['marker']['color'] += tuple(['cornflowerblue'])\n",
    "    node_trace['marker']['size'] += tuple([5*GrandetGraph.nodes()[node]['size']])\n",
    "    node_trace['text'] += tuple(['<b>' + node + '</b>'])"
   ]
  },
  {
   "cell_type": "code",
   "execution_count": 127,
   "metadata": {},
   "outputs": [
    {
     "data": {
      "application/vnd.plotly.v1+json": {
       "config": {
        "plotlyServerURL": "https://plot.ly"
       },
       "data": [
        {
         "hoverinfo": "text",
         "line": {
          "color": "cornflowerblue",
          "width": 103824.25546947551
         },
         "mode": "lines",
         "text": [
          "<Eugénie-3301>--<Eugénie-3301>: 1463"
         ],
         "type": "scatter",
         "x": [
          -0.34071709250953536,
          -0.34071709250953536,
          null
         ],
         "y": [
          0.14716986444343175,
          0.14716986444343175,
          null
         ]
        },
        {
         "hoverinfo": "text",
         "line": {
          "color": "cornflowerblue",
          "width": 1067.930194023101
         },
         "mode": "lines",
         "text": [
          "<Eugénie-3301>--<Cornoiller-3306>: 107"
         ],
         "type": "scatter",
         "x": [
          -0.34071709250953536,
          -0.3345673663824666,
          null
         ],
         "y": [
          0.14716986444343175,
          0.13709971365553614,
          null
         ]
        },
        {
         "hoverinfo": "text",
         "line": {
          "color": "cornflowerblue",
          "width": 883.2749473100471
         },
         "mode": "lines",
         "text": [
          "<Eugénie-3301>--<nos parents-3319>: 96"
         ],
         "type": "scatter",
         "x": [
          -0.34071709250953536,
          -0.33149552883293293,
          null
         ],
         "y": [
          0.14716986444343175,
          0.14849935905192274,
          null
         ]
        },
        {
         "hoverinfo": "text",
         "line": {
          "color": "cornflowerblue",
          "width": 166.52301744878278
         },
         "mode": "lines",
         "text": [
          "<Eugénie-3301>--<l' héritière-3338>: 37"
         ],
         "type": "scatter",
         "x": [
          -0.34071709250953536,
          -0.35578463791153936,
          null
         ],
         "y": [
          0.14716986444343175,
          0.1479811570730471,
          null
         ]
        },
        {
         "hoverinfo": "text",
         "line": {
          "color": "cornflowerblue",
          "width": 95.9417955442367
         },
         "mode": "lines",
         "text": [
          "<Eugénie-3301>--<la famille d' Aubrion-3337>: 27"
         ],
         "type": "scatter",
         "x": [
          -0.34071709250953536,
          -0.3273692874669094,
          null
         ],
         "y": [
          0.14716986444343175,
          0.16214711313985575,
          null
         ]
        },
        {
         "hoverinfo": "text",
         "line": {
          "color": "cornflowerblue",
          "width": 34.29896050043649
         },
         "mode": "lines",
         "text": [
          "<Eugénie-3301>--<le facteur de poste-3308>: 15"
         ],
         "type": "scatter",
         "x": [
          -0.34071709250953536,
          -0.3618860339402675,
          null
         ],
         "y": [
          0.14716986444343175,
          0.16959366180586444,
          null
         ]
        },
        {
         "hoverinfo": "text",
         "line": {
          "color": "cornflowerblue",
          "width": 34.29896050043649
         },
         "mode": "lines",
         "text": [
          "<Eugénie-3301>--<dont-3317>: 15"
         ],
         "type": "scatter",
         "x": [
          -0.34071709250953536,
          -0.3720471069612035,
          null
         ],
         "y": [
          0.14716986444343175,
          0.14031206071148256,
          null
         ]
        },
        {
         "hoverinfo": "text",
         "line": {
          "color": "cornflowerblue",
          "width": 30.398021452681625
         },
         "mode": "lines",
         "text": [
          "<Eugénie-3301>--<monsieur des Grassins-3318>: 14"
         ],
         "type": "scatter",
         "x": [
          -0.34071709250953536,
          -0.3442100976147341,
          null
         ],
         "y": [
          0.14716986444343175,
          0.17631193429975792,
          null
         ]
        },
        {
         "hoverinfo": "text",
         "line": {
          "color": "cornflowerblue",
          "width": 30.398021452681625
         },
         "mode": "lines",
         "text": [
          "<Eugénie-3301>--<beaucoup de monde-3336>: 14"
         ],
         "type": "scatter",
         "x": [
          -0.34071709250953536,
          -0.3619103017050399,
          null
         ],
         "y": [
          0.14716986444343175,
          0.12520499214706685,
          null
         ]
        },
        {
         "hoverinfo": "text",
         "line": {
          "color": "cornflowerblue",
          "width": 26.700667663889877
         },
         "mode": "lines",
         "text": [
          "<Eugénie-3301>--<Nous-3346>: 13"
         ],
         "type": "scatter",
         "x": [
          -0.34071709250953536,
          -0.37553975510306015,
          null
         ],
         "y": [
          0.14716986444343175,
          0.15834943276659336,
          null
         ]
        },
        {
         "hoverinfo": "text",
         "line": {
          "color": "cornflowerblue",
          "width": 98907.63781976812
         },
         "mode": "lines",
         "text": [
          "<le père-2169>--<le père-2169>: 1423"
         ],
         "type": "scatter",
         "x": [
          -0.11069533014569612,
          -0.11069533014569612,
          null
         ],
         "y": [
          0.054226259624940244,
          0.054226259624940244,
          null
         ]
        },
        {
         "hoverinfo": "text",
         "line": {
          "color": "cornflowerblue",
          "width": 2183.06435108831
         },
         "mode": "lines",
         "text": [
          "<le père-2169>--<lui-2132>: 161"
         ],
         "type": "scatter",
         "x": [
          -0.11069533014569612,
          -0.09919406751163216,
          null
         ],
         "y": [
          0.054226259624940244,
          0.054546320097691954,
          null
         ]
        },
        {
         "hoverinfo": "text",
         "line": {
          "color": "cornflowerblue",
          "width": 410.9667740508639
         },
         "mode": "lines",
         "text": [
          "<le père-2169>--<madame de Mirbel-2184>: 62"
         ],
         "type": "scatter",
         "x": [
          -0.11069533014569612,
          -0.10562249855374743,
          null
         ],
         "y": [
          0.054226259624940244,
          0.06616940041581526,
          null
         ]
        },
        {
         "hoverinfo": "text",
         "line": {
          "color": "cornflowerblue",
          "width": 243.7515916078771
         },
         "mode": "lines",
         "text": [
          "<le père-2169>--<elle-2181>: 46"
         ],
         "type": "scatter",
         "x": [
          -0.11069533014569612,
          -0.10030304105462004,
          null
         ],
         "y": [
          0.054226259624940244,
          0.04253914596484544,
          null
         ]
        },
        {
         "hoverinfo": "text",
         "line": {
          "color": "cornflowerblue",
          "width": 67.0441588130837
         },
         "mode": "lines",
         "text": [
          "<le père-2169>--<- vousErreur-2179>: 22"
         ],
         "type": "scatter",
         "x": [
          -0.11069533014569612,
          -0.12778223852903217,
          null
         ],
         "y": [
          0.054226259624940244,
          0.06687703470628599,
          null
         ]
        },
        {
         "hoverinfo": "text",
         "line": {
          "color": "cornflowerblue",
          "width": 56.744496540190546
         },
         "mode": "lines",
         "text": [
          "<le père-2169>--<ami-2183>: 20"
         ],
         "type": "scatter",
         "x": [
          -0.11069533014569612,
          -0.1159604704511681,
          null
         ],
         "y": [
          0.054226259624940244,
          0.032170313546201854,
          null
         ]
        },
        {
         "hoverinfo": "text",
         "line": {
          "color": "cornflowerblue",
          "width": 51.872843635539134
         },
         "mode": "lines",
         "text": [
          "<le père-2169>--<tous deux-2182>: 19"
         ],
         "type": "scatter",
         "x": [
          -0.11069533014569612,
          -0.11696667148582898,
          null
         ],
         "y": [
          0.054226259624940244,
          0.07928425064125065,
          null
         ]
        },
        {
         "hoverinfo": "text",
         "line": {
          "color": "cornflowerblue",
          "width": 38.4
         },
         "mode": "lines",
         "text": [
          "<le père-2169>--<qui-2185>: 16"
         ],
         "type": "scatter",
         "x": [
          -0.11069533014569612,
          -0.13551337459797552,
          null
         ],
         "y": [
          0.054226259624940244,
          0.049158684332954505,
          null
         ]
        },
        {
         "hoverinfo": "text",
         "line": {
          "color": "cornflowerblue",
          "width": 34.29896050043649
         },
         "mode": "lines",
         "text": [
          "<le père-2169>--<nous-2178>: 15"
         ],
         "type": "scatter",
         "x": [
          -0.11069533014569612,
          -0.13301279979799618,
          null
         ],
         "y": [
          0.054226259624940244,
          0.03388321103126551,
          null
         ]
        },
        {
         "hoverinfo": "text",
         "line": {
          "color": "cornflowerblue",
          "width": 19.93234766997288
         },
         "mode": "lines",
         "text": [
          "<le père-2169>--<femme aimante-2186>: 11"
         ],
         "type": "scatter",
         "x": [
          -0.11069533014569612,
          -0.14667923469212454,
          null
         ],
         "y": [
          0.054226259624940244,
          0.06522939164738518,
          null
         ]
        },
        {
         "hoverinfo": "text",
         "line": {
          "color": "cornflowerblue",
          "width": 43079.63137323802
         },
         "mode": "lines",
         "text": [
          "<monsieur Grandet-943>--<monsieur Grandet-943>: 885"
         ],
         "type": "scatter",
         "x": [
          0.09113889768074059,
          0.09113889768074059,
          null
         ],
         "y": [
          0.20050028238575712,
          0.20050028238575712,
          null
         ]
        },
        {
         "hoverinfo": "text",
         "line": {
          "color": "cornflowerblue",
          "width": 7503.295575402952
         },
         "mode": "lines",
         "text": [
          "<monsieur Grandet-943>--<son-987>: 326"
         ],
         "type": "scatter",
         "x": [
          0.09113889768074059,
          0.08508808028165919,
          null
         ],
         "y": [
          0.20050028238575712,
          0.20070102776404156,
          null
         ]
        },
        {
         "hoverinfo": "text",
         "line": {
          "color": "cornflowerblue",
          "width": 1795.790277287412
         },
         "mode": "lines",
         "text": [
          "<monsieur Grandet-943>--<Charles-920>: 144"
         ],
         "type": "scatter",
         "x": [
          0.09113889768074059,
          0.09451556397225475,
          null
         ],
         "y": [
          0.20050028238575712,
          0.19005993205964897,
          null
         ]
        },
        {
         "hoverinfo": "text",
         "line": {
          "color": "cornflowerblue",
          "width": 1604.0036403059596
         },
         "mode": "lines",
         "text": [
          "<monsieur Grandet-943>--<madame des Grassins-947>: 135"
         ],
         "type": "scatter",
         "x": [
          0.09113889768074059,
          0.08348954924899249,
          null
         ],
         "y": [
          0.20050028238575712,
          0.1919721137613982,
          null
         ]
        },
        {
         "hoverinfo": "text",
         "line": {
          "color": "cornflowerblue",
          "width": 174.4787530485653
         },
         "mode": "lines",
         "text": [
          "<monsieur Grandet-943>--<au notaire-973>: 38"
         ],
         "type": "scatter",
         "x": [
          0.09113889768074059,
          0.08549532454753543,
          null
         ],
         "y": [
          0.20050028238575712,
          0.2155652580168843,
          null
         ]
        },
        {
         "hoverinfo": "text",
         "line": {
          "color": "cornflowerblue",
          "width": 89.80998289378309
         },
         "mode": "lines",
         "text": [
          "<monsieur Grandet-943>--<une petite sotte-946>: 26"
         ],
         "type": "scatter",
         "x": [
          0.09113889768074059,
          0.10439941540932986,
          null
         ],
         "y": [
          0.20050028238575712,
          0.21783512357905754,
          null
         ]
        },
        {
         "hoverinfo": "text",
         "line": {
          "color": "cornflowerblue",
          "width": 61.80235445344087
         },
         "mode": "lines",
         "text": [
          "<monsieur Grandet-943>--<nos enfants-990>: 21"
         ],
         "type": "scatter",
         "x": [
          0.09113889768074059,
          0.07113406917173723,
          null
         ],
         "y": [
          0.20050028238575712,
          0.21615625574479366,
          null
         ]
        },
        {
         "hoverinfo": "text",
         "line": {
          "color": "cornflowerblue",
          "width": 38.4
         },
         "mode": "lines",
         "text": [
          "<monsieur Grandet-943>--<les-959>: 16"
         ],
         "type": "scatter",
         "x": [
          0.09113889768074059,
          0.11737733124623012,
          null
         ],
         "y": [
          0.20050028238575712,
          0.2214794791769886,
          null
         ]
        },
        {
         "hoverinfo": "text",
         "line": {
          "color": "cornflowerblue",
          "width": 38.4
         },
         "mode": "lines",
         "text": [
          "<monsieur Grandet-943>--<nous-978>: 16"
         ],
         "type": "scatter",
         "x": [
          0.09113889768074059,
          0.09751613723927506,
          null
         ],
         "y": [
          0.20050028238575712,
          0.23363645672156083,
          null
         ]
        },
        {
         "hoverinfo": "text",
         "line": {
          "color": "cornflowerblue",
          "width": 30.398021452681625
         },
         "mode": "lines",
         "text": [
          "<monsieur Grandet-943>--<la famille-980>: 14"
         ],
         "type": "scatter",
         "x": [
          0.09113889768074059,
          0.12196715612746756,
          null
         ],
         "y": [
          0.20050028238575712,
          0.20234806580378858,
          null
         ]
        },
        {
         "hoverinfo": "text",
         "line": {
          "color": "cornflowerblue",
          "width": 75228.04343216619
         },
         "mode": "lines",
         "text": [
          "<Grandet au Tribunal de Première Instance-2317>--<Grandet au Tribunal de Première Instance-2317>: 1217"
         ],
         "type": "scatter",
         "x": [
          -0.03704931903334862,
          -0.03704931903334862,
          null
         ],
         "y": [
          -0.09747560304156243,
          -0.09747560304156243,
          null
         ]
        },
        {
         "hoverinfo": "text",
         "line": {
          "color": "cornflowerblue",
          "width": 5465.335621865307
         },
         "mode": "lines",
         "text": [
          "<Grandet au Tribunal de Première Instance-2317>--<Charles-2316>: 272"
         ],
         "type": "scatter",
         "x": [
          -0.03704931903334862,
          -0.032047667066305394,
          null
         ],
         "y": [
          -0.09747560304156243,
          -0.09231273783263748,
          null
         ]
        },
        {
         "hoverinfo": "text",
         "line": {
          "color": "cornflowerblue",
          "width": 495.57245975992436
         },
         "mode": "lines",
         "text": [
          "<Grandet au Tribunal de Première Instance-2317>--<- tu-2340>: 69"
         ],
         "type": "scatter",
         "x": [
          -0.03704931903334862,
          -0.04740445324298786,
          null
         ],
         "y": [
          -0.09747560304156243,
          -0.09755335351415953,
          null
         ]
        },
        {
         "hoverinfo": "text",
         "line": {
          "color": "cornflowerblue",
          "width": 354.73353939456956
         },
         "mode": "lines",
         "text": [
          "<Grandet au Tribunal de Première Instance-2317>--<Perrottet-2343>: 57"
         ],
         "type": "scatter",
         "x": [
          -0.03704931903334862,
          -0.04056364113969489,
          null
         ],
         "y": [
          -0.09747560304156243,
          -0.0824008554707956,
          null
         ]
        },
        {
         "hoverinfo": "text",
         "line": {
          "color": "cornflowerblue",
          "width": 262.59921296119035
         },
         "mode": "lines",
         "text": [
          "<Grandet au Tribunal de Première Instance-2317>--<un homme profondément affligé-2345>: 48"
         ],
         "type": "scatter",
         "x": [
          -0.03704931903334862,
          -0.020172863810937247,
          null
         ],
         "y": [
          -0.09747560304156243,
          -0.0989242893953455,
          null
         ]
        },
        {
         "hoverinfo": "text",
         "line": {
          "color": "cornflowerblue",
          "width": 199.29344018589734
         },
         "mode": "lines",
         "text": [
          "<Grandet au Tribunal de Première Instance-2317>--<un pauvre garçon-2337>: 41"
         ],
         "type": "scatter",
         "x": [
          -0.03704931903334862,
          -0.02788256424139535,
          null
         ],
         "y": [
          -0.09747560304156243,
          -0.11243626965775602,
          null
         ]
        },
        {
         "hoverinfo": "text",
         "line": {
          "color": "cornflowerblue",
          "width": 89.80998289378309
         },
         "mode": "lines",
         "text": [
          "<Grandet au Tribunal de Première Instance-2317>--<ceux-2338>: 26"
         ],
         "type": "scatter",
         "x": [
          -0.03704931903334862,
          -0.044860960438823774,
          null
         ],
         "y": [
          -0.09747560304156243,
          -0.11698716514591632,
          null
         ]
        },
        {
         "hoverinfo": "text",
         "line": {
          "color": "cornflowerblue",
          "width": 78.07121311189059
         },
         "mode": "lines",
         "text": [
          "<Grandet au Tribunal de Première Instance-2317>--<les deux femmes-2348>: 24"
         ],
         "type": "scatter",
         "x": [
          -0.03704931903334862,
          -0.06145525894252784,
          null
         ],
         "y": [
          -0.09747560304156243,
          -0.09367300993906529,
          null
         ]
        },
        {
         "hoverinfo": "text",
         "line": {
          "color": "cornflowerblue",
          "width": 61.80235445344087
         },
         "mode": "lines",
         "text": [
          "<Grandet au Tribunal de Première Instance-2317>--<un honnête homme-2327>: 21"
         ],
         "type": "scatter",
         "x": [
          -0.03704931903334862,
          -0.06038182929607524,
          null
         ],
         "y": [
          -0.09747560304156243,
          -0.11165358006546149,
          null
         ]
        },
        {
         "hoverinfo": "text",
         "line": {
          "color": "cornflowerblue",
          "width": 26.700667663889877
         },
         "mode": "lines",
         "text": [
          "<Grandet au Tribunal de Première Instance-2317>--<Napoléon-2336>: 13"
         ],
         "type": "scatter",
         "x": [
          -0.03704931903334862,
          -0.04051171945746461,
          null
         ],
         "y": [
          -0.09747560304156243,
          -0.1320604115921978,
          null
         ]
        },
        {
         "hoverinfo": "text",
         "line": {
          "color": "cornflowerblue",
          "width": 87758.65758706916
         },
         "mode": "lines",
         "text": [
          "<Eugénie-1205>--<Eugénie-1205>: 1329"
         ],
         "type": "scatter",
         "x": [
          -0.09123440372754064,
          -0.09123440372754064,
          null
         ],
         "y": [
          0.27456009138729115,
          0.27456009138729115,
          null
         ]
        },
        {
         "hoverinfo": "text",
         "line": {
          "color": "cornflowerblue",
          "width": 699.2138228371626
         },
         "mode": "lines",
         "text": [
          "<Eugénie-1205>--<le-1247>: 84"
         ],
         "type": "scatter",
         "x": [
          -0.09123440372754064,
          -0.07829278471678348,
          null
         ],
         "y": [
          0.27456009138729115,
          0.271144791269305,
          null
         ]
        },
        {
         "hoverinfo": "text",
         "line": {
          "color": "cornflowerblue",
          "width": 422.636709339117
         },
         "mode": "lines",
         "text": [
          "<Eugénie-1205>--<Nanon-1239>: 63"
         ],
         "type": "scatter",
         "x": [
          -0.09123440372754064,
          -0.08595518071860171,
          null
         ],
         "y": [
          0.27456009138729115,
          0.2649571805314766,
          null
         ]
        },
        {
         "hoverinfo": "text",
         "line": {
          "color": "cornflowerblue",
          "width": 182.59308109572365
         },
         "mode": "lines",
         "text": [
          "<Eugénie-1205>--<ces jeunes gens de Paris-1263>: 39"
         ],
         "type": "scatter",
         "x": [
          -0.09123440372754064,
          -0.09843469019443585,
          null
         ],
         "y": [
          0.27456009138729115,
          0.2600103737218867,
          null
         ]
        },
        {
         "hoverinfo": "text",
         "line": {
          "color": "cornflowerblue",
          "width": 115.36749172698319
         },
         "mode": "lines",
         "text": [
          "<Eugénie-1205>--<ses-1258>: 30"
         ],
         "type": "scatter",
         "x": [
          -0.09123440372754064,
          -0.08703982366122774,
          null
         ],
         "y": [
          0.27456009138729115,
          0.2919106227981453,
          null
         ]
        },
        {
         "hoverinfo": "text",
         "line": {
          "color": "cornflowerblue",
          "width": 108.72207964948198
         },
         "mode": "lines",
         "text": [
          "<Eugénie-1205>--<il-1269>: 29"
         ],
         "type": "scatter",
         "x": [
          -0.09123440372754064,
          -0.11009034447684989,
          null
         ],
         "y": [
          0.27456009138729115,
          0.26616213463846233,
          null
         ]
        },
        {
         "hoverinfo": "text",
         "line": {
          "color": "cornflowerblue",
          "width": 72.46778175833124
         },
         "mode": "lines",
         "text": [
          "<Eugénie-1205>--<nous-1275>: 23"
         ],
         "type": "scatter",
         "x": [
          -0.09123440372754064,
          -0.09429688277765129,
          null
         ],
         "y": [
          0.27456009138729115,
          0.3017119941967996,
          null
         ]
        },
        {
         "hoverinfo": "text",
         "line": {
          "color": "cornflowerblue",
          "width": 67.0441588130837
         },
         "mode": "lines",
         "text": [
          "<Eugénie-1205>--<ce type d' enfants fortement constitués-1216>: 22"
         ],
         "type": "scatter",
         "x": [
          -0.09123440372754064,
          -0.11452901131118909,
          null
         ],
         "y": [
          0.27456009138729115,
          0.2825071842668696,
          null
         ]
        },
        {
         "hoverinfo": "text",
         "line": {
          "color": "cornflowerblue",
          "width": 61.80235445344087
         },
         "mode": "lines",
         "text": [
          "<Eugénie-1205>--<un auteur de bonne foi-1214>: 21"
         ],
         "type": "scatter",
         "x": [
          -0.09123440372754064,
          -0.10812561769424457,
          null
         ],
         "y": [
          0.27456009138729115,
          0.2961738955623874,
          null
         ]
        },
        {
         "hoverinfo": "text",
         "line": {
          "color": "cornflowerblue",
          "width": 56.744496540190546
         },
         "mode": "lines",
         "text": [
          "<Eugénie-1205>--<il-1235>: 20"
         ],
         "type": "scatter",
         "x": [
          -0.09123440372754064,
          -0.07403151430671566,
          null
         ],
         "y": [
          0.27456009138729115,
          0.2968615191460187,
          null
         ]
        },
        {
         "hoverinfo": "text",
         "line": {
          "color": "cornflowerblue",
          "width": 46985.77716720797
         },
         "mode": "lines",
         "text": [
          "<Eugénie et sa mère-1499>--<Eugénie et sa mère-1499>: 930"
         ],
         "type": "scatter",
         "x": [
          0.3162503918385469,
          0.3162503918385469,
          null
         ],
         "y": [
          0.006412649152207506,
          0.006412649152207506,
          null
         ]
        },
        {
         "hoverinfo": "text",
         "line": {
          "color": "cornflowerblue",
          "width": 4075.1628427585
         },
         "mode": "lines",
         "text": [
          "<Eugénie et sa mère-1499>--<Grandet-1486>: 230"
         ],
         "type": "scatter",
         "x": [
          0.3162503918385469,
          0.3093420923465072,
          null
         ],
         "y": [
          0.006412649152207506,
          0.009644138349061254,
          null
         ]
        },
        {
         "hoverinfo": "text",
         "line": {
          "color": "cornflowerblue",
          "width": 1016.0839667590697
         },
         "mode": "lines",
         "text": [
          "<Eugénie et sa mère-1499>--<Charles-1544>: 104"
         ],
         "type": "scatter",
         "x": [
          0.3162503918385469,
          0.3074581508981817,
          null
         ],
         "y": [
          0.006412649152207506,
          -0.0012594275345653052,
          null
         ]
        },
        {
         "hoverinfo": "text",
         "line": {
          "color": "cornflowerblue",
          "width": 546.9356849294961
         },
         "mode": "lines",
         "text": [
          "<Eugénie et sa mère-1499>--<il-1538>: 73"
         ],
         "type": "scatter",
         "x": [
          0.3162503918385469,
          0.3101544434225996,
          null
         ],
         "y": [
          0.006412649152207506,
          0.0203576953771441,
          null
         ]
        },
        {
         "hoverinfo": "text",
         "line": {
          "color": "cornflowerblue",
          "width": 422.636709339117
         },
         "mode": "lines",
         "text": [
          "<Eugénie et sa mère-1499>--<il-1516>: 63"
         ],
         "type": "scatter",
         "x": [
          0.3162503918385469,
          0.32856936808987774,
          null
         ],
         "y": [
          0.006412649152207506,
          0.014515260894934032,
          null
         ]
        },
        {
         "hoverinfo": "text",
         "line": {
          "color": "cornflowerblue",
          "width": 399.4371607046935
         },
         "mode": "lines",
         "text": [
          "<Eugénie et sa mère-1499>--<Charles-1473>: 61"
         ],
         "type": "scatter",
         "x": [
          0.3162503918385469,
          0.3254342160262063,
          null
         ],
         "y": [
          0.006412649152207506,
          0.002043682572161867,
          null
         ]
        },
        {
         "hoverinfo": "text",
         "line": {
          "color": "cornflowerblue",
          "width": 343.91435366152524
         },
         "mode": "lines",
         "text": [
          "<Eugénie et sa mère-1499>--<il-1545>: 56"
         ],
         "type": "scatter",
         "x": [
          0.3162503918385469,
          0.32959896825431834,
          null
         ],
         "y": [
          0.006412649152207506,
          -0.006151958202857731,
          null
         ]
        },
        {
         "hoverinfo": "text",
         "line": {
          "color": "cornflowerblue",
          "width": 234.5541675208745
         },
         "mode": "lines",
         "text": [
          "<Eugénie et sa mère-1499>--<Cruchot-1534>: 45"
         ],
         "type": "scatter",
         "x": [
          0.3162503918385469,
          0.31692751934660796,
          null
         ],
         "y": [
          0.006412649152207506,
          -0.012607145919834207,
          null
         ]
        },
        {
         "hoverinfo": "text",
         "line": {
          "color": "cornflowerblue",
          "width": 143.61816039328025
         },
         "mode": "lines",
         "text": [
          "<Eugénie et sa mère-1499>--<nous-1546>: 34"
         ],
         "type": "scatter",
         "x": [
          0.3162503918385469,
          0.331543897931144,
          null
         ],
         "y": [
          0.006412649152207506,
          0.024658727584606195,
          null
         ]
        },
        {
         "hoverinfo": "text",
         "line": {
          "color": "cornflowerblue",
          "width": 89.80998289378309
         },
         "mode": "lines",
         "text": [
          "<Eugénie et sa mère-1499>--<nos Hollandais-1533>: 26"
         ],
         "type": "scatter",
         "x": [
          0.3162503918385469,
          0.3437640536580755,
          null
         ],
         "y": [
          0.006412649152207506,
          0.0038484034118902066,
          null
         ]
        },
        {
         "hoverinfo": "text",
         "line": {
          "color": "cornflowerblue",
          "width": 77076.64177156199
         },
         "mode": "lines",
         "text": [
          "<Eugénie-1353>--<Eugénie-1353>: 1234"
         ],
         "type": "scatter",
         "x": [
          0.12986887425729196,
          0.12986887425729196,
          null
         ],
         "y": [
          -0.173389192554589,
          -0.173389192554589,
          null
         ]
        },
        {
         "hoverinfo": "text",
         "line": {
          "color": "cornflowerblue",
          "width": 6150.833703909232
         },
         "mode": "lines",
         "text": [
          "<Eugénie-1353>--<Il-1350>: 291"
         ],
         "type": "scatter",
         "x": [
          0.12986887425729196,
          0.12918980896681,
          null
         ],
         "y": [
          -0.173389192554589,
          -0.1661093557793869,
          null
         ]
        },
        {
         "hoverinfo": "text",
         "line": {
          "color": "cornflowerblue",
          "width": 804.3474536267721
         },
         "mode": "lines",
         "text": [
          "<Eugénie-1353>--<Nanon-1376>: 91"
         ],
         "type": "scatter",
         "x": [
          0.12986887425729196,
          0.11825048218294183,
          null
         ],
         "y": [
          -0.173389192554589,
          -0.16766660340768788,
          null
         ]
        },
        {
         "hoverinfo": "text",
         "line": {
          "color": "cornflowerblue",
          "width": 546.9356849294961
         },
         "mode": "lines",
         "text": [
          "<Eugénie-1353>--<notre plus proche parent-1374>: 73"
         ],
         "type": "scatter",
         "x": [
          0.12986887425729196,
          0.134332728920621,
          null
         ],
         "y": [
          -0.173389192554589,
          -0.18108416651906087,
          null
         ]
        },
        {
         "hoverinfo": "text",
         "line": {
          "color": "cornflowerblue",
          "width": 89.80998289378309
         },
         "mode": "lines",
         "text": [
          "<Eugénie-1353>--<monsieur-1361>: 26"
         ],
         "type": "scatter",
         "x": [
          0.12986887425729196,
          0.12966514889237862,
          null
         ],
         "y": [
          -0.173389192554589,
          -0.19596949093550636,
          null
         ]
        },
        {
         "hoverinfo": "text",
         "line": {
          "color": "cornflowerblue",
          "width": 61.80235445344087
         },
         "mode": "lines",
         "text": [
          "<Eugénie-1353>--<la femme-1363>: 21"
         ],
         "type": "scatter",
         "x": [
          0.12986887425729196,
          0.15018406780898547,
          null
         ],
         "y": [
          -0.173389192554589,
          -0.16310406955738804,
          null
         ]
        },
        {
         "hoverinfo": "text",
         "line": {
          "color": "cornflowerblue",
          "width": 51.872843635539134
         },
         "mode": "lines",
         "text": [
          "<Eugénie-1353>--<Nanon-1356>: 19"
         ],
         "type": "scatter",
         "x": [
          0.12986887425729196,
          0.15008296357315828,
          null
         ],
         "y": [
          -0.173389192554589,
          -0.19346610067433762,
          null
         ]
        },
        {
         "hoverinfo": "text",
         "line": {
          "color": "cornflowerblue",
          "width": 47.189800209951834
         },
         "mode": "lines",
         "text": [
          "<Eugénie-1353>--<les mères-1368>: 18"
         ],
         "type": "scatter",
         "x": [
          0.12986887425729196,
          0.11459529006951577,
          null
         ],
         "y": [
          -0.173389192554589,
          -0.19743232524391435,
          null
         ]
        },
        {
         "hoverinfo": "text",
         "line": {
          "color": "cornflowerblue",
          "width": 30.398021452681625
         },
         "mode": "lines",
         "text": [
          "<Eugénie-1353>--<ses-1375>: 14"
         ],
         "type": "scatter",
         "x": [
          0.12986887425729196,
          0.16093940879512975,
          null
         ],
         "y": [
          -0.173389192554589,
          -0.17865483443882418,
          null
         ]
        },
        {
         "hoverinfo": "text",
         "line": {
          "color": "cornflowerblue",
          "width": 19.93234766997288
         },
         "mode": "lines",
         "text": [
          "<Eugénie-1353>--<la servante-1362>: 11"
         ],
         "type": "scatter",
         "x": [
          0.12986887425729196,
          0.14216835062851332,
          null
         ],
         "y": [
          -0.173389192554589,
          -0.21174460701294123,
          null
         ]
        },
        {
         "hoverinfo": "text",
         "line": {
          "color": "cornflowerblue",
          "width": 91019.82331346291
         },
         "mode": "lines",
         "text": [
          "<un homme-191>--<un homme-191>: 1357"
         ],
         "type": "scatter",
         "x": [
          -0.18918341856381288,
          -0.18918341856381288,
          null
         ],
         "y": [
          -0.4063714843391057,
          -0.4063714843391057,
          null
         ]
        },
        {
         "hoverinfo": "text",
         "line": {
          "color": "cornflowerblue",
          "width": 174.4787530485653
         },
         "mode": "lines",
         "text": [
          "<un homme-191>--<La grande Nanon-240>: 38"
         ],
         "type": "scatter",
         "x": [
          -0.18918341856381288,
          -0.1873287779561986,
          null
         ],
         "y": [
          -0.4063714843391057,
          -0.3948032106490831,
          null
         ]
        },
        {
         "hoverinfo": "text",
         "line": {
          "color": "cornflowerblue",
          "width": 72.46778175833124
         },
         "mode": "lines",
         "text": [
          "<un homme-191>--<rangeaient-247>: 23"
         ],
         "type": "scatter",
         "x": [
          -0.18918341856381288,
          -0.20067304733084573,
          null
         ],
         "y": [
          -0.4063714843391057,
          -0.38815748993127114,
          null
         ]
        },
        {
         "hoverinfo": "text",
         "line": {
          "color": "cornflowerblue",
          "width": 56.744496540190546
         },
         "mode": "lines",
         "text": [
          "<un homme-191>--<le garde d' un voisin-251>: 20"
         ],
         "type": "scatter",
         "x": [
          -0.18918341856381288,
          -0.16935942605957408,
          null
         ],
         "y": [
          -0.4063714843391057,
          -0.40027783377108483,
          null
         ]
        },
        {
         "hoverinfo": "text",
         "line": {
          "color": "cornflowerblue",
          "width": 42.69793454582271
         },
         "mode": "lines",
         "text": [
          "<un homme-191>--<les gens capables-222>: 17"
         ],
         "type": "scatter",
         "x": [
          -0.18918341856381288,
          -0.21362471473399527,
          null
         ],
         "y": [
          -0.4063714843391057,
          -0.4036490263351308,
          null
         ]
        },
        {
         "hoverinfo": "text",
         "line": {
          "color": "cornflowerblue",
          "width": 42.69793454582271
         },
         "mode": "lines",
         "text": [
          "<un homme-191>--<les maraîchers-243>: 17"
         ],
         "type": "scatter",
         "x": [
          -0.18918341856381288,
          -0.16776281822797812,
          null
         ],
         "y": [
          -0.4063714843391057,
          -0.4183546095801854,
          null
         ]
        },
        {
         "hoverinfo": "text",
         "line": {
          "color": "cornflowerblue",
          "width": 34.29896050043649
         },
         "mode": "lines",
         "text": [
          "<un homme-191>--<qu'-257>: 15"
         ],
         "type": "scatter",
         "x": [
          -0.18918341856381288,
          -0.1772386518709403,
          null
         ],
         "y": [
          -0.4063714843391057,
          -0.43060689895400733,
          null
         ]
        },
        {
         "hoverinfo": "text",
         "line": {
          "color": "cornflowerblue",
          "width": 30.398021452681625
         },
         "mode": "lines",
         "text": [
          "<un homme-191>--<ses-255>: 14"
         ],
         "type": "scatter",
         "x": [
          -0.18918341856381288,
          -0.20701157453230298,
          null
         ],
         "y": [
          -0.4063714843391057,
          -0.433013082990103,
          null
         ]
        },
        {
         "hoverinfo": "text",
         "line": {
          "color": "cornflowerblue",
          "width": 30.398021452681625
         },
         "mode": "lines",
         "text": [
          "<un homme-191>--<lui-256>: 14"
         ],
         "type": "scatter",
         "x": [
          -0.18918341856381288,
          -0.19200783165809887,
          null
         ],
         "y": [
          -0.4063714843391057,
          -0.4363005196727292,
          null
         ]
        },
        {
         "hoverinfo": "text",
         "line": {
          "color": "cornflowerblue",
          "width": 26.700667663889877
         },
         "mode": "lines",
         "text": [
          "<un homme-191>--<Chacun-196>: 13"
         ],
         "type": "scatter",
         "x": [
          -0.18918341856381288,
          -0.21762912014992628,
          null
         ],
         "y": [
          -0.4063714843391057,
          -0.42020881804988197,
          null
         ]
        },
        {
         "hoverinfo": "text",
         "line": {
          "color": "cornflowerblue",
          "width": 59466.05163833934
         },
         "mode": "lines",
         "text": [
          "<l'-2932>--<l'-2932>: 1064"
         ],
         "type": "scatter",
         "x": [
          0.13747934011219176,
          0.13747934011219176,
          null
         ],
         "y": [
          0.008068994877830856,
          0.008068994877830856,
          null
         ]
        },
        {
         "hoverinfo": "text",
         "line": {
          "color": "cornflowerblue",
          "width": 13344.217384482428
         },
         "mode": "lines",
         "text": [
          "<l'-2932>--<maître Cruchot-2957>: 453"
         ],
         "type": "scatter",
         "x": [
          0.13747934011219176,
          0.1323905492280932,
          null
         ],
         "y": [
          0.008068994877830856,
          0.006092022175417211,
          null
         ]
        },
        {
         "hoverinfo": "text",
         "line": {
          "color": "cornflowerblue",
          "width": 354.73353939456956
         },
         "mode": "lines",
         "text": [
          "<l'-2932>--<la mère-2935>: 57"
         ],
         "type": "scatter",
         "x": [
          0.13747934011219176,
          0.12971486272108496,
          null
         ],
         "y": [
          0.008068994877830856,
          0.020065142436787777,
          null
         ]
        },
        {
         "hoverinfo": "text",
         "line": {
          "color": "cornflowerblue",
          "width": 354.73353939456956
         },
         "mode": "lines",
         "text": [
          "<l'-2932>--<ses soins les plus tendres-2950>: 57"
         ],
         "type": "scatter",
         "x": [
          0.13747934011219176,
          0.12231010462894798,
          null
         ],
         "y": [
          0.008068994877830856,
          0.0006843173688883586,
          null
         ]
        },
        {
         "hoverinfo": "text",
         "line": {
          "color": "cornflowerblue",
          "width": 143.61816039328025
         },
         "mode": "lines",
         "text": [
          "<l'-2932>--<monsieur votre père-2959>: 34"
         ],
         "type": "scatter",
         "x": [
          0.13747934011219176,
          0.14113229756087267,
          null
         ],
         "y": [
          0.008068994877830856,
          0.027758872636605158,
          null
         ]
        },
        {
         "hoverinfo": "text",
         "line": {
          "color": "cornflowerblue",
          "width": 129.16168938297054
         },
         "mode": "lines",
         "text": [
          "<l'-2932>--<Eugénie-2902>: 32"
         ],
         "type": "scatter",
         "x": [
          0.13747934011219176,
          0.14109174477358272,
          null
         ],
         "y": [
          0.008068994877830856,
          -0.012278026455827103,
          null
         ]
        },
        {
         "hoverinfo": "text",
         "line": {
          "color": "cornflowerblue",
          "width": 129.16168938297054
         },
         "mode": "lines",
         "text": [
          "<l'-2932>--<lui-2965>: 32"
         ],
         "type": "scatter",
         "x": [
          0.13747934011219176,
          0.15334508925246082,
          null
         ],
         "y": [
          0.008068994877830856,
          0.014029362202006719,
          null
         ]
        },
        {
         "hoverinfo": "text",
         "line": {
          "color": "cornflowerblue",
          "width": 102.24634908146199
         },
         "mode": "lines",
         "text": [
          "<l'-2932>--<un monde égoïste-2947>: 28"
         ],
         "type": "scatter",
         "x": [
          0.13747934011219176,
          0.15463314292889574,
          null
         ],
         "y": [
          0.008068994877830856,
          -0.004770374947801793,
          null
         ]
        },
        {
         "hoverinfo": "text",
         "line": {
          "color": "cornflowerblue",
          "width": 30.398021452681625
         },
         "mode": "lines",
         "text": [
          "<l'-2932>--<te-2964>: 14"
         ],
         "type": "scatter",
         "x": [
          0.13747934011219176,
          0.16115621765895285,
          null
         ],
         "y": [
          0.008068994877830856,
          0.02914185534624595,
          null
         ]
        },
        {
         "hoverinfo": "text",
         "line": {
          "color": "cornflowerblue",
          "width": 30.398021452681625
         },
         "mode": "lines",
         "text": [
          "<l'-2932>--<nous-2966>: 14"
         ],
         "type": "scatter",
         "x": [
          0.13747934011219176,
          0.1697417468882696,
          null
         ],
         "y": [
          0.008068994877830856,
          0.0059308893849752044,
          null
         ]
        },
        {
         "hoverinfo": "none",
         "marker": {
          "color": [
           "cornflowerblue",
           "cornflowerblue",
           "cornflowerblue",
           "cornflowerblue",
           "cornflowerblue",
           "cornflowerblue",
           "cornflowerblue",
           "cornflowerblue",
           "cornflowerblue",
           "cornflowerblue",
           "cornflowerblue"
          ],
          "size": [
           2240,
           1525,
           1320,
           975,
           975,
           960,
           890,
           820,
           735,
           730
          ]
         },
         "mode": "markers+text",
         "text": [
          "<b><La fille-2687></b>",
          "<b><Eugénie-3301></b>",
          "<b><le père-2169></b>",
          "<b><monsieur Grandet-943></b>",
          "<b><Grandet au Tribunal de Première Instance-2317></b>",
          "<b><Eugénie-1205></b>",
          "<b><Eugénie et sa mère-1499></b>",
          "<b><Eugénie-1353></b>",
          "<b><un homme-191></b>",
          "<b><l'-2932></b>"
         ],
         "textfont": {
          "size": 10
         },
         "textposition": "top center",
         "type": "scatter",
         "x": [
          1,
          -0.34071709250953536,
          -0.11069533014569612,
          0.09113889768074059,
          -0.03704931903334862,
          -0.09123440372754064,
          0.3162503918385469,
          0.12986887425729196,
          -0.18918341856381288,
          0.13747934011219176,
          -0.3345673663824666
         ],
         "y": [
          -0.11335116829451815,
          0.14716986444343175,
          0.054226259624940244,
          0.20050028238575712,
          -0.09747560304156243,
          0.27456009138729115,
          0.006412649152207506,
          -0.173389192554589,
          -0.4063714843391057,
          0.008068994877830856,
          0.13709971365553614
         ]
        }
       ],
       "layout": {
        "paper_bgcolor": "rgba(0,0,0,0)",
        "plot_bgcolor": "rgba(0,0,0,0)",
        "showlegend": false,
        "template": {
         "data": {
          "bar": [
           {
            "error_x": {
             "color": "#2a3f5f"
            },
            "error_y": {
             "color": "#2a3f5f"
            },
            "marker": {
             "line": {
              "color": "#E5ECF6",
              "width": 0.5
             },
             "pattern": {
              "fillmode": "overlay",
              "size": 10,
              "solidity": 0.2
             }
            },
            "type": "bar"
           }
          ],
          "barpolar": [
           {
            "marker": {
             "line": {
              "color": "#E5ECF6",
              "width": 0.5
             },
             "pattern": {
              "fillmode": "overlay",
              "size": 10,
              "solidity": 0.2
             }
            },
            "type": "barpolar"
           }
          ],
          "carpet": [
           {
            "aaxis": {
             "endlinecolor": "#2a3f5f",
             "gridcolor": "white",
             "linecolor": "white",
             "minorgridcolor": "white",
             "startlinecolor": "#2a3f5f"
            },
            "baxis": {
             "endlinecolor": "#2a3f5f",
             "gridcolor": "white",
             "linecolor": "white",
             "minorgridcolor": "white",
             "startlinecolor": "#2a3f5f"
            },
            "type": "carpet"
           }
          ],
          "choropleth": [
           {
            "colorbar": {
             "outlinewidth": 0,
             "ticks": ""
            },
            "type": "choropleth"
           }
          ],
          "contour": [
           {
            "colorbar": {
             "outlinewidth": 0,
             "ticks": ""
            },
            "colorscale": [
             [
              0,
              "#0d0887"
             ],
             [
              0.1111111111111111,
              "#46039f"
             ],
             [
              0.2222222222222222,
              "#7201a8"
             ],
             [
              0.3333333333333333,
              "#9c179e"
             ],
             [
              0.4444444444444444,
              "#bd3786"
             ],
             [
              0.5555555555555556,
              "#d8576b"
             ],
             [
              0.6666666666666666,
              "#ed7953"
             ],
             [
              0.7777777777777778,
              "#fb9f3a"
             ],
             [
              0.8888888888888888,
              "#fdca26"
             ],
             [
              1,
              "#f0f921"
             ]
            ],
            "type": "contour"
           }
          ],
          "contourcarpet": [
           {
            "colorbar": {
             "outlinewidth": 0,
             "ticks": ""
            },
            "type": "contourcarpet"
           }
          ],
          "heatmap": [
           {
            "colorbar": {
             "outlinewidth": 0,
             "ticks": ""
            },
            "colorscale": [
             [
              0,
              "#0d0887"
             ],
             [
              0.1111111111111111,
              "#46039f"
             ],
             [
              0.2222222222222222,
              "#7201a8"
             ],
             [
              0.3333333333333333,
              "#9c179e"
             ],
             [
              0.4444444444444444,
              "#bd3786"
             ],
             [
              0.5555555555555556,
              "#d8576b"
             ],
             [
              0.6666666666666666,
              "#ed7953"
             ],
             [
              0.7777777777777778,
              "#fb9f3a"
             ],
             [
              0.8888888888888888,
              "#fdca26"
             ],
             [
              1,
              "#f0f921"
             ]
            ],
            "type": "heatmap"
           }
          ],
          "heatmapgl": [
           {
            "colorbar": {
             "outlinewidth": 0,
             "ticks": ""
            },
            "colorscale": [
             [
              0,
              "#0d0887"
             ],
             [
              0.1111111111111111,
              "#46039f"
             ],
             [
              0.2222222222222222,
              "#7201a8"
             ],
             [
              0.3333333333333333,
              "#9c179e"
             ],
             [
              0.4444444444444444,
              "#bd3786"
             ],
             [
              0.5555555555555556,
              "#d8576b"
             ],
             [
              0.6666666666666666,
              "#ed7953"
             ],
             [
              0.7777777777777778,
              "#fb9f3a"
             ],
             [
              0.8888888888888888,
              "#fdca26"
             ],
             [
              1,
              "#f0f921"
             ]
            ],
            "type": "heatmapgl"
           }
          ],
          "histogram": [
           {
            "marker": {
             "pattern": {
              "fillmode": "overlay",
              "size": 10,
              "solidity": 0.2
             }
            },
            "type": "histogram"
           }
          ],
          "histogram2d": [
           {
            "colorbar": {
             "outlinewidth": 0,
             "ticks": ""
            },
            "colorscale": [
             [
              0,
              "#0d0887"
             ],
             [
              0.1111111111111111,
              "#46039f"
             ],
             [
              0.2222222222222222,
              "#7201a8"
             ],
             [
              0.3333333333333333,
              "#9c179e"
             ],
             [
              0.4444444444444444,
              "#bd3786"
             ],
             [
              0.5555555555555556,
              "#d8576b"
             ],
             [
              0.6666666666666666,
              "#ed7953"
             ],
             [
              0.7777777777777778,
              "#fb9f3a"
             ],
             [
              0.8888888888888888,
              "#fdca26"
             ],
             [
              1,
              "#f0f921"
             ]
            ],
            "type": "histogram2d"
           }
          ],
          "histogram2dcontour": [
           {
            "colorbar": {
             "outlinewidth": 0,
             "ticks": ""
            },
            "colorscale": [
             [
              0,
              "#0d0887"
             ],
             [
              0.1111111111111111,
              "#46039f"
             ],
             [
              0.2222222222222222,
              "#7201a8"
             ],
             [
              0.3333333333333333,
              "#9c179e"
             ],
             [
              0.4444444444444444,
              "#bd3786"
             ],
             [
              0.5555555555555556,
              "#d8576b"
             ],
             [
              0.6666666666666666,
              "#ed7953"
             ],
             [
              0.7777777777777778,
              "#fb9f3a"
             ],
             [
              0.8888888888888888,
              "#fdca26"
             ],
             [
              1,
              "#f0f921"
             ]
            ],
            "type": "histogram2dcontour"
           }
          ],
          "mesh3d": [
           {
            "colorbar": {
             "outlinewidth": 0,
             "ticks": ""
            },
            "type": "mesh3d"
           }
          ],
          "parcoords": [
           {
            "line": {
             "colorbar": {
              "outlinewidth": 0,
              "ticks": ""
             }
            },
            "type": "parcoords"
           }
          ],
          "pie": [
           {
            "automargin": true,
            "type": "pie"
           }
          ],
          "scatter": [
           {
            "marker": {
             "colorbar": {
              "outlinewidth": 0,
              "ticks": ""
             }
            },
            "type": "scatter"
           }
          ],
          "scatter3d": [
           {
            "line": {
             "colorbar": {
              "outlinewidth": 0,
              "ticks": ""
             }
            },
            "marker": {
             "colorbar": {
              "outlinewidth": 0,
              "ticks": ""
             }
            },
            "type": "scatter3d"
           }
          ],
          "scattercarpet": [
           {
            "marker": {
             "colorbar": {
              "outlinewidth": 0,
              "ticks": ""
             }
            },
            "type": "scattercarpet"
           }
          ],
          "scattergeo": [
           {
            "marker": {
             "colorbar": {
              "outlinewidth": 0,
              "ticks": ""
             }
            },
            "type": "scattergeo"
           }
          ],
          "scattergl": [
           {
            "marker": {
             "colorbar": {
              "outlinewidth": 0,
              "ticks": ""
             }
            },
            "type": "scattergl"
           }
          ],
          "scattermapbox": [
           {
            "marker": {
             "colorbar": {
              "outlinewidth": 0,
              "ticks": ""
             }
            },
            "type": "scattermapbox"
           }
          ],
          "scatterpolar": [
           {
            "marker": {
             "colorbar": {
              "outlinewidth": 0,
              "ticks": ""
             }
            },
            "type": "scatterpolar"
           }
          ],
          "scatterpolargl": [
           {
            "marker": {
             "colorbar": {
              "outlinewidth": 0,
              "ticks": ""
             }
            },
            "type": "scatterpolargl"
           }
          ],
          "scatterternary": [
           {
            "marker": {
             "colorbar": {
              "outlinewidth": 0,
              "ticks": ""
             }
            },
            "type": "scatterternary"
           }
          ],
          "surface": [
           {
            "colorbar": {
             "outlinewidth": 0,
             "ticks": ""
            },
            "colorscale": [
             [
              0,
              "#0d0887"
             ],
             [
              0.1111111111111111,
              "#46039f"
             ],
             [
              0.2222222222222222,
              "#7201a8"
             ],
             [
              0.3333333333333333,
              "#9c179e"
             ],
             [
              0.4444444444444444,
              "#bd3786"
             ],
             [
              0.5555555555555556,
              "#d8576b"
             ],
             [
              0.6666666666666666,
              "#ed7953"
             ],
             [
              0.7777777777777778,
              "#fb9f3a"
             ],
             [
              0.8888888888888888,
              "#fdca26"
             ],
             [
              1,
              "#f0f921"
             ]
            ],
            "type": "surface"
           }
          ],
          "table": [
           {
            "cells": {
             "fill": {
              "color": "#EBF0F8"
             },
             "line": {
              "color": "white"
             }
            },
            "header": {
             "fill": {
              "color": "#C8D4E3"
             },
             "line": {
              "color": "white"
             }
            },
            "type": "table"
           }
          ]
         },
         "layout": {
          "annotationdefaults": {
           "arrowcolor": "#2a3f5f",
           "arrowhead": 0,
           "arrowwidth": 1
          },
          "autotypenumbers": "strict",
          "coloraxis": {
           "colorbar": {
            "outlinewidth": 0,
            "ticks": ""
           }
          },
          "colorscale": {
           "diverging": [
            [
             0,
             "#8e0152"
            ],
            [
             0.1,
             "#c51b7d"
            ],
            [
             0.2,
             "#de77ae"
            ],
            [
             0.3,
             "#f1b6da"
            ],
            [
             0.4,
             "#fde0ef"
            ],
            [
             0.5,
             "#f7f7f7"
            ],
            [
             0.6,
             "#e6f5d0"
            ],
            [
             0.7,
             "#b8e186"
            ],
            [
             0.8,
             "#7fbc41"
            ],
            [
             0.9,
             "#4d9221"
            ],
            [
             1,
             "#276419"
            ]
           ],
           "sequential": [
            [
             0,
             "#0d0887"
            ],
            [
             0.1111111111111111,
             "#46039f"
            ],
            [
             0.2222222222222222,
             "#7201a8"
            ],
            [
             0.3333333333333333,
             "#9c179e"
            ],
            [
             0.4444444444444444,
             "#bd3786"
            ],
            [
             0.5555555555555556,
             "#d8576b"
            ],
            [
             0.6666666666666666,
             "#ed7953"
            ],
            [
             0.7777777777777778,
             "#fb9f3a"
            ],
            [
             0.8888888888888888,
             "#fdca26"
            ],
            [
             1,
             "#f0f921"
            ]
           ],
           "sequentialminus": [
            [
             0,
             "#0d0887"
            ],
            [
             0.1111111111111111,
             "#46039f"
            ],
            [
             0.2222222222222222,
             "#7201a8"
            ],
            [
             0.3333333333333333,
             "#9c179e"
            ],
            [
             0.4444444444444444,
             "#bd3786"
            ],
            [
             0.5555555555555556,
             "#d8576b"
            ],
            [
             0.6666666666666666,
             "#ed7953"
            ],
            [
             0.7777777777777778,
             "#fb9f3a"
            ],
            [
             0.8888888888888888,
             "#fdca26"
            ],
            [
             1,
             "#f0f921"
            ]
           ]
          },
          "colorway": [
           "#636efa",
           "#EF553B",
           "#00cc96",
           "#ab63fa",
           "#FFA15A",
           "#19d3f3",
           "#FF6692",
           "#B6E880",
           "#FF97FF",
           "#FECB52"
          ],
          "font": {
           "color": "#2a3f5f"
          },
          "geo": {
           "bgcolor": "white",
           "lakecolor": "white",
           "landcolor": "#E5ECF6",
           "showlakes": true,
           "showland": true,
           "subunitcolor": "white"
          },
          "hoverlabel": {
           "align": "left"
          },
          "hovermode": "closest",
          "mapbox": {
           "style": "light"
          },
          "paper_bgcolor": "white",
          "plot_bgcolor": "#E5ECF6",
          "polar": {
           "angularaxis": {
            "gridcolor": "white",
            "linecolor": "white",
            "ticks": ""
           },
           "bgcolor": "#E5ECF6",
           "radialaxis": {
            "gridcolor": "white",
            "linecolor": "white",
            "ticks": ""
           }
          },
          "scene": {
           "xaxis": {
            "backgroundcolor": "#E5ECF6",
            "gridcolor": "white",
            "gridwidth": 2,
            "linecolor": "white",
            "showbackground": true,
            "ticks": "",
            "zerolinecolor": "white"
           },
           "yaxis": {
            "backgroundcolor": "#E5ECF6",
            "gridcolor": "white",
            "gridwidth": 2,
            "linecolor": "white",
            "showbackground": true,
            "ticks": "",
            "zerolinecolor": "white"
           },
           "zaxis": {
            "backgroundcolor": "#E5ECF6",
            "gridcolor": "white",
            "gridwidth": 2,
            "linecolor": "white",
            "showbackground": true,
            "ticks": "",
            "zerolinecolor": "white"
           }
          },
          "shapedefaults": {
           "line": {
            "color": "#2a3f5f"
           }
          },
          "ternary": {
           "aaxis": {
            "gridcolor": "white",
            "linecolor": "white",
            "ticks": ""
           },
           "baxis": {
            "gridcolor": "white",
            "linecolor": "white",
            "ticks": ""
           },
           "bgcolor": "#E5ECF6",
           "caxis": {
            "gridcolor": "white",
            "linecolor": "white",
            "ticks": ""
           }
          },
          "title": {
           "x": 0.05
          },
          "xaxis": {
           "automargin": true,
           "gridcolor": "white",
           "linecolor": "white",
           "ticks": "",
           "title": {
            "standoff": 15
           },
           "zerolinecolor": "white",
           "zerolinewidth": 2
          },
          "yaxis": {
           "automargin": true,
           "gridcolor": "white",
           "linecolor": "white",
           "ticks": "",
           "title": {
            "standoff": 15
           },
           "zerolinecolor": "white",
           "zerolinewidth": 2
          }
         }
        },
        "xaxis": {
         "showticklabels": false
        },
        "yaxis": {
         "showticklabels": false
        }
       }
      },
      "text/html": [
       "<div>                            <div id=\"aea26957-e790-4895-833e-7c5519177aa5\" class=\"plotly-graph-div\" style=\"height:525px; width:100%;\"></div>            <script type=\"text/javascript\">                require([\"plotly\"], function(Plotly) {                    window.PLOTLYENV=window.PLOTLYENV || {};                                    if (document.getElementById(\"aea26957-e790-4895-833e-7c5519177aa5\")) {                    Plotly.newPlot(                        \"aea26957-e790-4895-833e-7c5519177aa5\",                        [{\"hoverinfo\":\"text\",\"line\":{\"color\":\"cornflowerblue\",\"width\":103824.25546947551},\"mode\":\"lines\",\"text\":[\"<Eug\\u00e9nie-3301>--<Eug\\u00e9nie-3301>: 1463\"],\"x\":[-0.34071709250953536,-0.34071709250953536,null],\"y\":[0.14716986444343175,0.14716986444343175,null],\"type\":\"scatter\"},{\"hoverinfo\":\"text\",\"line\":{\"color\":\"cornflowerblue\",\"width\":1067.930194023101},\"mode\":\"lines\",\"text\":[\"<Eug\\u00e9nie-3301>--<Cornoiller-3306>: 107\"],\"x\":[-0.34071709250953536,-0.3345673663824666,null],\"y\":[0.14716986444343175,0.13709971365553614,null],\"type\":\"scatter\"},{\"hoverinfo\":\"text\",\"line\":{\"color\":\"cornflowerblue\",\"width\":883.2749473100471},\"mode\":\"lines\",\"text\":[\"<Eug\\u00e9nie-3301>--<nos parents-3319>: 96\"],\"x\":[-0.34071709250953536,-0.33149552883293293,null],\"y\":[0.14716986444343175,0.14849935905192274,null],\"type\":\"scatter\"},{\"hoverinfo\":\"text\",\"line\":{\"color\":\"cornflowerblue\",\"width\":166.52301744878278},\"mode\":\"lines\",\"text\":[\"<Eug\\u00e9nie-3301>--<l' h\\u00e9riti\\u00e8re-3338>: 37\"],\"x\":[-0.34071709250953536,-0.35578463791153936,null],\"y\":[0.14716986444343175,0.1479811570730471,null],\"type\":\"scatter\"},{\"hoverinfo\":\"text\",\"line\":{\"color\":\"cornflowerblue\",\"width\":95.9417955442367},\"mode\":\"lines\",\"text\":[\"<Eug\\u00e9nie-3301>--<la famille d' Aubrion-3337>: 27\"],\"x\":[-0.34071709250953536,-0.3273692874669094,null],\"y\":[0.14716986444343175,0.16214711313985575,null],\"type\":\"scatter\"},{\"hoverinfo\":\"text\",\"line\":{\"color\":\"cornflowerblue\",\"width\":34.29896050043649},\"mode\":\"lines\",\"text\":[\"<Eug\\u00e9nie-3301>--<le facteur de poste-3308>: 15\"],\"x\":[-0.34071709250953536,-0.3618860339402675,null],\"y\":[0.14716986444343175,0.16959366180586444,null],\"type\":\"scatter\"},{\"hoverinfo\":\"text\",\"line\":{\"color\":\"cornflowerblue\",\"width\":34.29896050043649},\"mode\":\"lines\",\"text\":[\"<Eug\\u00e9nie-3301>--<dont-3317>: 15\"],\"x\":[-0.34071709250953536,-0.3720471069612035,null],\"y\":[0.14716986444343175,0.14031206071148256,null],\"type\":\"scatter\"},{\"hoverinfo\":\"text\",\"line\":{\"color\":\"cornflowerblue\",\"width\":30.398021452681625},\"mode\":\"lines\",\"text\":[\"<Eug\\u00e9nie-3301>--<monsieur des Grassins-3318>: 14\"],\"x\":[-0.34071709250953536,-0.3442100976147341,null],\"y\":[0.14716986444343175,0.17631193429975792,null],\"type\":\"scatter\"},{\"hoverinfo\":\"text\",\"line\":{\"color\":\"cornflowerblue\",\"width\":30.398021452681625},\"mode\":\"lines\",\"text\":[\"<Eug\\u00e9nie-3301>--<beaucoup de monde-3336>: 14\"],\"x\":[-0.34071709250953536,-0.3619103017050399,null],\"y\":[0.14716986444343175,0.12520499214706685,null],\"type\":\"scatter\"},{\"hoverinfo\":\"text\",\"line\":{\"color\":\"cornflowerblue\",\"width\":26.700667663889877},\"mode\":\"lines\",\"text\":[\"<Eug\\u00e9nie-3301>--<Nous-3346>: 13\"],\"x\":[-0.34071709250953536,-0.37553975510306015,null],\"y\":[0.14716986444343175,0.15834943276659336,null],\"type\":\"scatter\"},{\"hoverinfo\":\"text\",\"line\":{\"color\":\"cornflowerblue\",\"width\":98907.63781976812},\"mode\":\"lines\",\"text\":[\"<le p\\u00e8re-2169>--<le p\\u00e8re-2169>: 1423\"],\"x\":[-0.11069533014569612,-0.11069533014569612,null],\"y\":[0.054226259624940244,0.054226259624940244,null],\"type\":\"scatter\"},{\"hoverinfo\":\"text\",\"line\":{\"color\":\"cornflowerblue\",\"width\":2183.06435108831},\"mode\":\"lines\",\"text\":[\"<le p\\u00e8re-2169>--<lui-2132>: 161\"],\"x\":[-0.11069533014569612,-0.09919406751163216,null],\"y\":[0.054226259624940244,0.054546320097691954,null],\"type\":\"scatter\"},{\"hoverinfo\":\"text\",\"line\":{\"color\":\"cornflowerblue\",\"width\":410.9667740508639},\"mode\":\"lines\",\"text\":[\"<le p\\u00e8re-2169>--<madame de Mirbel-2184>: 62\"],\"x\":[-0.11069533014569612,-0.10562249855374743,null],\"y\":[0.054226259624940244,0.06616940041581526,null],\"type\":\"scatter\"},{\"hoverinfo\":\"text\",\"line\":{\"color\":\"cornflowerblue\",\"width\":243.7515916078771},\"mode\":\"lines\",\"text\":[\"<le p\\u00e8re-2169>--<elle-2181>: 46\"],\"x\":[-0.11069533014569612,-0.10030304105462004,null],\"y\":[0.054226259624940244,0.04253914596484544,null],\"type\":\"scatter\"},{\"hoverinfo\":\"text\",\"line\":{\"color\":\"cornflowerblue\",\"width\":67.0441588130837},\"mode\":\"lines\",\"text\":[\"<le p\\u00e8re-2169>--<- vousErreur-2179>: 22\"],\"x\":[-0.11069533014569612,-0.12778223852903217,null],\"y\":[0.054226259624940244,0.06687703470628599,null],\"type\":\"scatter\"},{\"hoverinfo\":\"text\",\"line\":{\"color\":\"cornflowerblue\",\"width\":56.744496540190546},\"mode\":\"lines\",\"text\":[\"<le p\\u00e8re-2169>--<ami-2183>: 20\"],\"x\":[-0.11069533014569612,-0.1159604704511681,null],\"y\":[0.054226259624940244,0.032170313546201854,null],\"type\":\"scatter\"},{\"hoverinfo\":\"text\",\"line\":{\"color\":\"cornflowerblue\",\"width\":51.872843635539134},\"mode\":\"lines\",\"text\":[\"<le p\\u00e8re-2169>--<tous deux-2182>: 19\"],\"x\":[-0.11069533014569612,-0.11696667148582898,null],\"y\":[0.054226259624940244,0.07928425064125065,null],\"type\":\"scatter\"},{\"hoverinfo\":\"text\",\"line\":{\"color\":\"cornflowerblue\",\"width\":38.4},\"mode\":\"lines\",\"text\":[\"<le p\\u00e8re-2169>--<qui-2185>: 16\"],\"x\":[-0.11069533014569612,-0.13551337459797552,null],\"y\":[0.054226259624940244,0.049158684332954505,null],\"type\":\"scatter\"},{\"hoverinfo\":\"text\",\"line\":{\"color\":\"cornflowerblue\",\"width\":34.29896050043649},\"mode\":\"lines\",\"text\":[\"<le p\\u00e8re-2169>--<nous-2178>: 15\"],\"x\":[-0.11069533014569612,-0.13301279979799618,null],\"y\":[0.054226259624940244,0.03388321103126551,null],\"type\":\"scatter\"},{\"hoverinfo\":\"text\",\"line\":{\"color\":\"cornflowerblue\",\"width\":19.93234766997288},\"mode\":\"lines\",\"text\":[\"<le p\\u00e8re-2169>--<femme aimante-2186>: 11\"],\"x\":[-0.11069533014569612,-0.14667923469212454,null],\"y\":[0.054226259624940244,0.06522939164738518,null],\"type\":\"scatter\"},{\"hoverinfo\":\"text\",\"line\":{\"color\":\"cornflowerblue\",\"width\":43079.63137323802},\"mode\":\"lines\",\"text\":[\"<monsieur Grandet-943>--<monsieur Grandet-943>: 885\"],\"x\":[0.09113889768074059,0.09113889768074059,null],\"y\":[0.20050028238575712,0.20050028238575712,null],\"type\":\"scatter\"},{\"hoverinfo\":\"text\",\"line\":{\"color\":\"cornflowerblue\",\"width\":7503.295575402952},\"mode\":\"lines\",\"text\":[\"<monsieur Grandet-943>--<son-987>: 326\"],\"x\":[0.09113889768074059,0.08508808028165919,null],\"y\":[0.20050028238575712,0.20070102776404156,null],\"type\":\"scatter\"},{\"hoverinfo\":\"text\",\"line\":{\"color\":\"cornflowerblue\",\"width\":1795.790277287412},\"mode\":\"lines\",\"text\":[\"<monsieur Grandet-943>--<Charles-920>: 144\"],\"x\":[0.09113889768074059,0.09451556397225475,null],\"y\":[0.20050028238575712,0.19005993205964897,null],\"type\":\"scatter\"},{\"hoverinfo\":\"text\",\"line\":{\"color\":\"cornflowerblue\",\"width\":1604.0036403059596},\"mode\":\"lines\",\"text\":[\"<monsieur Grandet-943>--<madame des Grassins-947>: 135\"],\"x\":[0.09113889768074059,0.08348954924899249,null],\"y\":[0.20050028238575712,0.1919721137613982,null],\"type\":\"scatter\"},{\"hoverinfo\":\"text\",\"line\":{\"color\":\"cornflowerblue\",\"width\":174.4787530485653},\"mode\":\"lines\",\"text\":[\"<monsieur Grandet-943>--<au notaire-973>: 38\"],\"x\":[0.09113889768074059,0.08549532454753543,null],\"y\":[0.20050028238575712,0.2155652580168843,null],\"type\":\"scatter\"},{\"hoverinfo\":\"text\",\"line\":{\"color\":\"cornflowerblue\",\"width\":89.80998289378309},\"mode\":\"lines\",\"text\":[\"<monsieur Grandet-943>--<une petite sotte-946>: 26\"],\"x\":[0.09113889768074059,0.10439941540932986,null],\"y\":[0.20050028238575712,0.21783512357905754,null],\"type\":\"scatter\"},{\"hoverinfo\":\"text\",\"line\":{\"color\":\"cornflowerblue\",\"width\":61.80235445344087},\"mode\":\"lines\",\"text\":[\"<monsieur Grandet-943>--<nos enfants-990>: 21\"],\"x\":[0.09113889768074059,0.07113406917173723,null],\"y\":[0.20050028238575712,0.21615625574479366,null],\"type\":\"scatter\"},{\"hoverinfo\":\"text\",\"line\":{\"color\":\"cornflowerblue\",\"width\":38.4},\"mode\":\"lines\",\"text\":[\"<monsieur Grandet-943>--<les-959>: 16\"],\"x\":[0.09113889768074059,0.11737733124623012,null],\"y\":[0.20050028238575712,0.2214794791769886,null],\"type\":\"scatter\"},{\"hoverinfo\":\"text\",\"line\":{\"color\":\"cornflowerblue\",\"width\":38.4},\"mode\":\"lines\",\"text\":[\"<monsieur Grandet-943>--<nous-978>: 16\"],\"x\":[0.09113889768074059,0.09751613723927506,null],\"y\":[0.20050028238575712,0.23363645672156083,null],\"type\":\"scatter\"},{\"hoverinfo\":\"text\",\"line\":{\"color\":\"cornflowerblue\",\"width\":30.398021452681625},\"mode\":\"lines\",\"text\":[\"<monsieur Grandet-943>--<la famille-980>: 14\"],\"x\":[0.09113889768074059,0.12196715612746756,null],\"y\":[0.20050028238575712,0.20234806580378858,null],\"type\":\"scatter\"},{\"hoverinfo\":\"text\",\"line\":{\"color\":\"cornflowerblue\",\"width\":75228.04343216619},\"mode\":\"lines\",\"text\":[\"<Grandet au Tribunal de Premi\\u00e8re Instance-2317>--<Grandet au Tribunal de Premi\\u00e8re Instance-2317>: 1217\"],\"x\":[-0.03704931903334862,-0.03704931903334862,null],\"y\":[-0.09747560304156243,-0.09747560304156243,null],\"type\":\"scatter\"},{\"hoverinfo\":\"text\",\"line\":{\"color\":\"cornflowerblue\",\"width\":5465.335621865307},\"mode\":\"lines\",\"text\":[\"<Grandet au Tribunal de Premi\\u00e8re Instance-2317>--<Charles-2316>: 272\"],\"x\":[-0.03704931903334862,-0.032047667066305394,null],\"y\":[-0.09747560304156243,-0.09231273783263748,null],\"type\":\"scatter\"},{\"hoverinfo\":\"text\",\"line\":{\"color\":\"cornflowerblue\",\"width\":495.57245975992436},\"mode\":\"lines\",\"text\":[\"<Grandet au Tribunal de Premi\\u00e8re Instance-2317>--<- tu-2340>: 69\"],\"x\":[-0.03704931903334862,-0.04740445324298786,null],\"y\":[-0.09747560304156243,-0.09755335351415953,null],\"type\":\"scatter\"},{\"hoverinfo\":\"text\",\"line\":{\"color\":\"cornflowerblue\",\"width\":354.73353939456956},\"mode\":\"lines\",\"text\":[\"<Grandet au Tribunal de Premi\\u00e8re Instance-2317>--<Perrottet-2343>: 57\"],\"x\":[-0.03704931903334862,-0.04056364113969489,null],\"y\":[-0.09747560304156243,-0.0824008554707956,null],\"type\":\"scatter\"},{\"hoverinfo\":\"text\",\"line\":{\"color\":\"cornflowerblue\",\"width\":262.59921296119035},\"mode\":\"lines\",\"text\":[\"<Grandet au Tribunal de Premi\\u00e8re Instance-2317>--<un homme profond\\u00e9ment afflig\\u00e9-2345>: 48\"],\"x\":[-0.03704931903334862,-0.020172863810937247,null],\"y\":[-0.09747560304156243,-0.0989242893953455,null],\"type\":\"scatter\"},{\"hoverinfo\":\"text\",\"line\":{\"color\":\"cornflowerblue\",\"width\":199.29344018589734},\"mode\":\"lines\",\"text\":[\"<Grandet au Tribunal de Premi\\u00e8re Instance-2317>--<un pauvre gar\\u00e7on-2337>: 41\"],\"x\":[-0.03704931903334862,-0.02788256424139535,null],\"y\":[-0.09747560304156243,-0.11243626965775602,null],\"type\":\"scatter\"},{\"hoverinfo\":\"text\",\"line\":{\"color\":\"cornflowerblue\",\"width\":89.80998289378309},\"mode\":\"lines\",\"text\":[\"<Grandet au Tribunal de Premi\\u00e8re Instance-2317>--<ceux-2338>: 26\"],\"x\":[-0.03704931903334862,-0.044860960438823774,null],\"y\":[-0.09747560304156243,-0.11698716514591632,null],\"type\":\"scatter\"},{\"hoverinfo\":\"text\",\"line\":{\"color\":\"cornflowerblue\",\"width\":78.07121311189059},\"mode\":\"lines\",\"text\":[\"<Grandet au Tribunal de Premi\\u00e8re Instance-2317>--<les deux femmes-2348>: 24\"],\"x\":[-0.03704931903334862,-0.06145525894252784,null],\"y\":[-0.09747560304156243,-0.09367300993906529,null],\"type\":\"scatter\"},{\"hoverinfo\":\"text\",\"line\":{\"color\":\"cornflowerblue\",\"width\":61.80235445344087},\"mode\":\"lines\",\"text\":[\"<Grandet au Tribunal de Premi\\u00e8re Instance-2317>--<un honn\\u00eate homme-2327>: 21\"],\"x\":[-0.03704931903334862,-0.06038182929607524,null],\"y\":[-0.09747560304156243,-0.11165358006546149,null],\"type\":\"scatter\"},{\"hoverinfo\":\"text\",\"line\":{\"color\":\"cornflowerblue\",\"width\":26.700667663889877},\"mode\":\"lines\",\"text\":[\"<Grandet au Tribunal de Premi\\u00e8re Instance-2317>--<Napol\\u00e9on-2336>: 13\"],\"x\":[-0.03704931903334862,-0.04051171945746461,null],\"y\":[-0.09747560304156243,-0.1320604115921978,null],\"type\":\"scatter\"},{\"hoverinfo\":\"text\",\"line\":{\"color\":\"cornflowerblue\",\"width\":87758.65758706916},\"mode\":\"lines\",\"text\":[\"<Eug\\u00e9nie-1205>--<Eug\\u00e9nie-1205>: 1329\"],\"x\":[-0.09123440372754064,-0.09123440372754064,null],\"y\":[0.27456009138729115,0.27456009138729115,null],\"type\":\"scatter\"},{\"hoverinfo\":\"text\",\"line\":{\"color\":\"cornflowerblue\",\"width\":699.2138228371626},\"mode\":\"lines\",\"text\":[\"<Eug\\u00e9nie-1205>--<le-1247>: 84\"],\"x\":[-0.09123440372754064,-0.07829278471678348,null],\"y\":[0.27456009138729115,0.271144791269305,null],\"type\":\"scatter\"},{\"hoverinfo\":\"text\",\"line\":{\"color\":\"cornflowerblue\",\"width\":422.636709339117},\"mode\":\"lines\",\"text\":[\"<Eug\\u00e9nie-1205>--<Nanon-1239>: 63\"],\"x\":[-0.09123440372754064,-0.08595518071860171,null],\"y\":[0.27456009138729115,0.2649571805314766,null],\"type\":\"scatter\"},{\"hoverinfo\":\"text\",\"line\":{\"color\":\"cornflowerblue\",\"width\":182.59308109572365},\"mode\":\"lines\",\"text\":[\"<Eug\\u00e9nie-1205>--<ces jeunes gens de Paris-1263>: 39\"],\"x\":[-0.09123440372754064,-0.09843469019443585,null],\"y\":[0.27456009138729115,0.2600103737218867,null],\"type\":\"scatter\"},{\"hoverinfo\":\"text\",\"line\":{\"color\":\"cornflowerblue\",\"width\":115.36749172698319},\"mode\":\"lines\",\"text\":[\"<Eug\\u00e9nie-1205>--<ses-1258>: 30\"],\"x\":[-0.09123440372754064,-0.08703982366122774,null],\"y\":[0.27456009138729115,0.2919106227981453,null],\"type\":\"scatter\"},{\"hoverinfo\":\"text\",\"line\":{\"color\":\"cornflowerblue\",\"width\":108.72207964948198},\"mode\":\"lines\",\"text\":[\"<Eug\\u00e9nie-1205>--<il-1269>: 29\"],\"x\":[-0.09123440372754064,-0.11009034447684989,null],\"y\":[0.27456009138729115,0.26616213463846233,null],\"type\":\"scatter\"},{\"hoverinfo\":\"text\",\"line\":{\"color\":\"cornflowerblue\",\"width\":72.46778175833124},\"mode\":\"lines\",\"text\":[\"<Eug\\u00e9nie-1205>--<nous-1275>: 23\"],\"x\":[-0.09123440372754064,-0.09429688277765129,null],\"y\":[0.27456009138729115,0.3017119941967996,null],\"type\":\"scatter\"},{\"hoverinfo\":\"text\",\"line\":{\"color\":\"cornflowerblue\",\"width\":67.0441588130837},\"mode\":\"lines\",\"text\":[\"<Eug\\u00e9nie-1205>--<ce type d' enfants fortement constitu\\u00e9s-1216>: 22\"],\"x\":[-0.09123440372754064,-0.11452901131118909,null],\"y\":[0.27456009138729115,0.2825071842668696,null],\"type\":\"scatter\"},{\"hoverinfo\":\"text\",\"line\":{\"color\":\"cornflowerblue\",\"width\":61.80235445344087},\"mode\":\"lines\",\"text\":[\"<Eug\\u00e9nie-1205>--<un auteur de bonne foi-1214>: 21\"],\"x\":[-0.09123440372754064,-0.10812561769424457,null],\"y\":[0.27456009138729115,0.2961738955623874,null],\"type\":\"scatter\"},{\"hoverinfo\":\"text\",\"line\":{\"color\":\"cornflowerblue\",\"width\":56.744496540190546},\"mode\":\"lines\",\"text\":[\"<Eug\\u00e9nie-1205>--<il-1235>: 20\"],\"x\":[-0.09123440372754064,-0.07403151430671566,null],\"y\":[0.27456009138729115,0.2968615191460187,null],\"type\":\"scatter\"},{\"hoverinfo\":\"text\",\"line\":{\"color\":\"cornflowerblue\",\"width\":46985.77716720797},\"mode\":\"lines\",\"text\":[\"<Eug\\u00e9nie et sa m\\u00e8re-1499>--<Eug\\u00e9nie et sa m\\u00e8re-1499>: 930\"],\"x\":[0.3162503918385469,0.3162503918385469,null],\"y\":[0.006412649152207506,0.006412649152207506,null],\"type\":\"scatter\"},{\"hoverinfo\":\"text\",\"line\":{\"color\":\"cornflowerblue\",\"width\":4075.1628427585},\"mode\":\"lines\",\"text\":[\"<Eug\\u00e9nie et sa m\\u00e8re-1499>--<Grandet-1486>: 230\"],\"x\":[0.3162503918385469,0.3093420923465072,null],\"y\":[0.006412649152207506,0.009644138349061254,null],\"type\":\"scatter\"},{\"hoverinfo\":\"text\",\"line\":{\"color\":\"cornflowerblue\",\"width\":1016.0839667590697},\"mode\":\"lines\",\"text\":[\"<Eug\\u00e9nie et sa m\\u00e8re-1499>--<Charles-1544>: 104\"],\"x\":[0.3162503918385469,0.3074581508981817,null],\"y\":[0.006412649152207506,-0.0012594275345653052,null],\"type\":\"scatter\"},{\"hoverinfo\":\"text\",\"line\":{\"color\":\"cornflowerblue\",\"width\":546.9356849294961},\"mode\":\"lines\",\"text\":[\"<Eug\\u00e9nie et sa m\\u00e8re-1499>--<il-1538>: 73\"],\"x\":[0.3162503918385469,0.3101544434225996,null],\"y\":[0.006412649152207506,0.0203576953771441,null],\"type\":\"scatter\"},{\"hoverinfo\":\"text\",\"line\":{\"color\":\"cornflowerblue\",\"width\":422.636709339117},\"mode\":\"lines\",\"text\":[\"<Eug\\u00e9nie et sa m\\u00e8re-1499>--<il-1516>: 63\"],\"x\":[0.3162503918385469,0.32856936808987774,null],\"y\":[0.006412649152207506,0.014515260894934032,null],\"type\":\"scatter\"},{\"hoverinfo\":\"text\",\"line\":{\"color\":\"cornflowerblue\",\"width\":399.4371607046935},\"mode\":\"lines\",\"text\":[\"<Eug\\u00e9nie et sa m\\u00e8re-1499>--<Charles-1473>: 61\"],\"x\":[0.3162503918385469,0.3254342160262063,null],\"y\":[0.006412649152207506,0.002043682572161867,null],\"type\":\"scatter\"},{\"hoverinfo\":\"text\",\"line\":{\"color\":\"cornflowerblue\",\"width\":343.91435366152524},\"mode\":\"lines\",\"text\":[\"<Eug\\u00e9nie et sa m\\u00e8re-1499>--<il-1545>: 56\"],\"x\":[0.3162503918385469,0.32959896825431834,null],\"y\":[0.006412649152207506,-0.006151958202857731,null],\"type\":\"scatter\"},{\"hoverinfo\":\"text\",\"line\":{\"color\":\"cornflowerblue\",\"width\":234.5541675208745},\"mode\":\"lines\",\"text\":[\"<Eug\\u00e9nie et sa m\\u00e8re-1499>--<Cruchot-1534>: 45\"],\"x\":[0.3162503918385469,0.31692751934660796,null],\"y\":[0.006412649152207506,-0.012607145919834207,null],\"type\":\"scatter\"},{\"hoverinfo\":\"text\",\"line\":{\"color\":\"cornflowerblue\",\"width\":143.61816039328025},\"mode\":\"lines\",\"text\":[\"<Eug\\u00e9nie et sa m\\u00e8re-1499>--<nous-1546>: 34\"],\"x\":[0.3162503918385469,0.331543897931144,null],\"y\":[0.006412649152207506,0.024658727584606195,null],\"type\":\"scatter\"},{\"hoverinfo\":\"text\",\"line\":{\"color\":\"cornflowerblue\",\"width\":89.80998289378309},\"mode\":\"lines\",\"text\":[\"<Eug\\u00e9nie et sa m\\u00e8re-1499>--<nos Hollandais-1533>: 26\"],\"x\":[0.3162503918385469,0.3437640536580755,null],\"y\":[0.006412649152207506,0.0038484034118902066,null],\"type\":\"scatter\"},{\"hoverinfo\":\"text\",\"line\":{\"color\":\"cornflowerblue\",\"width\":77076.64177156199},\"mode\":\"lines\",\"text\":[\"<Eug\\u00e9nie-1353>--<Eug\\u00e9nie-1353>: 1234\"],\"x\":[0.12986887425729196,0.12986887425729196,null],\"y\":[-0.173389192554589,-0.173389192554589,null],\"type\":\"scatter\"},{\"hoverinfo\":\"text\",\"line\":{\"color\":\"cornflowerblue\",\"width\":6150.833703909232},\"mode\":\"lines\",\"text\":[\"<Eug\\u00e9nie-1353>--<Il-1350>: 291\"],\"x\":[0.12986887425729196,0.12918980896681,null],\"y\":[-0.173389192554589,-0.1661093557793869,null],\"type\":\"scatter\"},{\"hoverinfo\":\"text\",\"line\":{\"color\":\"cornflowerblue\",\"width\":804.3474536267721},\"mode\":\"lines\",\"text\":[\"<Eug\\u00e9nie-1353>--<Nanon-1376>: 91\"],\"x\":[0.12986887425729196,0.11825048218294183,null],\"y\":[-0.173389192554589,-0.16766660340768788,null],\"type\":\"scatter\"},{\"hoverinfo\":\"text\",\"line\":{\"color\":\"cornflowerblue\",\"width\":546.9356849294961},\"mode\":\"lines\",\"text\":[\"<Eug\\u00e9nie-1353>--<notre plus proche parent-1374>: 73\"],\"x\":[0.12986887425729196,0.134332728920621,null],\"y\":[-0.173389192554589,-0.18108416651906087,null],\"type\":\"scatter\"},{\"hoverinfo\":\"text\",\"line\":{\"color\":\"cornflowerblue\",\"width\":89.80998289378309},\"mode\":\"lines\",\"text\":[\"<Eug\\u00e9nie-1353>--<monsieur-1361>: 26\"],\"x\":[0.12986887425729196,0.12966514889237862,null],\"y\":[-0.173389192554589,-0.19596949093550636,null],\"type\":\"scatter\"},{\"hoverinfo\":\"text\",\"line\":{\"color\":\"cornflowerblue\",\"width\":61.80235445344087},\"mode\":\"lines\",\"text\":[\"<Eug\\u00e9nie-1353>--<la femme-1363>: 21\"],\"x\":[0.12986887425729196,0.15018406780898547,null],\"y\":[-0.173389192554589,-0.16310406955738804,null],\"type\":\"scatter\"},{\"hoverinfo\":\"text\",\"line\":{\"color\":\"cornflowerblue\",\"width\":51.872843635539134},\"mode\":\"lines\",\"text\":[\"<Eug\\u00e9nie-1353>--<Nanon-1356>: 19\"],\"x\":[0.12986887425729196,0.15008296357315828,null],\"y\":[-0.173389192554589,-0.19346610067433762,null],\"type\":\"scatter\"},{\"hoverinfo\":\"text\",\"line\":{\"color\":\"cornflowerblue\",\"width\":47.189800209951834},\"mode\":\"lines\",\"text\":[\"<Eug\\u00e9nie-1353>--<les m\\u00e8res-1368>: 18\"],\"x\":[0.12986887425729196,0.11459529006951577,null],\"y\":[-0.173389192554589,-0.19743232524391435,null],\"type\":\"scatter\"},{\"hoverinfo\":\"text\",\"line\":{\"color\":\"cornflowerblue\",\"width\":30.398021452681625},\"mode\":\"lines\",\"text\":[\"<Eug\\u00e9nie-1353>--<ses-1375>: 14\"],\"x\":[0.12986887425729196,0.16093940879512975,null],\"y\":[-0.173389192554589,-0.17865483443882418,null],\"type\":\"scatter\"},{\"hoverinfo\":\"text\",\"line\":{\"color\":\"cornflowerblue\",\"width\":19.93234766997288},\"mode\":\"lines\",\"text\":[\"<Eug\\u00e9nie-1353>--<la servante-1362>: 11\"],\"x\":[0.12986887425729196,0.14216835062851332,null],\"y\":[-0.173389192554589,-0.21174460701294123,null],\"type\":\"scatter\"},{\"hoverinfo\":\"text\",\"line\":{\"color\":\"cornflowerblue\",\"width\":91019.82331346291},\"mode\":\"lines\",\"text\":[\"<un homme-191>--<un homme-191>: 1357\"],\"x\":[-0.18918341856381288,-0.18918341856381288,null],\"y\":[-0.4063714843391057,-0.4063714843391057,null],\"type\":\"scatter\"},{\"hoverinfo\":\"text\",\"line\":{\"color\":\"cornflowerblue\",\"width\":174.4787530485653},\"mode\":\"lines\",\"text\":[\"<un homme-191>--<La grande Nanon-240>: 38\"],\"x\":[-0.18918341856381288,-0.1873287779561986,null],\"y\":[-0.4063714843391057,-0.3948032106490831,null],\"type\":\"scatter\"},{\"hoverinfo\":\"text\",\"line\":{\"color\":\"cornflowerblue\",\"width\":72.46778175833124},\"mode\":\"lines\",\"text\":[\"<un homme-191>--<rangeaient-247>: 23\"],\"x\":[-0.18918341856381288,-0.20067304733084573,null],\"y\":[-0.4063714843391057,-0.38815748993127114,null],\"type\":\"scatter\"},{\"hoverinfo\":\"text\",\"line\":{\"color\":\"cornflowerblue\",\"width\":56.744496540190546},\"mode\":\"lines\",\"text\":[\"<un homme-191>--<le garde d' un voisin-251>: 20\"],\"x\":[-0.18918341856381288,-0.16935942605957408,null],\"y\":[-0.4063714843391057,-0.40027783377108483,null],\"type\":\"scatter\"},{\"hoverinfo\":\"text\",\"line\":{\"color\":\"cornflowerblue\",\"width\":42.69793454582271},\"mode\":\"lines\",\"text\":[\"<un homme-191>--<les gens capables-222>: 17\"],\"x\":[-0.18918341856381288,-0.21362471473399527,null],\"y\":[-0.4063714843391057,-0.4036490263351308,null],\"type\":\"scatter\"},{\"hoverinfo\":\"text\",\"line\":{\"color\":\"cornflowerblue\",\"width\":42.69793454582271},\"mode\":\"lines\",\"text\":[\"<un homme-191>--<les mara\\u00eechers-243>: 17\"],\"x\":[-0.18918341856381288,-0.16776281822797812,null],\"y\":[-0.4063714843391057,-0.4183546095801854,null],\"type\":\"scatter\"},{\"hoverinfo\":\"text\",\"line\":{\"color\":\"cornflowerblue\",\"width\":34.29896050043649},\"mode\":\"lines\",\"text\":[\"<un homme-191>--<qu'-257>: 15\"],\"x\":[-0.18918341856381288,-0.1772386518709403,null],\"y\":[-0.4063714843391057,-0.43060689895400733,null],\"type\":\"scatter\"},{\"hoverinfo\":\"text\",\"line\":{\"color\":\"cornflowerblue\",\"width\":30.398021452681625},\"mode\":\"lines\",\"text\":[\"<un homme-191>--<ses-255>: 14\"],\"x\":[-0.18918341856381288,-0.20701157453230298,null],\"y\":[-0.4063714843391057,-0.433013082990103,null],\"type\":\"scatter\"},{\"hoverinfo\":\"text\",\"line\":{\"color\":\"cornflowerblue\",\"width\":30.398021452681625},\"mode\":\"lines\",\"text\":[\"<un homme-191>--<lui-256>: 14\"],\"x\":[-0.18918341856381288,-0.19200783165809887,null],\"y\":[-0.4063714843391057,-0.4363005196727292,null],\"type\":\"scatter\"},{\"hoverinfo\":\"text\",\"line\":{\"color\":\"cornflowerblue\",\"width\":26.700667663889877},\"mode\":\"lines\",\"text\":[\"<un homme-191>--<Chacun-196>: 13\"],\"x\":[-0.18918341856381288,-0.21762912014992628,null],\"y\":[-0.4063714843391057,-0.42020881804988197,null],\"type\":\"scatter\"},{\"hoverinfo\":\"text\",\"line\":{\"color\":\"cornflowerblue\",\"width\":59466.05163833934},\"mode\":\"lines\",\"text\":[\"<l'-2932>--<l'-2932>: 1064\"],\"x\":[0.13747934011219176,0.13747934011219176,null],\"y\":[0.008068994877830856,0.008068994877830856,null],\"type\":\"scatter\"},{\"hoverinfo\":\"text\",\"line\":{\"color\":\"cornflowerblue\",\"width\":13344.217384482428},\"mode\":\"lines\",\"text\":[\"<l'-2932>--<ma\\u00eetre Cruchot-2957>: 453\"],\"x\":[0.13747934011219176,0.1323905492280932,null],\"y\":[0.008068994877830856,0.006092022175417211,null],\"type\":\"scatter\"},{\"hoverinfo\":\"text\",\"line\":{\"color\":\"cornflowerblue\",\"width\":354.73353939456956},\"mode\":\"lines\",\"text\":[\"<l'-2932>--<la m\\u00e8re-2935>: 57\"],\"x\":[0.13747934011219176,0.12971486272108496,null],\"y\":[0.008068994877830856,0.020065142436787777,null],\"type\":\"scatter\"},{\"hoverinfo\":\"text\",\"line\":{\"color\":\"cornflowerblue\",\"width\":354.73353939456956},\"mode\":\"lines\",\"text\":[\"<l'-2932>--<ses soins les plus tendres-2950>: 57\"],\"x\":[0.13747934011219176,0.12231010462894798,null],\"y\":[0.008068994877830856,0.0006843173688883586,null],\"type\":\"scatter\"},{\"hoverinfo\":\"text\",\"line\":{\"color\":\"cornflowerblue\",\"width\":143.61816039328025},\"mode\":\"lines\",\"text\":[\"<l'-2932>--<monsieur votre p\\u00e8re-2959>: 34\"],\"x\":[0.13747934011219176,0.14113229756087267,null],\"y\":[0.008068994877830856,0.027758872636605158,null],\"type\":\"scatter\"},{\"hoverinfo\":\"text\",\"line\":{\"color\":\"cornflowerblue\",\"width\":129.16168938297054},\"mode\":\"lines\",\"text\":[\"<l'-2932>--<Eug\\u00e9nie-2902>: 32\"],\"x\":[0.13747934011219176,0.14109174477358272,null],\"y\":[0.008068994877830856,-0.012278026455827103,null],\"type\":\"scatter\"},{\"hoverinfo\":\"text\",\"line\":{\"color\":\"cornflowerblue\",\"width\":129.16168938297054},\"mode\":\"lines\",\"text\":[\"<l'-2932>--<lui-2965>: 32\"],\"x\":[0.13747934011219176,0.15334508925246082,null],\"y\":[0.008068994877830856,0.014029362202006719,null],\"type\":\"scatter\"},{\"hoverinfo\":\"text\",\"line\":{\"color\":\"cornflowerblue\",\"width\":102.24634908146199},\"mode\":\"lines\",\"text\":[\"<l'-2932>--<un monde \\u00e9go\\u00efste-2947>: 28\"],\"x\":[0.13747934011219176,0.15463314292889574,null],\"y\":[0.008068994877830856,-0.004770374947801793,null],\"type\":\"scatter\"},{\"hoverinfo\":\"text\",\"line\":{\"color\":\"cornflowerblue\",\"width\":30.398021452681625},\"mode\":\"lines\",\"text\":[\"<l'-2932>--<te-2964>: 14\"],\"x\":[0.13747934011219176,0.16115621765895285,null],\"y\":[0.008068994877830856,0.02914185534624595,null],\"type\":\"scatter\"},{\"hoverinfo\":\"text\",\"line\":{\"color\":\"cornflowerblue\",\"width\":30.398021452681625},\"mode\":\"lines\",\"text\":[\"<l'-2932>--<nous-2966>: 14\"],\"x\":[0.13747934011219176,0.1697417468882696,null],\"y\":[0.008068994877830856,0.0059308893849752044,null],\"type\":\"scatter\"},{\"hoverinfo\":\"none\",\"marker\":{\"color\":[\"cornflowerblue\",\"cornflowerblue\",\"cornflowerblue\",\"cornflowerblue\",\"cornflowerblue\",\"cornflowerblue\",\"cornflowerblue\",\"cornflowerblue\",\"cornflowerblue\",\"cornflowerblue\",\"cornflowerblue\"],\"size\":[2240,1525,1320,975,975,960,890,820,735,730]},\"mode\":\"markers+text\",\"text\":[\"<b><La fille-2687></b>\",\"<b><Eug\\u00e9nie-3301></b>\",\"<b><le p\\u00e8re-2169></b>\",\"<b><monsieur Grandet-943></b>\",\"<b><Grandet au Tribunal de Premi\\u00e8re Instance-2317></b>\",\"<b><Eug\\u00e9nie-1205></b>\",\"<b><Eug\\u00e9nie et sa m\\u00e8re-1499></b>\",\"<b><Eug\\u00e9nie-1353></b>\",\"<b><un homme-191></b>\",\"<b><l'-2932></b>\"],\"textfont\":{\"size\":10},\"textposition\":\"top center\",\"x\":[1.0,-0.34071709250953536,-0.11069533014569612,0.09113889768074059,-0.03704931903334862,-0.09123440372754064,0.3162503918385469,0.12986887425729196,-0.18918341856381288,0.13747934011219176,-0.3345673663824666],\"y\":[-0.11335116829451815,0.14716986444343175,0.054226259624940244,0.20050028238575712,-0.09747560304156243,0.27456009138729115,0.006412649152207506,-0.173389192554589,-0.4063714843391057,0.008068994877830856,0.13709971365553614],\"type\":\"scatter\"}],                        {\"paper_bgcolor\":\"rgba(0,0,0,0)\",\"plot_bgcolor\":\"rgba(0,0,0,0)\",\"template\":{\"data\":{\"bar\":[{\"error_x\":{\"color\":\"#2a3f5f\"},\"error_y\":{\"color\":\"#2a3f5f\"},\"marker\":{\"line\":{\"color\":\"#E5ECF6\",\"width\":0.5},\"pattern\":{\"fillmode\":\"overlay\",\"size\":10,\"solidity\":0.2}},\"type\":\"bar\"}],\"barpolar\":[{\"marker\":{\"line\":{\"color\":\"#E5ECF6\",\"width\":0.5},\"pattern\":{\"fillmode\":\"overlay\",\"size\":10,\"solidity\":0.2}},\"type\":\"barpolar\"}],\"carpet\":[{\"aaxis\":{\"endlinecolor\":\"#2a3f5f\",\"gridcolor\":\"white\",\"linecolor\":\"white\",\"minorgridcolor\":\"white\",\"startlinecolor\":\"#2a3f5f\"},\"baxis\":{\"endlinecolor\":\"#2a3f5f\",\"gridcolor\":\"white\",\"linecolor\":\"white\",\"minorgridcolor\":\"white\",\"startlinecolor\":\"#2a3f5f\"},\"type\":\"carpet\"}],\"choropleth\":[{\"colorbar\":{\"outlinewidth\":0,\"ticks\":\"\"},\"type\":\"choropleth\"}],\"contour\":[{\"colorbar\":{\"outlinewidth\":0,\"ticks\":\"\"},\"colorscale\":[[0.0,\"#0d0887\"],[0.1111111111111111,\"#46039f\"],[0.2222222222222222,\"#7201a8\"],[0.3333333333333333,\"#9c179e\"],[0.4444444444444444,\"#bd3786\"],[0.5555555555555556,\"#d8576b\"],[0.6666666666666666,\"#ed7953\"],[0.7777777777777778,\"#fb9f3a\"],[0.8888888888888888,\"#fdca26\"],[1.0,\"#f0f921\"]],\"type\":\"contour\"}],\"contourcarpet\":[{\"colorbar\":{\"outlinewidth\":0,\"ticks\":\"\"},\"type\":\"contourcarpet\"}],\"heatmap\":[{\"colorbar\":{\"outlinewidth\":0,\"ticks\":\"\"},\"colorscale\":[[0.0,\"#0d0887\"],[0.1111111111111111,\"#46039f\"],[0.2222222222222222,\"#7201a8\"],[0.3333333333333333,\"#9c179e\"],[0.4444444444444444,\"#bd3786\"],[0.5555555555555556,\"#d8576b\"],[0.6666666666666666,\"#ed7953\"],[0.7777777777777778,\"#fb9f3a\"],[0.8888888888888888,\"#fdca26\"],[1.0,\"#f0f921\"]],\"type\":\"heatmap\"}],\"heatmapgl\":[{\"colorbar\":{\"outlinewidth\":0,\"ticks\":\"\"},\"colorscale\":[[0.0,\"#0d0887\"],[0.1111111111111111,\"#46039f\"],[0.2222222222222222,\"#7201a8\"],[0.3333333333333333,\"#9c179e\"],[0.4444444444444444,\"#bd3786\"],[0.5555555555555556,\"#d8576b\"],[0.6666666666666666,\"#ed7953\"],[0.7777777777777778,\"#fb9f3a\"],[0.8888888888888888,\"#fdca26\"],[1.0,\"#f0f921\"]],\"type\":\"heatmapgl\"}],\"histogram\":[{\"marker\":{\"pattern\":{\"fillmode\":\"overlay\",\"size\":10,\"solidity\":0.2}},\"type\":\"histogram\"}],\"histogram2d\":[{\"colorbar\":{\"outlinewidth\":0,\"ticks\":\"\"},\"colorscale\":[[0.0,\"#0d0887\"],[0.1111111111111111,\"#46039f\"],[0.2222222222222222,\"#7201a8\"],[0.3333333333333333,\"#9c179e\"],[0.4444444444444444,\"#bd3786\"],[0.5555555555555556,\"#d8576b\"],[0.6666666666666666,\"#ed7953\"],[0.7777777777777778,\"#fb9f3a\"],[0.8888888888888888,\"#fdca26\"],[1.0,\"#f0f921\"]],\"type\":\"histogram2d\"}],\"histogram2dcontour\":[{\"colorbar\":{\"outlinewidth\":0,\"ticks\":\"\"},\"colorscale\":[[0.0,\"#0d0887\"],[0.1111111111111111,\"#46039f\"],[0.2222222222222222,\"#7201a8\"],[0.3333333333333333,\"#9c179e\"],[0.4444444444444444,\"#bd3786\"],[0.5555555555555556,\"#d8576b\"],[0.6666666666666666,\"#ed7953\"],[0.7777777777777778,\"#fb9f3a\"],[0.8888888888888888,\"#fdca26\"],[1.0,\"#f0f921\"]],\"type\":\"histogram2dcontour\"}],\"mesh3d\":[{\"colorbar\":{\"outlinewidth\":0,\"ticks\":\"\"},\"type\":\"mesh3d\"}],\"parcoords\":[{\"line\":{\"colorbar\":{\"outlinewidth\":0,\"ticks\":\"\"}},\"type\":\"parcoords\"}],\"pie\":[{\"automargin\":true,\"type\":\"pie\"}],\"scatter\":[{\"marker\":{\"colorbar\":{\"outlinewidth\":0,\"ticks\":\"\"}},\"type\":\"scatter\"}],\"scatter3d\":[{\"line\":{\"colorbar\":{\"outlinewidth\":0,\"ticks\":\"\"}},\"marker\":{\"colorbar\":{\"outlinewidth\":0,\"ticks\":\"\"}},\"type\":\"scatter3d\"}],\"scattercarpet\":[{\"marker\":{\"colorbar\":{\"outlinewidth\":0,\"ticks\":\"\"}},\"type\":\"scattercarpet\"}],\"scattergeo\":[{\"marker\":{\"colorbar\":{\"outlinewidth\":0,\"ticks\":\"\"}},\"type\":\"scattergeo\"}],\"scattergl\":[{\"marker\":{\"colorbar\":{\"outlinewidth\":0,\"ticks\":\"\"}},\"type\":\"scattergl\"}],\"scattermapbox\":[{\"marker\":{\"colorbar\":{\"outlinewidth\":0,\"ticks\":\"\"}},\"type\":\"scattermapbox\"}],\"scatterpolar\":[{\"marker\":{\"colorbar\":{\"outlinewidth\":0,\"ticks\":\"\"}},\"type\":\"scatterpolar\"}],\"scatterpolargl\":[{\"marker\":{\"colorbar\":{\"outlinewidth\":0,\"ticks\":\"\"}},\"type\":\"scatterpolargl\"}],\"scatterternary\":[{\"marker\":{\"colorbar\":{\"outlinewidth\":0,\"ticks\":\"\"}},\"type\":\"scatterternary\"}],\"surface\":[{\"colorbar\":{\"outlinewidth\":0,\"ticks\":\"\"},\"colorscale\":[[0.0,\"#0d0887\"],[0.1111111111111111,\"#46039f\"],[0.2222222222222222,\"#7201a8\"],[0.3333333333333333,\"#9c179e\"],[0.4444444444444444,\"#bd3786\"],[0.5555555555555556,\"#d8576b\"],[0.6666666666666666,\"#ed7953\"],[0.7777777777777778,\"#fb9f3a\"],[0.8888888888888888,\"#fdca26\"],[1.0,\"#f0f921\"]],\"type\":\"surface\"}],\"table\":[{\"cells\":{\"fill\":{\"color\":\"#EBF0F8\"},\"line\":{\"color\":\"white\"}},\"header\":{\"fill\":{\"color\":\"#C8D4E3\"},\"line\":{\"color\":\"white\"}},\"type\":\"table\"}]},\"layout\":{\"annotationdefaults\":{\"arrowcolor\":\"#2a3f5f\",\"arrowhead\":0,\"arrowwidth\":1},\"autotypenumbers\":\"strict\",\"coloraxis\":{\"colorbar\":{\"outlinewidth\":0,\"ticks\":\"\"}},\"colorscale\":{\"diverging\":[[0,\"#8e0152\"],[0.1,\"#c51b7d\"],[0.2,\"#de77ae\"],[0.3,\"#f1b6da\"],[0.4,\"#fde0ef\"],[0.5,\"#f7f7f7\"],[0.6,\"#e6f5d0\"],[0.7,\"#b8e186\"],[0.8,\"#7fbc41\"],[0.9,\"#4d9221\"],[1,\"#276419\"]],\"sequential\":[[0.0,\"#0d0887\"],[0.1111111111111111,\"#46039f\"],[0.2222222222222222,\"#7201a8\"],[0.3333333333333333,\"#9c179e\"],[0.4444444444444444,\"#bd3786\"],[0.5555555555555556,\"#d8576b\"],[0.6666666666666666,\"#ed7953\"],[0.7777777777777778,\"#fb9f3a\"],[0.8888888888888888,\"#fdca26\"],[1.0,\"#f0f921\"]],\"sequentialminus\":[[0.0,\"#0d0887\"],[0.1111111111111111,\"#46039f\"],[0.2222222222222222,\"#7201a8\"],[0.3333333333333333,\"#9c179e\"],[0.4444444444444444,\"#bd3786\"],[0.5555555555555556,\"#d8576b\"],[0.6666666666666666,\"#ed7953\"],[0.7777777777777778,\"#fb9f3a\"],[0.8888888888888888,\"#fdca26\"],[1.0,\"#f0f921\"]]},\"colorway\":[\"#636efa\",\"#EF553B\",\"#00cc96\",\"#ab63fa\",\"#FFA15A\",\"#19d3f3\",\"#FF6692\",\"#B6E880\",\"#FF97FF\",\"#FECB52\"],\"font\":{\"color\":\"#2a3f5f\"},\"geo\":{\"bgcolor\":\"white\",\"lakecolor\":\"white\",\"landcolor\":\"#E5ECF6\",\"showlakes\":true,\"showland\":true,\"subunitcolor\":\"white\"},\"hoverlabel\":{\"align\":\"left\"},\"hovermode\":\"closest\",\"mapbox\":{\"style\":\"light\"},\"paper_bgcolor\":\"white\",\"plot_bgcolor\":\"#E5ECF6\",\"polar\":{\"angularaxis\":{\"gridcolor\":\"white\",\"linecolor\":\"white\",\"ticks\":\"\"},\"bgcolor\":\"#E5ECF6\",\"radialaxis\":{\"gridcolor\":\"white\",\"linecolor\":\"white\",\"ticks\":\"\"}},\"scene\":{\"xaxis\":{\"backgroundcolor\":\"#E5ECF6\",\"gridcolor\":\"white\",\"gridwidth\":2,\"linecolor\":\"white\",\"showbackground\":true,\"ticks\":\"\",\"zerolinecolor\":\"white\"},\"yaxis\":{\"backgroundcolor\":\"#E5ECF6\",\"gridcolor\":\"white\",\"gridwidth\":2,\"linecolor\":\"white\",\"showbackground\":true,\"ticks\":\"\",\"zerolinecolor\":\"white\"},\"zaxis\":{\"backgroundcolor\":\"#E5ECF6\",\"gridcolor\":\"white\",\"gridwidth\":2,\"linecolor\":\"white\",\"showbackground\":true,\"ticks\":\"\",\"zerolinecolor\":\"white\"}},\"shapedefaults\":{\"line\":{\"color\":\"#2a3f5f\"}},\"ternary\":{\"aaxis\":{\"gridcolor\":\"white\",\"linecolor\":\"white\",\"ticks\":\"\"},\"baxis\":{\"gridcolor\":\"white\",\"linecolor\":\"white\",\"ticks\":\"\"},\"bgcolor\":\"#E5ECF6\",\"caxis\":{\"gridcolor\":\"white\",\"linecolor\":\"white\",\"ticks\":\"\"}},\"title\":{\"x\":0.05},\"xaxis\":{\"automargin\":true,\"gridcolor\":\"white\",\"linecolor\":\"white\",\"ticks\":\"\",\"title\":{\"standoff\":15},\"zerolinecolor\":\"white\",\"zerolinewidth\":2},\"yaxis\":{\"automargin\":true,\"gridcolor\":\"white\",\"linecolor\":\"white\",\"ticks\":\"\",\"title\":{\"standoff\":15},\"zerolinecolor\":\"white\",\"zerolinewidth\":2}}},\"showlegend\":false,\"xaxis\":{\"showticklabels\":false},\"yaxis\":{\"showticklabels\":false}},                        {\"responsive\": true}                    ).then(function(){\n",
       "                            \n",
       "var gd = document.getElementById('aea26957-e790-4895-833e-7c5519177aa5');\n",
       "var x = new MutationObserver(function (mutations, observer) {{\n",
       "        var display = window.getComputedStyle(gd).display;\n",
       "        if (!display || display === 'none') {{\n",
       "            console.log([gd, 'removed!']);\n",
       "            Plotly.purge(gd);\n",
       "            observer.disconnect();\n",
       "        }}\n",
       "}});\n",
       "\n",
       "// Listen for the removal of the full notebook cells\n",
       "var notebookContainer = gd.closest('#notebook-container');\n",
       "if (notebookContainer) {{\n",
       "    x.observe(notebookContainer, {childList: true});\n",
       "}}\n",
       "\n",
       "// Listen for the clearing of the current output cell\n",
       "var outputEl = gd.closest('.output');\n",
       "if (outputEl) {{\n",
       "    x.observe(outputEl, {childList: true});\n",
       "}}\n",
       "\n",
       "                        })                };                });            </script>        </div>"
      ]
     },
     "metadata": {},
     "output_type": "display_data"
    },
    {
     "data": {
      "text/plain": [
       "'GrandetGraph.html'"
      ]
     },
     "execution_count": 127,
     "metadata": {},
     "output_type": "execute_result"
    }
   ],
   "source": [
    "layout = go.Layout(\n",
    "    paper_bgcolor='rgba(0,0,0,0)',\n",
    "    plot_bgcolor='rgba(0,0,0,0)'\n",
    ")\n",
    "\n",
    "\n",
    "fig = go.Figure(layout = layout)\n",
    "\n",
    "for trace in edge_trace:\n",
    "    fig.add_trace(trace)\n",
    "\n",
    "fig.add_trace(node_trace)\n",
    "\n",
    "fig.update_layout(showlegend = False)\n",
    "\n",
    "fig.update_xaxes(showticklabels = False)\n",
    "\n",
    "fig.update_yaxes(showticklabels = False)\n",
    "\n",
    "fig.show()\n",
    "py.plot(fig, filename='GrandetGraph.html')"
   ]
  },
  {
   "cell_type": "code",
   "execution_count": null,
   "metadata": {},
   "outputs": [],
   "source": []
  }
 ],
 "metadata": {
  "kernelspec": {
   "display_name": "Python 3",
   "language": "python",
   "name": "python3"
  },
  "language_info": {
   "codemirror_mode": {
    "name": "ipython",
    "version": 3
   },
   "file_extension": ".py",
   "mimetype": "text/x-python",
   "name": "python",
   "nbconvert_exporter": "python",
   "pygments_lexer": "ipython3",
   "version": "3.8.3"
  }
 },
 "nbformat": 4,
 "nbformat_minor": 4
}
